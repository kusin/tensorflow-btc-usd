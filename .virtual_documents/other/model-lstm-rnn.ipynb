





# pustaka untuk manipulasi data-frame
import pandas as pd
from pandas import concat
from pandas import read_csv
from pandas import read_excel
from pandas_datareader import DataReader

# pustaka untuk madnipulasi data-array
import numpy as np
from numpy import concatenate
from numpy import array

# pustaka untuk waktu komputasi
import time
from datetime import datetime

# pustaka untuk visualisasi data
import seaborn as sns
from matplotlib import pyplot
from matplotlib import pyplot as plt

# pustaka untuk visualisasi acf dan pacf
import scipy.stats as sc
import statsmodels.api as sm
from statsmodels.graphics.tsaplots import plot_pacf
from statsmodels.graphics.tsaplots import plot_acf
        
# pustaka untuk membuat data latih dan data uji.
from sklearn.model_selection import train_test_split
from sklearn.preprocessing import MinMaxScaler
from sklearn.preprocessing import LabelEncoder

# pustaka untuk membuat model prediksi LSTM-RNN
import itertools
import tensorflow as tf
from keras.utils import Sequence
from keras.models import Sequential
from keras.layers import SimpleRNN
from keras.layers import LSTM
from keras.layers import GRU
from keras.layers import Dense
from keras.layers import Dropout
from keras.layers import TimeDistributed
from keras.layers import Bidirectional
from keras.optimizers import Adam, Adamax, RMSprop, SGD

# early stoping
from keras.callbacks import EarlyStopping
from keras.callbacks import ModelCheckpoint

# pustaka untuk  evaluasi model prediksi
import math
from math import sqrt
from sklearn.metrics import mean_squared_error
from sklearn.metrics import mean_absolute_error





# Set waktu komputasi
start = time.time()


tf.random.set_seed(1234)


# membaca dataset via csv file
dataset = read_csv("dataset/BTC-USD.csv", parse_dates=['Date']);


# set index tanggal
dataset = dataset.set_index("Date");


# menampilkan metadata dataset
dataset.info();


dataset





# membuat frame
fig, ((ax1, ax2), (ax3, ax4)) = plt.subplots(nrows=2, ncols=2, facecolor="#f0f0f0", figsize=(20, 10))

# membuat time series plot
ax1.plot(dataset.index.values, dataset["Open"], color="tab:blue", label="Open Price", linewidth=2)

# membuat label-label
ax1.set_title("Open Price Bitcoin", fontsize=14)
ax1.set_xlabel("Date", fontsize=12)
ax1.set_ylabel("Stock Price", fontsize=12)
ax1.legend(loc='upper left')
ax1.grid(True)
# ----------------------------------------------------------------------------------------------------

# membuat time series plot
ax2.plot(dataset.index.values, dataset["Close"], color="tab:green", label="Close Price", linewidth=2)

# membuat label-label
ax2.set_title("Close Price Bitcoin", fontsize=14)
ax2.set_xlabel("Date", fontsize=12)
ax2.set_ylabel("Stock Price", fontsize=12)
ax2.legend(loc='upper left')
ax2.grid(True)
# ----------------------------------------------------------------------------------------------------

# membuat time series plot
ax3.plot(dataset.index.values, dataset["High"], color="tab:orange", label="High Price", linewidth=2)

# membuat label-label
ax3.set_title("High Price Bitcoin", fontsize=14)
ax3.set_xlabel("Date", fontsize=12)
ax3.set_ylabel("Stock Price", fontsize=12)
ax3.legend(loc='upper left')
ax3.grid(True)
# ----------------------------------------------------------------------------------------------------

# membuat time series plot
ax4.plot(dataset.index.values, dataset["Low"], color="tab:red", label="Low Price", linewidth=2)

# membuat label-label
ax4.set_title("Low Price Bitcoin", fontsize=14)
ax4.set_xlabel("Date", fontsize=12)
ax4.set_ylabel("Stock Price", fontsize=12)
ax4.legend(loc='upper left')
ax4.grid(True)
# ----------------------------------------------------------------------------------------------------

# set the spacing between subplots
plt.subplots_adjust(wspace=0.15, hspace=0.25)

# menampilkan plot
plt.show()








# memilih fitur close price
dataset = dataset.filter(['Close']);


# convert dataframe to series close price
data = dataset.values


np.round(data[:5],7)


data.shape





# normalize features
scaler = MinMaxScaler(feature_range=(0, 1))
scaled_data = scaler.fit_transform(np.array(data).reshape(-1,1))


np.round(scaled_data[:5],7)


scaled_data.shape


# membuat frame
fig, ax = plt.subplots(figsize = (10,5))

# membuat time series plot
ax.plot(dataset.index.values, scaled_data, color="tab:blue", label="CLose Price", linewidth=2)

# membuat label-label
ax.set_title("Close Price Bitcoin", fontsize=12)
ax.set_xlabel("Date", fontsize=10)
ax.set_ylabel("Stock Price", fontsize=10)
ax.legend(loc='upper left')
ax.grid(True)

# menampilkan plot
plt.show()





# split data train and test
train_data, test_data = train_test_split(scaled_data, train_size=0.80, test_size=0.20, shuffle=False)


# data train
np.round(train_data[:5],7)


train_data.shape


# data test
np.round(test_data[:5],7)


test_data.shape





# convert an array of values into a dataset matrix

# function for supervised learning
def create_dataset(look_back, dataset):
    
    # declare variable X and Y
    dataX = []
    dataY = []
    
    # for loop for create supervised learning
    for i in range(look_back, len(dataset)):
        
        # insert value X and Y 
        dataX.append(dataset[i-look_back:i, 0])
        dataY.append(dataset[i, 0])
        
    # return value X and Y
    return np.array(dataX), np.array(dataY)


# process supervised learning
look_back = 60
x_train, y_train = create_dataset(look_back, train_data)
x_test, y_test = create_dataset(look_back, test_data)


print(x_train.shape, y_train.shape)


print(x_test.shape, y_test.shape)


# reshape input to be [samples, time steps, features]
x_train = np.reshape(x_train, (x_train.shape[0], x_train.shape[1], 1))
x_test = np.reshape(x_test, (x_test.shape[0], x_test.shape[1], 1))


print(x_train.shape, x_test.shape)








tf.random.set_seed(1234)


# The LSTM-RNN architecture
model_1 = tf.keras.Sequential([
    
    # The input layer
    tf.keras.layers.LSTM(units=50, return_sequences=False, input_shape=(x_train.shape[1], 1)),
    
    # The output layer
    tf.keras.layers.Dense(1)
])


# Compile the model LSTM
model_1.compile(
    optimizer=tf.keras.optimizers.Adam(learning_rate=0.00075),
    loss='mean_squared_error'
)


# fit network
history_1 = model_1.fit(x_train, y_train, batch_size=8, epochs=50, verbose=1, use_multiprocessing=True, shuffle=False)


model_1.summary()


predictions_1 = model_1.predict(x_test)


print(predictions_1[:7])


# membuat frame
fig, ax = plt.subplots(figsize = (10,5))

# membuat time series plot
ax.plot(history_1.history['loss'], color="tab:blue", label="loss func", linewidth=2.5)

# membuat label-label
ax.set_title("Percobaan 1 - Grafik Loss Function", fontsize=14)
ax.set_xlabel("epoch", fontsize=10)
ax.set_ylabel("loss function", fontsize=10)
ax.legend(loc='upper right')
ax.grid(True)

# menampilkan plot
plt.show()





scores_1 = model_1.evaluate(x_train, y_train)
scores_1


scores_1 = model_1.evaluate(x_test, y_test)
scores_1





mae_1 = mean_absolute_error(y_test, predictions_1)
print('Test MAE : %.4f' % mae_1)





mse_1 = mean_squared_error(y_test, predictions_1)
print('Test MSE: %.4f' % mse_1)





rmse_1 = sqrt(mse_1)
print('Test RMSE: %.4f' % rmse_1)





hasil_1 = np.stack((y_test.reshape(-1), predictions_1.reshape(-1)), axis=1)
hasil_1 = pd.DataFrame(hasil_1, columns = ['data_aktual','prediksi'])
hasil_1


r1, p1 = sc.pearsonr(hasil_1["data_aktual"], hasil_1["prediksi"])
print("korelasi data akual dengan hasil prediksi" +" {:.4f} ".format(r1)+ "dengan signifikansi" +" {:.4f} ".format(p1))





# membuat frame
fig, ax = plt.subplots(figsize = (10,5))

# membuat time series plot
ax.plot(y_test, color="tab:blue", label="data aktual", linewidth=2.5)
ax.plot(predictions_1, color="tab:red", label="data prediksi", linewidth=2.5)

# membuat label-label
ax.set_title("Percobaan 1 - Vanilla LSTM-RNN", fontsize=14)
ax.legend(loc="best")
ax.grid(True)

# menampilka
plt.show()


# inverse value test predictions
predictions_1 = scaler.inverse_transform(predictions_1)


# shift test predictions for plotting
predictionsPlot_1 = np.empty_like(scaled_data)
predictionsPlot_1[:, :] = np.nan
predictionsPlot_1[(len(dataset) - predictions_1.shape[0]):len(dataset), :] = predictions_1


# membuat frame
fig, ax = plt.subplots(figsize = (15,5))

# membuat time series plot
ax.plot(dataset.index.values, scaler.inverse_transform(scaled_data), color="tab:blue", label="data aktual", linewidth=2.5)
ax.plot(dataset.index.values, predictionsPlot_1, color="tab:red", label="data prediksi", linewidth=2.5)

# membuat label-label
ax.set_title("Percobaan 1 - Vanilla LSTM-RNN", fontsize=14)
ax.set_xlabel("Years", fontsize=10)
ax.set_ylabel("Price BTC-USD", fontsize=10)
ax.legend(loc="best")
ax.grid(True)

# menampilkan plot
plt.show()





tf.random.set_seed(1234)


# The LSTM-RNN architecture
model_2 = tf.keras.Sequential([
    
    # First LSTM layer with Dropout regularisation
    tf.keras.layers.LSTM(units=50, return_sequences=True, input_shape=(x_train.shape[1], 1)),
    
    # Secound LSTM layer with Dropout regularisation
    tf.keras.layers.LSTM(units=50, return_sequences=False),
    
    # The output layer
    tf.keras.layers.Dense(1)
])


# Compile the model LSTM
model_2.compile(optimizer='adam', loss='mean_squared_error')


# fit network
history_2 = model_2.fit(
    x_train, y_train,
    batch_size=8, epochs=50,
    verbose=1,
    use_multiprocessing=True,
    shuffle=False
)


model_2.summary()


predictions_2 = model_2.predict(x_test)


print(predictions_2[:7])


# membuat frame
fig, ax = plt.subplots(figsize = (10,5))

# membuat time series plot
ax.plot(history_2.history['loss'], color="tab:blue", label="loss func", linewidth=2.5)

# membuat label-label
ax.set_title("Percobaan 2 - Grafik Loss Function", fontsize=14)
ax.set_xlabel("epoch", fontsize=10)
ax.set_ylabel("loss function", fontsize=10)
ax.legend(loc='upper right')
ax.grid(True)

# menampilkan plot
plt.show()





scores_2 = model_2.evaluate(x_train, y_train)
scores_2


scores_2 = model_2.evaluate(x_test, y_test)
scores_2





mae_2 = mean_absolute_error(y_test, predictions_2)
print('Test MAE : %.4f' % mae_2)





mse_2 = mean_squared_error(y_test, predictions_2)
print('Test MSE: %.4f' % mse_2)





rmse_2 = sqrt(mse_2)
print('Test RMSE: %.4f' % rmse_2)





hasil_2 = np.stack((y_test.reshape(-1), predictions_2.reshape(-1)), axis=1)
hasil_2 = pd.DataFrame(hasil_2, columns = ['data_aktual','prediksi'])
hasil_2


r2, p2 = sc.pearsonr(hasil_2["data_aktual"], hasil_2["prediksi"])
print("korelasi data akual dengan hasil prediksi" +" {:.4f} ".format(r2)+ "dengan signifikansi" +" {:.4f} ".format(p2))





# membuat frame
fig, ax = plt.subplots(figsize = (10,5))

# membuat time series plot
ax.plot(y_test, color="tab:blue", label="data aktual", linewidth=2.5)
ax.plot(predictions_2, color="tab:red", label="data prediksi", linewidth=2.5)

# membuat label-label
ax.set_title("Percobaan 2 - Stacked LSTM-RNN", fontsize=14)
ax.legend(loc="best")
ax.grid(True)

# menampilka
plt.show()


# inverse value test predictions
predictions_2 = scaler.inverse_transform(predictions_2)


# shift test predictions for plotting
predictionsPlot_2 = np.empty_like(scaled_data)
predictionsPlot_2[:, :] = np.nan
predictionsPlot_2[(len(dataset) - predictions_2.shape[0]):len(dataset), :] = predictions_2


# membuat frame
fig, ax = plt.subplots(figsize = (15,5))

# membuat time series plot
ax.plot(dataset.index.values, scaler.inverse_transform(scaled_data), color="tab:blue", label="data aktual", linewidth=2.5)
ax.plot(dataset.index.values, predictionsPlot_2, color="tab:red", label="data prediksi", linewidth=2.5)

# membuat label-label
ax.set_title("Percobaan 2 - Stacked LSTM-RNN", fontsize=14)
ax.set_xlabel("Years", fontsize=10)
ax.set_ylabel("Price BTC-USD", fontsize=10)
ax.legend(loc="best")
ax.grid(True)

# menampilkan plot
plt.show()





tf.random.set_seed(1234)


# The LSTM-RNN architecture
model_3 = tf.keras.Sequential([
    
    # The input layer
    tf.keras.layers.Bidirectional(
        tf.keras.layers.LSTM(units=50, return_sequences=False, input_shape=(x_train.shape[1], 1))
    ),
    
    # The output layer
    tf.keras.layers.Dense(1)
])


# Compile the model LSTM
model_3.compile(optimizer='adam', loss='mean_squared_error')


# fit network
history_3 = model_3.fit(
    x_train,
    y_train,
    batch_size=8,
    epochs=50,
    verbose=1,
    use_multiprocessing=True,
    shuffle=False
)


model_3.summary()


predictions_3 = model_3.predict(x_test)


print(predictions_3[:7])


# membuat frame
fig, ax = plt.subplots(figsize = (10,5))

# membuat time series plot
ax.plot(history_3.history['loss'], color="tab:blue", label="loss func", linewidth=2.5)

# membuat label-label
ax.set_title("Percobaan 3 - Grafik Loss Function", fontsize=14)
ax.set_xlabel("epoch", fontsize=10)
ax.set_ylabel("loss function", fontsize=10)
ax.legend(loc='upper right')
ax.grid(True)

# menampilkan plot
plt.show()





scores_3 = model_3.evaluate(x_train, y_train)
scores_3


scores_3 = model_3.evaluate(x_test, y_test)
scores_3





mae_3 = mean_absolute_error(y_test, predictions_3)
print('Test MAE : %.4f' % mae_3)





mse_3 = mean_squared_error(y_test, predictions_3)
print('Test MSE: %.4f' % mse_3)





rmse_3 = sqrt(mse_3)
print('Test RMSE: %.4f' % rmse_3)





hasil_3 = np.stack((y_test.reshape(-1), predictions_3.reshape(-1)), axis=1)
hasil_3 = pd.DataFrame(hasil_3, columns = ['data_aktual','prediksi'])
hasil_3


r3, p3 = sc.pearsonr(hasil_3["data_aktual"], hasil_3["prediksi"])
print("korelasi data akual dengan hasil prediksi" +" {:.4f} ".format(r3)+ "dengan signifikansi" +" {:.4f} ".format(p3))





# membuat frame
fig, ax = plt.subplots(figsize = (10,5))

# membuat time series plot
ax.plot(y_test, color="tab:blue", label="data aktual", linewidth=2.5)
ax.plot(predictions_3, color="tab:red", label="data prediksi", linewidth=2.5)

# membuat label-label
ax.set_title("Percobaan 3 - Bidirectional LSTM-RNN", fontsize=14)
ax.legend(loc="best")
ax.grid(True)

# menampilka
plt.show()


# inverse value test predictions
predictions_3 = scaler.inverse_transform(predictions_3)


# shift test predictions for plotting
predictionsPlot_3 = np.empty_like(scaled_data)
predictionsPlot_3[:, :] = np.nan
predictionsPlot_3[(len(dataset) - predictions_3.shape[0]):len(dataset), :] = predictions_3


# membuat frame
fig, ax = plt.subplots(figsize = (15,5))

# membuat time series plot
ax.plot(dataset.index.values, scaler.inverse_transform(scaled_data), color="tab:blue", label="data aktual", linewidth=2.5)
ax.plot(dataset.index.values, predictionsPlot_3, color="tab:red", label="data prediksi", linewidth=2.5)

# membuat label-label
ax.set_title("Percobaan 3 - Bidirectional LSTM-RNN", fontsize=14)
ax.set_xlabel("Years", fontsize=10)
ax.set_ylabel("Price BTC-USD", fontsize=10)
ax.legend(loc="best")
ax.grid(True)

# menampilkan plot
plt.show()





tf.random.set_seed(1234)


# The LSTM-RNN architecture
model_4 = tf.keras.Sequential([
    
    # First LSTM layer with Dropout regularisation
    tf.keras.layers.Bidirectional(
        tf.keras.layers.LSTM(units=50, return_sequences=True, input_shape=(x_train.shape[1], 1))
    ),
    
    # Secound LSTM layer with Dropout regularisation
    tf.keras.layers.Bidirectional(
        tf.keras.layers.LSTM(units=50, return_sequences=False)
    ),
    
    # The output layer
    tf.keras.layers.Dense(1)
])


# Compile the model LSTM
model_4.compile(optimizer='adam', loss='mean_squared_error')


# fit network
history_4 = model_4.fit(
    x_train,
    y_train,
    batch_size=8,
    epochs=50,
    verbose=1,
    use_multiprocessing=True,
    shuffle=False
)


model_4.summary()


predictions_4 = model_4.predict(x_test)
print(predictions_4[:7])


# membuat frame
fig, ax = plt.subplots(figsize = (10,5))

# membuat time series plot
ax.plot(history_4.history['loss'], color="tab:blue", label="loss func", linewidth=2.5)

# membuat label-label
ax.set_title("Percobaan 4 - Grafik Loss Function", fontsize=14)
ax.set_xlabel("epoch", fontsize=10)
ax.set_ylabel("loss function", fontsize=10)
ax.legend(loc='upper right')
ax.grid(True)

# menampilkan plot
plt.show()





scores_4 = model_4.evaluate(x_train, y_train)
scores_4


scores_4 = model_4.evaluate(x_test, y_test)
scores_4





mae_4 = mean_absolute_error(y_test, predictions_4)
print('Test MAE : %.4f' % mae_4)





mse_4 = mean_squared_error(y_test, predictions_4)
print('Test MSE: %.4f' % mse_4)





rmse_4 = sqrt(mse_4)
print('Test RMSE: %.4f' % rmse_4)





hasil_4 = np.stack((y_test.reshape(-1), predictions_4.reshape(-1)), axis=1)
hasil_4 = pd.DataFrame(hasil_4, columns = ['data_aktual','prediksi'])
hasil_4


r4, p4 = sc.pearsonr(hasil_4["data_aktual"], hasil_4["prediksi"])
print("korelasi data akual dengan hasil prediksi" +" {:.4f} ".format(r4)+ "dengan signifikansi" +" {:.4f} ".format(p4))





# membuat frame
fig, ax = plt.subplots(figsize = (10,5))

# membuat time series plot
ax.plot(y_test, color="tab:blue", label="data aktual", linewidth=2.5)
ax.plot(predictions_4, color="tab:red", label="data prediksi", linewidth=2.5)

# membuat label-label
ax.set_title("Percobaan 4 - Stacked-Bidirectional LSTM-RNN", fontsize=14)
ax.legend(loc="best")
ax.grid(True)

# menampilka
plt.show()


# inverse value test predictions
predictions_4 = scaler.inverse_transform(predictions_4)


# shift test predictions for plotting
predictionsPlot_4 = np.empty_like(scaled_data)
predictionsPlot_4[:, :] = np.nan
predictionsPlot_4[(len(dataset) - predictions_4.shape[0]):len(dataset), :] = predictions_4


# membuat frame
fig, ax = plt.subplots(figsize = (15,5))

# membuat time series plot
ax.plot(dataset.index.values, scaler.inverse_transform(scaled_data), color="tab:blue", label="data aktual", linewidth=2.5)
ax.plot(dataset.index.values, predictionsPlot_4, color="tab:red", label="data prediksi", linewidth=2.5)

# membuat label-label
ax.set_title("Percobaan 4 - Stacked-Bidirectional LSTM-RNN", fontsize=14)
ax.set_xlabel("Years", fontsize=10)
ax.set_ylabel("Price BTC-USD", fontsize=10)
ax.legend(loc="best")
ax.grid(True)

# menampilkan plot
plt.show()





hasil_4 = pd.DataFrame({
    'Percobaan' : ['Percobaan 1', 'Percobaan 2', 'Percobaan 3', 'Percobaan 4'],
    'MAE' : [mae_1, mae_2, mae_3, mae_4],
    'MSE' : [mse_1, mse_2, mse_3, mse_4],
    'RMSE' : [rmse_1, rmse_2, rmse_3, rmse_4],
})


hasil_4


x = np.arange(len(hasil_4["Percobaan"]))
width = 0.35


fig, ax = plt.subplots()
ax.bar(x - width/2, hasil_4["MAE"], width, label='MAE')
ax.bar(x + width/2, hasil_4["RMSE"], width, label='RMSE')
 
#ax.set_xlabel('Year')
ax.set_title('Nilai MAE dan RMSE')
ax.set_xticks(x, hasil_4["Percobaan"])
ax.legend()
 
plt.show()





# membuat frame
fig, ((ax1, ax2), (ax3, ax4)) = plt.subplots(nrows=2, ncols=2, facecolor="#f0f0f0", figsize=(20, 10))

# membuat time series plot
ax1.plot(history_1.history['loss'], color="tab:blue", label="loss function", linewidth=2)

# membuat label-label
ax1.set_title("Percobaan 1 - Model Vanilla LSTM-RNN", fontsize=14)
ax1.set_xlabel("epoch", fontsize=10)
ax1.set_ylabel("loss function", fontsize=10)
ax1.legend(loc="best")
ax1.grid(True)
# ----------------------------------------------------------------------------------------------------

# membuat time series plot
ax2.plot(history_2.history['loss'], color="tab:blue", label="loss function", linewidth=2)

# membuat label-label
ax2.set_title("Percobaan 2 - Model Stacked LSTM-RNN", fontsize=14)
ax2.set_xlabel("epoch", fontsize=10)
ax2.set_ylabel("loss function", fontsize=10)
ax2.legend(loc="best")
ax2.grid(True)
# ----------------------------------------------------------------------------------------------------

# membuat time series plot
ax3.plot(history_3.history['loss'], color="tab:blue", label="loss function", linewidth=2)

# membuat label-label
ax3.set_title("Percobaan 3 - Model Bidirectional LSTM-RNN", fontsize=14)
ax3.set_xlabel("epoch", fontsize=10)
ax3.set_ylabel("loss function", fontsize=10)
ax3.legend(loc="best")
ax3.grid(True)
# ----------------------------------------------------------------------------------------------------

# membuat time series plot
ax4.plot(history_4.history['loss'], color="tab:blue", label="loss function", linewidth=2)

# membuat label-label
ax4.set_title("Percobaan 4 - Model Stacked-Bidirectional LSTM-RNN", fontsize=14)
ax4.set_xlabel("epoch", fontsize=10)
ax4.set_ylabel("loss function", fontsize=10)
ax4.legend(loc="best")
ax4.grid(True)
# ----------------------------------------------------------------------------------------------------

# set the spacing between subplots
plt.subplots_adjust(wspace=0.15, hspace=0.25)

# menampilkan plot
plt.show()


##### membuat frame
fig, ((ax1, ax2), (ax3, ax4)) = plt.subplots(nrows=2, ncols=2, facecolor="#f0f0f0", figsize=(20, 10))

# membuat time series plot
ax1.plot(dataset.index.values, scaler.inverse_transform(scaled_data), color="tab:blue", label="data aktual", linewidth=2.5)
ax1.plot(dataset.index.values, predictionsPlot_1, color="tab:red", label="data prediksi", linewidth=2.5)

# membuat label-label
ax1.set_title("Percobaan 1 - Model Vanilla LSTM-RNN", fontsize=14)
ax1.legend(loc="best")
ax1.grid(True)
# ----------------------------------------------------------------------------------------------------

# membuat time series plot
ax2.plot(dataset.index.values, scaler.inverse_transform(scaled_data), color="tab:blue", label="data aktual", linewidth=2.5)
ax2.plot(dataset.index.values, predictionsPlot_2, color="tab:red", label="data prediksi", linewidth=2.5)

# membuat label-label
ax2.set_title("Percobaan 2 - Model Stacked LSTM-RNN", fontsize=14)
ax2.legend(loc="best")
ax2.grid(True)
# ----------------------------------------------------------------------------------------------------

# membuat time series plot
ax3.plot(dataset.index.values, scaler.inverse_transform(scaled_data), color="tab:blue", label="data aktual", linewidth=2.5)
ax3.plot(dataset.index.values, predictionsPlot_3, color="tab:red", label="data prediksi", linewidth=2.5)

# membuat label-label
ax3.set_title("Percobaan 3 - Model Bidirectional LSTM-RNN", fontsize=14)
ax3.legend(loc="best")
ax3.grid(True)
# ----------------------------------------------------------------------------------------------------

# membuat time series plot
ax4.plot(dataset.index.values, scaler.inverse_transform(scaled_data), color="tab:blue", label="data aktual", linewidth=2.5)
ax4.plot(dataset.index.values, predictionsPlot_4, color="tab:red", label="data prediksi", linewidth=2.5)

# membuat label-label
ax4.set_title("Percobaan 4 - Model Stacked-Bidirectional LSTM-RNN", fontsize=14)
ax4.legend(loc="best")
ax4.grid(True)
# ----------------------------------------------------------------------------------------------------

# set the spacing between subplots
plt.subplots_adjust(wspace=0.15, hspace=0.25)

# menampilkan plot
plt.show()





# Set akhir waktu komputasi 
end = time.time()


# Proses menghitung waktu komputasi
hours, rem = divmod(end-start, 3600)
minutes, seconds = divmod(rem, 60)


# Hasil waktu komputasi
print("{:0>2}:{:0>2}:{:05.2f}".format(int(hours),int(minutes),seconds))



