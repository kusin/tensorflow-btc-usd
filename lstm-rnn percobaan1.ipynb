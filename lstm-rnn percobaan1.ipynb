{
 "cells": [
  {
   "cell_type": "markdown",
   "id": "5057570f-8623-47d5-92dc-2e3b5ecaf51d",
   "metadata": {
    "tags": []
   },
   "source": [
    "# Stock Price BTC-USD with Stacked-Bidirectional LSTM-RNN\n",
    "- Percobaan 1 = Vanilla LSTM-RNN\n",
    "- Percobaan 2 = Stacked LSTM-RNN\n",
    "- Percobaan 3 = Bidirectional LSTM-RNN\n",
    "- Percobaan 4 = Stacked-Bidirectional LSTM-RNN"
   ]
  },
  {
   "cell_type": "markdown",
   "id": "f2dfc47e-4c39-4a07-8288-5435c3549594",
   "metadata": {
    "tags": []
   },
   "source": [
    "## 1. Deklarasi Pustaka"
   ]
  },
  {
   "cell_type": "code",
   "execution_count": null,
   "id": "354dadd9-6e0f-4ead-aa8e-5a26b34371b0",
   "metadata": {},
   "outputs": [],
   "source": [
    "# pustaka untuk manipulasi data-frame\n",
    "import pandas as pd\n",
    "from pandas import concat\n",
    "from pandas import read_csv\n",
    "from pandas import read_excel\n",
    "from pandas_datareader import DataReader\n",
    "\n",
    "# pustaka untuk madnipulasi data-array\n",
    "import numpy as np\n",
    "from numpy import concatenate\n",
    "from numpy import array\n",
    "\n",
    "# pustaka untuk waktu komputasi\n",
    "import time\n",
    "from datetime import datetime\n",
    "\n",
    "# pustaka untuk visualisasi data\n",
    "import seaborn as sns\n",
    "from matplotlib import pyplot\n",
    "from matplotlib import pyplot as plt\n",
    "\n",
    "# pustaka untuk visualisasi acf dan pacf\n",
    "import scipy.stats as sc\n",
    "import statsmodels.api as sm\n",
    "from statsmodels.graphics.tsaplots import plot_pacf\n",
    "from statsmodels.graphics.tsaplots import plot_acf\n",
    "        \n",
    "# pustaka untuk membuat data latih dan data uji.\n",
    "from sklearn.model_selection import train_test_split\n",
    "from sklearn.preprocessing import MinMaxScaler\n",
    "from sklearn.preprocessing import LabelEncoder\n",
    "\n",
    "# pustaka untuk membuat model prediksi LSTM-RNN\n",
    "import itertools\n",
    "import tensorflow as tf\n",
    "from keras.utils import Sequence\n",
    "from keras.models import Sequential\n",
    "from keras.layers import SimpleRNN\n",
    "from keras.layers import LSTM\n",
    "from keras.layers import GRU\n",
    "from keras.layers import Dense\n",
    "from keras.layers import Dropout\n",
    "from keras.layers import TimeDistributed\n",
    "from keras.layers import Bidirectional\n",
    "from keras.layers import BatchNormalization\n",
    "from keras.optimizers import Adam, Adamax, RMSprop, SGD\n",
    "\n",
    "# early stoping\n",
    "from keras.callbacks import EarlyStopping\n",
    "from keras.callbacks import ModelCheckpoint\n",
    "\n",
    "# pustaka untuk  evaluasi model prediksi\n",
    "import math\n",
    "from math import sqrt\n",
    "from sklearn.metrics import mean_squared_error\n",
    "from sklearn.metrics import mean_absolute_error"
   ]
  },
  {
   "cell_type": "markdown",
   "id": "f0b4abdd-92ee-457a-988a-78c7a65391c1",
   "metadata": {
    "tags": []
   },
   "source": [
    "## 2. Akuisisi Data"
   ]
  },
  {
   "cell_type": "code",
   "execution_count": null,
   "id": "b73a48bd-d54e-4250-b9cb-abe004cdb428",
   "metadata": {},
   "outputs": [],
   "source": [
    "# Set waktu komputasi\n",
    "start = time.time()"
   ]
  },
  {
   "cell_type": "code",
   "execution_count": null,
   "id": "d67cbfdb-1b1a-4c5b-a377-acd3aa4a6631",
   "metadata": {},
   "outputs": [],
   "source": [
    "# fix random seed for reproducibility\n",
    "np.random.seed(1234);"
   ]
  },
  {
   "cell_type": "code",
   "execution_count": null,
   "id": "43d4025b-1a3b-4dc8-80ac-9b4ba55789c6",
   "metadata": {},
   "outputs": [],
   "source": [
    "# membaca dataset via csv file\n",
    "dataset = read_csv(\"dataset/BTC-USD.csv\", parse_dates=['Date']);"
   ]
  },
  {
   "cell_type": "code",
   "execution_count": null,
   "id": "87a54f5c-a969-4a40-9318-0e7925c5593c",
   "metadata": {},
   "outputs": [],
   "source": [
    "# set index tanggal\n",
    "dataset = dataset.set_index(\"Date\");"
   ]
  },
  {
   "cell_type": "code",
   "execution_count": null,
   "id": "99458cfa-df54-4efd-b696-8fc5f935ba96",
   "metadata": {},
   "outputs": [],
   "source": [
    "# menampilkan metadata dataset\n",
    "dataset.info();"
   ]
  },
  {
   "cell_type": "code",
   "execution_count": null,
   "id": "8d9ea941-6892-4511-ab45-da96f4b0757e",
   "metadata": {},
   "outputs": [],
   "source": [
    "dataset"
   ]
  },
  {
   "cell_type": "markdown",
   "id": "f5ec4e54-eb49-4a92-81a3-d1df25b58c42",
   "metadata": {
    "tags": []
   },
   "source": [
    "## 3. Eksplorasi Data Analisis"
   ]
  },
  {
   "cell_type": "code",
   "execution_count": null,
   "id": "60bf58d9-4fc3-4ef7-92fc-954aff800459",
   "metadata": {},
   "outputs": [],
   "source": [
    "# membuat frame\n",
    "fig, ((ax1, ax2), (ax3, ax4)) = plt.subplots(nrows=2, ncols=2, facecolor=\"#f0f0f0\", figsize=(20, 10))\n",
    "\n",
    "# membuat time series plot\n",
    "ax1.plot(dataset.index.values, dataset[\"Open\"], color=\"tab:blue\", label=\"Open Price\", linewidth=2)\n",
    "\n",
    "# membuat label-label\n",
    "ax1.set_title(\"Open Price Bitcoin\", fontsize=14)\n",
    "ax1.set_xlabel(\"Date\", fontsize=12)\n",
    "ax1.set_ylabel(\"Stock Price\", fontsize=12)\n",
    "ax1.legend(loc='upper left')\n",
    "ax1.grid(True)\n",
    "# ----------------------------------------------------------------------------------------------------\n",
    "\n",
    "# membuat time series plot\n",
    "ax2.plot(dataset.index.values, dataset[\"Close\"], color=\"tab:green\", label=\"Close Price\", linewidth=2)\n",
    "\n",
    "# membuat label-label\n",
    "ax2.set_title(\"Close Price Bitcoin\", fontsize=14)\n",
    "ax2.set_xlabel(\"Date\", fontsize=12)\n",
    "ax2.set_ylabel(\"Stock Price\", fontsize=12)\n",
    "ax2.legend(loc='upper left')\n",
    "ax2.grid(True)\n",
    "# ----------------------------------------------------------------------------------------------------\n",
    "\n",
    "# membuat time series plot\n",
    "ax3.plot(dataset.index.values, dataset[\"High\"], color=\"tab:orange\", label=\"High Price\", linewidth=2)\n",
    "\n",
    "# membuat label-label\n",
    "ax3.set_title(\"High Price Bitcoin\", fontsize=14)\n",
    "ax3.set_xlabel(\"Date\", fontsize=12)\n",
    "ax3.set_ylabel(\"Stock Price\", fontsize=12)\n",
    "ax3.legend(loc='upper left')\n",
    "ax3.grid(True)\n",
    "# ----------------------------------------------------------------------------------------------------\n",
    "\n",
    "# membuat time series plot\n",
    "ax4.plot(dataset.index.values, dataset[\"Low\"], color=\"tab:red\", label=\"Low Price\", linewidth=2)\n",
    "\n",
    "# membuat label-label\n",
    "ax4.set_title(\"Low Price Bitcoin\", fontsize=14)\n",
    "ax4.set_xlabel(\"Date\", fontsize=12)\n",
    "ax4.set_ylabel(\"Stock Price\", fontsize=12)\n",
    "ax4.legend(loc='upper left')\n",
    "ax4.grid(True)\n",
    "# ----------------------------------------------------------------------------------------------------\n",
    "\n",
    "# set the spacing between subplots\n",
    "plt.subplots_adjust(wspace=0.15, hspace=0.25)\n",
    "\n",
    "# menampilkan plot\n",
    "plt.show()"
   ]
  },
  {
   "cell_type": "markdown",
   "id": "761da842-43f8-4edd-884b-0e63ebe9bc92",
   "metadata": {
    "tags": []
   },
   "source": [
    "## 4. Praproses Dataset"
   ]
  },
  {
   "cell_type": "markdown",
   "id": "869709cf-bc32-4345-86af-7e80e91bf255",
   "metadata": {},
   "source": [
    "- Seleksi Fitur"
   ]
  },
  {
   "cell_type": "code",
   "execution_count": null,
   "id": "9ce881bd-c22a-45b0-a591-7108c3322318",
   "metadata": {},
   "outputs": [],
   "source": [
    "# memilih fitur close price\n",
    "dataset = dataset.filter(['Close']);"
   ]
  },
  {
   "cell_type": "code",
   "execution_count": null,
   "id": "84eb68cd-4e6a-41df-8f85-ddceba149095",
   "metadata": {},
   "outputs": [],
   "source": [
    "# convert dataframe to series close price\n",
    "data = dataset.values"
   ]
  },
  {
   "cell_type": "code",
   "execution_count": null,
   "id": "1bd50e80-4133-4496-9d09-d52852faf817",
   "metadata": {},
   "outputs": [],
   "source": [
    "np.round(data[:5],7)"
   ]
  },
  {
   "cell_type": "code",
   "execution_count": null,
   "id": "f7cf7bc7-75bb-40d6-a4c4-f3863fc02132",
   "metadata": {},
   "outputs": [],
   "source": [
    "data.shape"
   ]
  },
  {
   "cell_type": "markdown",
   "id": "d829ce3d-69af-44db-b41d-6c3cd723decc",
   "metadata": {},
   "source": [
    "- Normalisasi Data"
   ]
  },
  {
   "cell_type": "code",
   "execution_count": null,
   "id": "71181373-bfa1-4dbd-9f7c-71df25eb986a",
   "metadata": {},
   "outputs": [],
   "source": [
    "# normalize features\n",
    "scaler = MinMaxScaler(feature_range=(0, 1))\n",
    "scaled_data = scaler.fit_transform(np.array(data).reshape(-1,1))"
   ]
  },
  {
   "cell_type": "code",
   "execution_count": null,
   "id": "4207cd97-19ed-432e-80af-c5a381bfe823",
   "metadata": {},
   "outputs": [],
   "source": [
    "np.round(scaled_data[:5],7)"
   ]
  },
  {
   "cell_type": "code",
   "execution_count": null,
   "id": "dac0ada4-8ef7-4a90-9b11-41ed93077e76",
   "metadata": {},
   "outputs": [],
   "source": [
    "scaled_data.shape"
   ]
  },
  {
   "cell_type": "code",
   "execution_count": null,
   "id": "994267a3-025b-408f-bd28-778147f8aacf",
   "metadata": {},
   "outputs": [],
   "source": [
    "# membuat frame\n",
    "fig, ax = plt.subplots(figsize = (10,5))\n",
    "\n",
    "# membuat time series plot\n",
    "ax.plot(dataset.index.values, scaled_data, color=\"tab:blue\", label=\"CLose Price\", linewidth=2)\n",
    "\n",
    "# membuat label-label\n",
    "ax.set_title(\"Close Price Bitcoin\", fontsize=12)\n",
    "ax.set_xlabel(\"Date\", fontsize=10)\n",
    "ax.set_ylabel(\"Stock Price\", fontsize=10)\n",
    "ax.legend(loc='upper left')\n",
    "ax.grid(True)\n",
    "\n",
    "# menampilkan plot\n",
    "plt.show()"
   ]
  },
  {
   "cell_type": "markdown",
   "id": "b8085a27-cf25-43b8-909a-07a0f2f69ce6",
   "metadata": {},
   "source": [
    "- split dataset"
   ]
  },
  {
   "cell_type": "code",
   "execution_count": null,
   "id": "e0525e83-85f0-4044-be67-eb14fe9bc359",
   "metadata": {},
   "outputs": [],
   "source": [
    "# split data train and test\n",
    "train_data, test_data = train_test_split(scaled_data, train_size=0.80, test_size=0.20, shuffle=False)"
   ]
  },
  {
   "cell_type": "code",
   "execution_count": null,
   "id": "36727c58-cf82-4423-b607-b275ec017ec6",
   "metadata": {},
   "outputs": [],
   "source": [
    "# data train\n",
    "np.round(train_data[:5],7)"
   ]
  },
  {
   "cell_type": "code",
   "execution_count": null,
   "id": "43d20564-8102-4c75-8752-d9a2b4572755",
   "metadata": {},
   "outputs": [],
   "source": [
    "train_data.shape"
   ]
  },
  {
   "cell_type": "code",
   "execution_count": null,
   "id": "685b3a8a-9d47-4743-a1ca-29ecfc7b7963",
   "metadata": {},
   "outputs": [],
   "source": [
    "# data test\n",
    "np.round(test_data[:5],7)"
   ]
  },
  {
   "cell_type": "code",
   "execution_count": null,
   "id": "34c47724-4c95-4d42-941f-8858c427f86f",
   "metadata": {},
   "outputs": [],
   "source": [
    "test_data.shape"
   ]
  },
  {
   "cell_type": "markdown",
   "id": "7f97b71b-2ef8-425e-942b-72a4246beaa7",
   "metadata": {},
   "source": [
    "- Supervised Learning"
   ]
  },
  {
   "cell_type": "code",
   "execution_count": null,
   "id": "7c70b44b-2e5c-42e9-b3b8-2a6fc163cb4a",
   "metadata": {},
   "outputs": [],
   "source": [
    "# convert an array of values into a dataset matrix\n",
    "\n",
    "# function for supervised learning\n",
    "def create_dataset(look_back, dataset):\n",
    "    \n",
    "    # declare variable X and Y\n",
    "    dataX = []\n",
    "    dataY = []\n",
    "    \n",
    "    # for loop for create supervised learning\n",
    "    for i in range(look_back, len(dataset)):\n",
    "        \n",
    "        # insert value X and Y \n",
    "        dataX.append(dataset[i-look_back:i, 0])\n",
    "        dataY.append(dataset[i, 0])\n",
    "        \n",
    "    # return value X and Y\n",
    "    return np.array(dataX), np.array(dataY)"
   ]
  },
  {
   "cell_type": "code",
   "execution_count": null,
   "id": "0c14c03f-d106-4e18-8cb2-6dd10b35ef3d",
   "metadata": {},
   "outputs": [],
   "source": [
    "# process supervised learning\n",
    "look_back = 60\n",
    "x_train, y_train = create_dataset(look_back, train_data)\n",
    "x_test, y_test = create_dataset(look_back, test_data)"
   ]
  },
  {
   "cell_type": "code",
   "execution_count": null,
   "id": "19f28f55-ca02-473f-9fcb-8c3bafcab9a7",
   "metadata": {},
   "outputs": [],
   "source": [
    "print(x_train.shape, y_train.shape)"
   ]
  },
  {
   "cell_type": "code",
   "execution_count": null,
   "id": "dbacd051-5e79-43c7-8855-da788448ee34",
   "metadata": {},
   "outputs": [],
   "source": [
    "print(x_test.shape, y_test.shape)"
   ]
  },
  {
   "cell_type": "code",
   "execution_count": null,
   "id": "1bbff4e6-ca2d-4267-b6de-68ae203526d0",
   "metadata": {},
   "outputs": [],
   "source": [
    "# reshape input to be [samples, time steps, features]\n",
    "x_train = np.reshape(x_train, (x_train.shape[0], x_train.shape[1], 1))\n",
    "x_test = np.reshape(x_test, (x_test.shape[0], x_test.shape[1], 1))"
   ]
  },
  {
   "cell_type": "code",
   "execution_count": null,
   "id": "a3340605-11cc-4a9a-b870-b726caa26677",
   "metadata": {},
   "outputs": [],
   "source": [
    "print(x_train.shape, x_test.shape)"
   ]
  },
  {
   "cell_type": "markdown",
   "id": "505cbabb-2cb3-4268-a6a3-3bb44d222bbd",
   "metadata": {
    "tags": []
   },
   "source": [
    "## 5. Building LSTM-RNN Models"
   ]
  },
  {
   "cell_type": "markdown",
   "id": "95bc58ac-2e32-4640-8c1d-810e1528536a",
   "metadata": {
    "tags": []
   },
   "source": [
    "### Percobaan 1 - Vanilla LSTM-RNN"
   ]
  },
  {
   "cell_type": "code",
   "execution_count": null,
   "id": "350817ec-b5e6-4359-81c9-f688a8c24b68",
   "metadata": {},
   "outputs": [],
   "source": [
    "# The LSTM architecture\n",
    "model_1 = tf.keras.Sequential([\n",
    "    \n",
    "    # The input layer\n",
    "    tf.keras.layers.LSTM(units=50, input_shape=(x_train.shape[1], 1)),\n",
    "    \n",
    "    # The output layer\n",
    "    tf.keras.layers.Dense(1)\n",
    "])"
   ]
  },
  {
   "cell_type": "code",
   "execution_count": null,
   "id": "6110cd92-29d1-45c5-9b61-00a8dccae19c",
   "metadata": {},
   "outputs": [],
   "source": [
    "# Compile the model LSTM\n",
    "model_1.compile(optimizer='adam', loss='mean_squared_error')"
   ]
  },
  {
   "cell_type": "code",
   "execution_count": null,
   "id": "9d647ee4-fcb1-405e-80af-7def25271092",
   "metadata": {},
   "outputs": [],
   "source": [
    "# fit network\n",
    "history_1 = model_1.fit(x_train, y_train, epochs=50, batch_size=8, verbose=1, use_multiprocessing=True, shuffle=False)"
   ]
  },
  {
   "cell_type": "code",
   "execution_count": null,
   "id": "5ccf72ab-2441-4b12-bd31-a14c8c119c77",
   "metadata": {},
   "outputs": [],
   "source": [
    "model_1.summary()"
   ]
  },
  {
   "cell_type": "code",
   "execution_count": null,
   "id": "bef85484-889f-4f6e-bad7-d4c9f8cfd61e",
   "metadata": {},
   "outputs": [],
   "source": [
    "testPredictions_1 = model_1.predict(x_test)\n",
    "print(testPredictions_1[:7])"
   ]
  },
  {
   "cell_type": "code",
   "execution_count": null,
   "id": "54efdc3a-de68-4f10-98fb-3d508c2f4ae2",
   "metadata": {},
   "outputs": [],
   "source": [
    "# membuat frame\n",
    "fig, ax = plt.subplots(figsize = (10,5))\n",
    "\n",
    "# membuat time series plot\n",
    "ax.plot(history_1.history['loss'], color=\"tab:blue\", label=\"loss function\", linewidth=2)\n",
    "\n",
    "# membuat label-label\n",
    "ax.set_xlabel(\"epoch\", fontsize=10)\n",
    "ax.set_ylabel(\"loss function\", fontsize=10)\n",
    "ax.legend(loc='upper right')\n",
    "ax.grid(True)\n",
    "\n",
    "# menampilkan plot\n",
    "plt.show()"
   ]
  },
  {
   "cell_type": "markdown",
   "id": "d16bed0e-f3cd-45a3-80ad-39a8a78d5254",
   "metadata": {},
   "source": [
    "#### Evaluasi Model - Percobaan 1 Vanilla LSTM-RNN"
   ]
  },
  {
   "cell_type": "code",
   "execution_count": null,
   "id": "98380288-e85b-464d-8cc0-0ff22e91fe41",
   "metadata": {},
   "outputs": [],
   "source": [
    "scores_1 = model_1.evaluate(x_train, y_train)\n",
    "scores_1"
   ]
  },
  {
   "cell_type": "code",
   "execution_count": null,
   "id": "8549dd9a-d0a9-4df2-ac45-aecf946eeccc",
   "metadata": {},
   "outputs": [],
   "source": [
    "scores_1 = model_1.evaluate(x_test, y_test)\n",
    "scores_1"
   ]
  },
  {
   "cell_type": "markdown",
   "id": "3d1e171d-e5f4-41b5-9aab-ee4727ce5da8",
   "metadata": {},
   "source": [
    "- MAE (Mean Absolute Error)"
   ]
  },
  {
   "cell_type": "code",
   "execution_count": null,
   "id": "b5266a28-3012-4dbe-b71f-83acff32773e",
   "metadata": {},
   "outputs": [],
   "source": [
    "mae_1 = mean_absolute_error(y_test, testPredictions_1)\n",
    "print('Test MAE : %.4f' % mae_1)"
   ]
  },
  {
   "cell_type": "markdown",
   "id": "347e2c7a-436b-4888-9e6a-1b5c0c89a29d",
   "metadata": {},
   "source": [
    "- MSE (Mean Squared Error)"
   ]
  },
  {
   "cell_type": "code",
   "execution_count": null,
   "id": "131154be-ea7f-45fb-a6ec-87d371499087",
   "metadata": {},
   "outputs": [],
   "source": [
    "mse_1 = mean_squared_error(y_test, testPredictions_1)\n",
    "print('Test MSE: %.4f' % mse_1)"
   ]
  },
  {
   "cell_type": "markdown",
   "id": "e5b08183-d908-4060-ae54-dff77a66e196",
   "metadata": {},
   "source": [
    "- RMSE (Root Mean Squared Error)"
   ]
  },
  {
   "cell_type": "code",
   "execution_count": null,
   "id": "6bc9b6a3-abdc-4700-957a-81993093edbe",
   "metadata": {},
   "outputs": [],
   "source": [
    "mse_1 = sqrt(mse_1)\n",
    "print('Test RMSE: %.4f' % mse_1)"
   ]
  },
  {
   "cell_type": "markdown",
   "id": "f059fae5-9a34-475c-9cdf-bab5fb6dc786",
   "metadata": {},
   "source": [
    "- Corelation pearson"
   ]
  },
  {
   "cell_type": "code",
   "execution_count": null,
   "id": "0e7cb5bf-8a04-4009-be09-ef4882ab9bc7",
   "metadata": {},
   "outputs": [],
   "source": [
    "hasil_1 = np.stack((y_test.reshape(-1), testPredictions_1.reshape(-1)), axis=1)\n",
    "hasil_1 = pd.DataFrame(hasil_1, columns = ['data_aktual','prediksi'])"
   ]
  },
  {
   "cell_type": "code",
   "execution_count": null,
   "id": "77b045dd-335f-4cda-be54-a7c34965b194",
   "metadata": {},
   "outputs": [],
   "source": [
    "hasil_1"
   ]
  },
  {
   "cell_type": "code",
   "execution_count": null,
   "id": "a98f8a6b-f7cb-442c-92da-c2a8f69b8b58",
   "metadata": {},
   "outputs": [],
   "source": [
    "r1, p1 = sc.pearsonr(hasil_1[\"data_aktual\"], hasil_1[\"prediksi\"])\n",
    "print(\"korelasi data akual dengan hasil prediksi\" +\" {:.4f} \".format(r1)+ \"dengan signifikansi\" +\" {:.4f} \".format(p1))"
   ]
  },
  {
   "cell_type": "markdown",
   "id": "0595fa45-4e9e-435d-8125-1a547b84b59e",
   "metadata": {},
   "source": [
    "#### Visualisasi Data - Percobaan 1 Vanilla LSTM-RNN"
   ]
  },
  {
   "cell_type": "code",
   "execution_count": null,
   "id": "d5b4e16e-63fa-4583-92e4-91c2c470b16e",
   "metadata": {},
   "outputs": [],
   "source": [
    "# inverse value test predictions\n",
    "testPredictions_1 = scaler.inverse_transform(testPredictions_1)"
   ]
  },
  {
   "cell_type": "code",
   "execution_count": null,
   "id": "398c022e-75fe-427c-be22-767008da532a",
   "metadata": {},
   "outputs": [],
   "source": [
    "# shift test predictions for plotting\n",
    "testPredictionsPlot_1 = np.empty_like(scaled_data)\n",
    "testPredictionsPlot_1[:, :] = np.nan\n",
    "testPredictionsPlot_1[(len(dataset) - testPredictions_1.shape[0]):len(dataset), :] = testPredictions_1"
   ]
  },
  {
   "cell_type": "code",
   "execution_count": null,
   "id": "0ed23854-92a6-4d11-ac6e-40e839cbd42e",
   "metadata": {},
   "outputs": [],
   "source": [
    "# membuat frame\n",
    "fig, ax = plt.subplots(figsize = (15,5))\n",
    "\n",
    "# membuat time series plot\n",
    "ax.plot(dataset.index.values, scaler.inverse_transform(scaled_data), color=\"tab:blue\", label=\"data aktual\", linewidth=2)\n",
    "ax.plot(dataset.index.values, testPredictionsPlot_1, color=\"tab:red\", label=\"data prediksi\", linewidth=2)\n",
    "\n",
    "# membuat label-label\n",
    "ax.set_title(\"Percobaan 1 - Model The Vanilla LSTM-RNN\", fontsize=14)\n",
    "ax.legend(loc=\"best\")\n",
    "ax.grid(True)\n",
    "\n",
    "# menampilka\n",
    "plt.show()"
   ]
  },
  {
   "cell_type": "markdown",
   "id": "1b94d229-be82-4fca-986f-4194fb90a1c7",
   "metadata": {
    "tags": []
   },
   "source": [
    "### Percobaan 3 - Stacked LSTM-RNN "
   ]
  },
  {
   "cell_type": "code",
   "execution_count": null,
   "id": "8f2c06a8-d42d-4847-8905-b2598ecb43cb",
   "metadata": {},
   "outputs": [],
   "source": [
    "# The LSTM architecture\n",
    "model_2 = tf.keras.Sequential([\n",
    "    \n",
    "    # First LSTM layer with Dropout regularisation\n",
    "    tf.keras.layers.LSTM(units=50, return_sequences=True, input_shape=(x_train.shape[1], 1)),\n",
    "    \n",
    "    # Secound LSTM layer with Dropout regularisation\n",
    "    tf.keras.layers.LSTM(units=50, return_sequences=True),\n",
    "    \n",
    "    # Third LSTM layer with Dropout regularisation\n",
    "    tf.keras.layers.LSTM(units=50, return_sequences=False),\n",
    "    \n",
    "    # The output layer\n",
    "    tf.keras.layers.Dense(1)\n",
    "])"
   ]
  },
  {
   "cell_type": "code",
   "execution_count": null,
   "id": "85a815e1-4724-4307-90d7-c61d8ff4d90e",
   "metadata": {},
   "outputs": [],
   "source": [
    "# Compile the model LSTM\n",
    "model_2.compile(optimizer='adam', loss='mean_squared_error')"
   ]
  },
  {
   "cell_type": "code",
   "execution_count": null,
   "id": "7695a6c9-078a-4700-a071-3b815dab03e2",
   "metadata": {},
   "outputs": [],
   "source": [
    "# fit network\n",
    "history_2 = model_2.fit(x_train, y_train, epochs=50, batch_size=8, verbose=1, use_multiprocessing=True, shuffle=False)"
   ]
  },
  {
   "cell_type": "code",
   "execution_count": null,
   "id": "8fd1d6dc-1081-4ba1-8d30-6a0a99397280",
   "metadata": {},
   "outputs": [],
   "source": [
    "model_2.summary()"
   ]
  },
  {
   "cell_type": "code",
   "execution_count": null,
   "id": "30625272-6871-44c1-a117-d8b111c8c330",
   "metadata": {},
   "outputs": [],
   "source": [
    "testPredictions_2 = model_2.predict(x_test)\n",
    "print(testPredictions_2[:7])"
   ]
  },
  {
   "cell_type": "code",
   "execution_count": null,
   "id": "04d89971-4e97-472e-be51-97a213424ce7",
   "metadata": {},
   "outputs": [],
   "source": [
    "# membuat frame\n",
    "fig, ax = plt.subplots(figsize = (10,5))\n",
    "\n",
    "# membuat time series plot\n",
    "ax.plot(history_2.history['loss'], color=\"tab:blue\", label=\"loss function\", linewidth=2)\n",
    "\n",
    "# membuat label-label\n",
    "ax.set_xlabel(\"epoch\", fontsize=10)\n",
    "ax.set_ylabel(\"loss function\", fontsize=10)\n",
    "ax.legend(loc='upper right')\n",
    "ax.grid(True)\n",
    "\n",
    "# menampilkan plot\n",
    "plt.show()"
   ]
  },
  {
   "cell_type": "markdown",
   "id": "c9e40baa-7703-4dd4-abbd-64057f11dc42",
   "metadata": {},
   "source": [
    "#### 6.1 Evaluasi Model Stacked LSTM-RNN"
   ]
  },
  {
   "cell_type": "code",
   "execution_count": null,
   "id": "ec79405c-5c25-4a5c-ac10-0572f4ea718b",
   "metadata": {},
   "outputs": [],
   "source": [
    "scores_2 = model_1.evaluate(x_train, y_train)\n",
    "scores_2"
   ]
  },
  {
   "cell_type": "code",
   "execution_count": null,
   "id": "762b5980-6ece-40dc-a24a-ceabfce075b3",
   "metadata": {},
   "outputs": [],
   "source": [
    "scores_2 = model_1.evaluate(x_test, y_test)\n",
    "scores_2"
   ]
  },
  {
   "cell_type": "markdown",
   "id": "bf875cb9-d0ef-4aa2-b95a-b468c6fad792",
   "metadata": {},
   "source": [
    "- MAE (Mean Absolute Error)"
   ]
  },
  {
   "cell_type": "code",
   "execution_count": null,
   "id": "fcc6d107-d17d-409f-8f88-3edb672f093e",
   "metadata": {},
   "outputs": [],
   "source": [
    "mae_2 = mean_absolute_error(y_test, testPredictions_2)\n",
    "print('Test MAE : %.4f' % mae_2)"
   ]
  },
  {
   "cell_type": "markdown",
   "id": "f17158ab-7e43-4473-a238-434e1100ad9c",
   "metadata": {},
   "source": [
    "- MSE (Mean Squared Error)"
   ]
  },
  {
   "cell_type": "code",
   "execution_count": null,
   "id": "2ab31ead-8264-44bb-b114-e161e295f010",
   "metadata": {},
   "outputs": [],
   "source": [
    "mse_2 = mean_squared_error(y_test, testPredictions_2)\n",
    "print('Test MSE: %.4f' % mse_2)"
   ]
  },
  {
   "cell_type": "markdown",
   "id": "67aeaff1-55bf-417d-82e3-f56ce7cfa5cd",
   "metadata": {},
   "source": [
    "- RMSE (Root Mean Squared Error)"
   ]
  },
  {
   "cell_type": "code",
   "execution_count": null,
   "id": "c744fb31-7c5e-4782-af79-917a8ad9e156",
   "metadata": {},
   "outputs": [],
   "source": [
    "rmse_2 = sqrt(mse_2)\n",
    "print('Test RMSE: %.4f' % rmse_2)"
   ]
  },
  {
   "cell_type": "markdown",
   "id": "f096e6cd-4337-4a2d-bdfd-25cb758937f2",
   "metadata": {},
   "source": [
    "- Corelation pearson"
   ]
  },
  {
   "cell_type": "code",
   "execution_count": null,
   "id": "e8a25bfe-b467-474b-a5c7-89319f7f5992",
   "metadata": {},
   "outputs": [],
   "source": [
    "hasil_2 = np.stack((y_test.reshape(-1), testPredictions_2.reshape(-1)), axis=1)\n",
    "hasil_2 = pd.DataFrame(hasil_2, columns = ['data_aktual','prediksi'])"
   ]
  },
  {
   "cell_type": "code",
   "execution_count": null,
   "id": "aeea2183-2d40-4afd-b27b-700c5cd07f86",
   "metadata": {},
   "outputs": [],
   "source": [
    "hasil_2"
   ]
  },
  {
   "cell_type": "code",
   "execution_count": null,
   "id": "ac2671fd-7ea2-48af-9ebe-7b40529d8c16",
   "metadata": {},
   "outputs": [],
   "source": [
    "r2, p2 = sc.pearsonr(hasil_2[\"data_aktual\"], hasil_2[\"prediksi\"])\n",
    "print(\"korelasi data akual dengan hasil prediksi\" +\" {:.4f} \".format(r2)+ \"dengan signifikansi\" +\" {:.4f} \".format(p2))"
   ]
  },
  {
   "cell_type": "markdown",
   "id": "9b267ad5-a350-4a96-a6fc-0546899d3bcc",
   "metadata": {},
   "source": [
    "#### 6.2 Visualisasi Data Stacked LSTM-RNN"
   ]
  },
  {
   "cell_type": "code",
   "execution_count": null,
   "id": "08cf19f7-8c9b-417c-82f6-a6d71d362901",
   "metadata": {},
   "outputs": [],
   "source": [
    "# inverse value test predictions\n",
    "testPredictions_2 = scaler.inverse_transform(testPredictions_2)"
   ]
  },
  {
   "cell_type": "code",
   "execution_count": null,
   "id": "2109fa16-d9ab-4d9d-b51a-d83214101dec",
   "metadata": {},
   "outputs": [],
   "source": [
    "# shift test predictions for plotting\n",
    "testPredictionsPlot_2 = np.empty_like(scaled_data)\n",
    "testPredictionsPlot_2[:, :] = np.nan\n",
    "testPredictionsPlot_2[(len(dataset) - testPredictions_2.shape[0]):len(dataset), :] = testPredictions_2"
   ]
  },
  {
   "cell_type": "code",
   "execution_count": null,
   "id": "ce2b2fc2-43cf-4d41-ba28-10770244ea41",
   "metadata": {},
   "outputs": [],
   "source": [
    "# membuat frame\n",
    "fig, ax = plt.subplots(figsize = (15,5))\n",
    "\n",
    "# membuat time series plot\n",
    "ax.plot(dataset.index.values, scaler.inverse_transform(scaled_data), color=\"tab:blue\", label=\"data aktual\", linewidth=2)\n",
    "ax.plot(dataset.index.values, testPredictionsPlot_2, color=\"tab:red\", label=\"data prediksi\", linewidth=2)\n",
    "\n",
    "# membuat label-label\n",
    "ax.set_title(\"Percobaan 2 - Model Stacked LSTM-RNN\", fontsize=14)\n",
    "ax.legend(loc=\"best\")\n",
    "ax.grid(True)\n",
    "\n",
    "# menampilka\n",
    "plt.show()"
   ]
  },
  {
   "cell_type": "code",
   "execution_count": null,
   "id": "c5a1643b-3648-4d8d-b4fc-c1ae422fe777",
   "metadata": {},
   "outputs": [],
   "source": []
  },
  {
   "cell_type": "markdown",
   "id": "95f49e6f-f257-4803-9ad4-6a72cf832e9e",
   "metadata": {
    "jp-MarkdownHeadingCollapsed": true,
    "tags": []
   },
   "source": [
    "### 7 Bidirectional LSTM-RNN "
   ]
  },
  {
   "cell_type": "code",
   "execution_count": null,
   "id": "6661bd28-894d-459d-a272-933234b78b8a",
   "metadata": {},
   "outputs": [],
   "source": [
    "# The LSTM architecture\n",
    "model_3 = tf.keras.Sequential([\n",
    "    \n",
    "    # The input layer\n",
    "    tf.keras.layers.Bidirectional(\n",
    "        LSTM(units=50, input_shape=(x_train.shape[1], 1))\n",
    "    ),\n",
    "    \n",
    "    # The output layer\n",
    "    tf.keras.layers.Dense(1)\n",
    "])"
   ]
  },
  {
   "cell_type": "code",
   "execution_count": null,
   "id": "1b5be56f-dc5e-4b4a-be60-978832b9c087",
   "metadata": {},
   "outputs": [],
   "source": [
    "# Compile the model GRU\n",
    "model_3.compile(optimizer='adam', loss='mean_squared_error')"
   ]
  },
  {
   "cell_type": "code",
   "execution_count": null,
   "id": "1cf89a65-6ee4-491f-946a-7b35d94321d0",
   "metadata": {},
   "outputs": [],
   "source": [
    "# fit network\n",
    "history_3 = model_3.fit(x_train, y_train, epochs=50, batch_size=8, verbose=1, use_multiprocessing=True, shuffle=False)"
   ]
  },
  {
   "cell_type": "code",
   "execution_count": null,
   "id": "1864f562-4d32-45e5-b70f-b2dacad9787c",
   "metadata": {},
   "outputs": [],
   "source": [
    "model_3.summary()"
   ]
  },
  {
   "cell_type": "code",
   "execution_count": null,
   "id": "2732ee07-4309-41fd-aedc-ee02b03231d9",
   "metadata": {},
   "outputs": [],
   "source": [
    "testPredictions_3 = model_3.predict(x_test)\n",
    "print(testPredictions_3[:7])"
   ]
  },
  {
   "cell_type": "code",
   "execution_count": null,
   "id": "86d24b6d-c4c8-455b-a09f-77ea6fe77255",
   "metadata": {},
   "outputs": [],
   "source": [
    "# membuat frame\n",
    "fig, ax = plt.subplots(figsize = (10,5))\n",
    "\n",
    "# membuat time series plot\n",
    "ax.plot(history_3.history['loss'], color=\"tab:blue\", label=\"loss function\", linewidth=2)\n",
    "\n",
    "# membuat label-label\n",
    "ax.set_xlabel(\"epoch\", fontsize=10)\n",
    "ax.set_ylabel(\"loss function\", fontsize=10)\n",
    "ax.legend(loc='upper right')\n",
    "ax.grid(True)\n",
    "\n",
    "# menampilkan plot\n",
    "plt.show()"
   ]
  },
  {
   "cell_type": "markdown",
   "id": "95ed7680-5b28-4b89-992e-ca21ecc64268",
   "metadata": {},
   "source": [
    "#### 7.1 Evaluasi Model Bidirectional LSTM-RNN"
   ]
  },
  {
   "cell_type": "code",
   "execution_count": null,
   "id": "023071c1-f239-416c-b7cd-2ca4bab727ef",
   "metadata": {},
   "outputs": [],
   "source": [
    "scores_3 = model_3.evaluate(x_train, y_train)\n",
    "scores_3"
   ]
  },
  {
   "cell_type": "code",
   "execution_count": null,
   "id": "b4256098-c29e-4b4f-867f-808310794e0d",
   "metadata": {},
   "outputs": [],
   "source": [
    "scores_3 = model_3.evaluate(x_test, y_test)\n",
    "scores_3"
   ]
  },
  {
   "cell_type": "markdown",
   "id": "6795b469-cbaf-47d1-887c-b31aa6953338",
   "metadata": {},
   "source": [
    "- MAE (Mean Absolute Error)"
   ]
  },
  {
   "cell_type": "code",
   "execution_count": null,
   "id": "772e658f-dd4f-4869-bc5b-e89ff59d1b03",
   "metadata": {},
   "outputs": [],
   "source": [
    "mae_3 = mean_absolute_error(y_test, testPredictions_3)\n",
    "print('Test MAE : %.4f' % mae_3)"
   ]
  },
  {
   "cell_type": "markdown",
   "id": "29050c37-dbd1-42f2-91e0-da3621f5713a",
   "metadata": {},
   "source": [
    "- MSE (Mean Squared Error)"
   ]
  },
  {
   "cell_type": "code",
   "execution_count": null,
   "id": "89c63823-b65b-4102-900d-a7c9a77ac239",
   "metadata": {},
   "outputs": [],
   "source": [
    "mse_3 = mean_squared_error(y_test, testPredictions_3)\n",
    "print('Test MSE: %.4f' % mse_3)"
   ]
  },
  {
   "cell_type": "markdown",
   "id": "fd9ac6a4-7e38-48d1-bd35-b65ee6f57713",
   "metadata": {},
   "source": [
    "- RMSE (Root Mean Squared Error)"
   ]
  },
  {
   "cell_type": "code",
   "execution_count": null,
   "id": "3b19bab7-5801-4b1e-be57-d9aa66d3c260",
   "metadata": {},
   "outputs": [],
   "source": [
    "rmse_3 = sqrt(mse_3)\n",
    "print('Test RMSE: %.4f' % rmse_3)"
   ]
  },
  {
   "cell_type": "markdown",
   "id": "da010a44-36c1-4707-8d3f-701abd8bd3dd",
   "metadata": {},
   "source": [
    "- Corelation pearson"
   ]
  },
  {
   "cell_type": "code",
   "execution_count": null,
   "id": "73851261-642c-48c5-afbf-438d7e6bf4e6",
   "metadata": {},
   "outputs": [],
   "source": [
    "hasil_3 = np.stack((y_test.reshape(-1), testPredictions_3.reshape(-1)), axis=1)\n",
    "hasil_3 = pd.DataFrame(hasil_3, columns = ['data_aktual','prediksi'])"
   ]
  },
  {
   "cell_type": "code",
   "execution_count": null,
   "id": "abb7553d-712a-4f48-87a9-e2c982e3cb5a",
   "metadata": {},
   "outputs": [],
   "source": [
    "hasil_3"
   ]
  },
  {
   "cell_type": "code",
   "execution_count": null,
   "id": "7b94a392-b6c7-4ab7-9b19-d2f3b1fc2f17",
   "metadata": {},
   "outputs": [],
   "source": [
    "r3, p3 = sc.pearsonr(hasil_3[\"data_aktual\"], hasil_3[\"prediksi\"])\n",
    "print(\"korelasi data akual dengan hasil prediksi\" +\" {:.4f} \".format(r3)+ \"dengan signifikansi\" +\" {:.4f} \".format(p3))"
   ]
  },
  {
   "cell_type": "markdown",
   "id": "eb66e432-55a3-427c-baab-77c142c03cb0",
   "metadata": {},
   "source": [
    "#### 7.2 Visualisasi Data Bidirectional LSTM-RNN"
   ]
  },
  {
   "cell_type": "code",
   "execution_count": null,
   "id": "7ea6e03c-82ac-4bc2-8a14-db0eca77b0c3",
   "metadata": {},
   "outputs": [],
   "source": [
    "# inverse value test predictions\n",
    "testPredictions_3 = scaler.inverse_transform(testPredictions_3)"
   ]
  },
  {
   "cell_type": "code",
   "execution_count": null,
   "id": "d7aff668-c96a-48f2-aad1-4d6215f9c7b7",
   "metadata": {},
   "outputs": [],
   "source": [
    "# shift test predictions for plotting\n",
    "testPredictionsPlot_3 = np.empty_like(scaled_data)\n",
    "testPredictionsPlot_3[:, :] = np.nan\n",
    "testPredictionsPlot_3[(len(dataset) - testPredictions_3.shape[0]):len(dataset), :] = testPredictions_3"
   ]
  },
  {
   "cell_type": "code",
   "execution_count": null,
   "id": "47d6843e-5d11-4125-8df5-a3b86b50b518",
   "metadata": {},
   "outputs": [],
   "source": [
    "# membuat frame\n",
    "fig, ax = plt.subplots(figsize = (15,5))\n",
    "\n",
    "# membuat time series plot\n",
    "ax.plot(dataset.index.values, scaler.inverse_transform(scaled_data), color=\"tab:blue\", label=\"data aktual\", linewidth=2)\n",
    "ax.plot(dataset.index.values, testPredictionsPlot_3, color=\"tab:red\", label=\"data prediksi\", linewidth=2)\n",
    "\n",
    "# membuat label-label\n",
    "ax.set_title(\"Percobaan 3 - Model Bidirectional LSTM-RNN\", fontsize=14)\n",
    "ax.legend(loc=\"best\")\n",
    "ax.grid(True)\n",
    "\n",
    "# menampilka\n",
    "plt.show()"
   ]
  },
  {
   "cell_type": "markdown",
   "id": "a880dbd8-9dfd-4641-a74e-9355166e418c",
   "metadata": {
    "jp-MarkdownHeadingCollapsed": true,
    "tags": []
   },
   "source": [
    "### 8 Stacked-Bidirectional LSTM-RNN"
   ]
  },
  {
   "cell_type": "code",
   "execution_count": null,
   "id": "db98c055-863c-4cdd-bce9-0f8809e7129b",
   "metadata": {},
   "outputs": [],
   "source": [
    "# The LSTM architecture\n",
    "model_4 = Sequential()\n",
    "\n",
    "# First LSTM layer with Dropout regularisation\n",
    "model_4.add(\n",
    "    Bidirectional(\n",
    "        LSTM(units=50, return_sequences=True, input_shape=(x_train.shape[1], 1))\n",
    "    )\n",
    ")\n",
    "\n",
    "# Second LSTM layer with Dropout regularisation\n",
    "model_4.add(\n",
    "    Bidirectional(\n",
    "        LSTM(units=50, return_sequences=False)\n",
    "    )\n",
    ")\n",
    "\n",
    "\n",
    "# The output layer\n",
    "model_4.add(Dense(1))\n",
    "\n",
    "# Compile the model LSTM\n",
    "model_4.compile(optimizer='adam', loss='mean_squared_error')"
   ]
  },
  {
   "cell_type": "code",
   "execution_count": null,
   "id": "9b66ead5-f04e-46eb-a630-1dfbb527c226",
   "metadata": {},
   "outputs": [],
   "source": [
    "# fit network\n",
    "history_4 = model_4.fit(x_train, y_train, epochs=50, batch_size=8, verbose=1, use_multiprocessing=True, shuffle=False)"
   ]
  },
  {
   "cell_type": "code",
   "execution_count": null,
   "id": "8e475d27-e64d-4e2b-bfe8-ea8f6569f330",
   "metadata": {},
   "outputs": [],
   "source": [
    "model_4.summary()"
   ]
  },
  {
   "cell_type": "code",
   "execution_count": null,
   "id": "a76e291f-6d80-4876-ad0c-2e241bed4f45",
   "metadata": {},
   "outputs": [],
   "source": [
    "testPredictions_4 = model_4.predict(x_test)\n",
    "print(testPredictions_4[:7])"
   ]
  },
  {
   "cell_type": "code",
   "execution_count": null,
   "id": "06fc7d83-ecd4-4154-a9f8-826f09f1338d",
   "metadata": {},
   "outputs": [],
   "source": [
    "# membuat frame\n",
    "fig, ax = plt.subplots(figsize = (10,5))\n",
    "\n",
    "# membuat time series plot\n",
    "ax.plot(history_4.history['loss'], color=\"tab:blue\", label=\"loss function\", linewidth=2)\n",
    "\n",
    "# membuat label-label\n",
    "ax.set_xlabel(\"epoch\", fontsize=10)\n",
    "ax.set_ylabel(\"loss function\", fontsize=10)\n",
    "ax.legend(loc='upper right')\n",
    "ax.grid(True)\n",
    "\n",
    "# menampilkan plot\n",
    "plt.show()"
   ]
  },
  {
   "cell_type": "markdown",
   "id": "ea6862b3-0c68-48e9-b702-e363a798ebed",
   "metadata": {},
   "source": [
    "#### 8.1 Evaluasi Model Stacked-Bidirectional LSTM-RNN"
   ]
  },
  {
   "cell_type": "code",
   "execution_count": null,
   "id": "ca0aa876-f31f-466b-b9ef-ea143f238e5e",
   "metadata": {},
   "outputs": [],
   "source": [
    "scores_4 = model_4.evaluate(x_train, y_train)\n",
    "scores_4"
   ]
  },
  {
   "cell_type": "code",
   "execution_count": null,
   "id": "2e454fcc-d036-465b-89d6-1aeb987b8a07",
   "metadata": {},
   "outputs": [],
   "source": [
    "scores_4 = model_4.evaluate(x_test, y_test)\n",
    "scores_4"
   ]
  },
  {
   "cell_type": "markdown",
   "id": "2a9acca9-48db-4161-a9ef-62904c5c97b5",
   "metadata": {},
   "source": [
    "- MAE (Mean Absolute Error)"
   ]
  },
  {
   "cell_type": "code",
   "execution_count": null,
   "id": "9a2c8366-4fb6-4f4a-b2c3-b7dc0fbab916",
   "metadata": {},
   "outputs": [],
   "source": [
    "mae_4 = mean_absolute_error(y_test, testPredictions_4)\n",
    "print('Test MAE : %.4f' % mae_4)"
   ]
  },
  {
   "cell_type": "markdown",
   "id": "224ef6e4-db1e-439a-93c2-d06578709a4c",
   "metadata": {},
   "source": [
    "- MSE (Mean Squared Error)"
   ]
  },
  {
   "cell_type": "code",
   "execution_count": null,
   "id": "4af120ff-e326-498b-80f3-07adcb6acb8a",
   "metadata": {},
   "outputs": [],
   "source": [
    "mse_4 = mean_squared_error(y_test, testPredictions_4)\n",
    "print('Test MSE: %.4f' % mse_4)"
   ]
  },
  {
   "cell_type": "markdown",
   "id": "2906860b-05da-432d-83e1-b2fce1ca9b55",
   "metadata": {},
   "source": [
    "- RMSE (Root Mean Squared Error)"
   ]
  },
  {
   "cell_type": "code",
   "execution_count": null,
   "id": "95332aaf-2acb-48c4-b486-b872c524b41c",
   "metadata": {},
   "outputs": [],
   "source": [
    "rmse_4 = sqrt(mse_4)\n",
    "print('Test RMSE: %.4f' % rmse_4)"
   ]
  },
  {
   "cell_type": "markdown",
   "id": "58d82c97-12dc-4c06-a300-6f2375ca19d4",
   "metadata": {},
   "source": [
    "- Corelation pearson"
   ]
  },
  {
   "cell_type": "code",
   "execution_count": null,
   "id": "e48f87b0-c30d-4f96-911d-bbd1bfb7701a",
   "metadata": {},
   "outputs": [],
   "source": [
    "hasil_4 = np.stack((y_test.reshape(-1), testPredictions_4.reshape(-1)), axis=1)\n",
    "hasil_4 = pd.DataFrame(hasil_4, columns = ['data_aktual','prediksi'])"
   ]
  },
  {
   "cell_type": "code",
   "execution_count": null,
   "id": "4f26c65c-506a-41f9-952a-a56699203eed",
   "metadata": {},
   "outputs": [],
   "source": [
    "hasil_4"
   ]
  },
  {
   "cell_type": "code",
   "execution_count": null,
   "id": "be7ea7b7-6dcf-4f69-bacb-2f44b3c5ff42",
   "metadata": {},
   "outputs": [],
   "source": [
    "r4, p4 = sc.pearsonr(hasil_4[\"data_aktual\"], hasil_4[\"prediksi\"])\n",
    "print(\"korelasi data akual dengan hasil prediksi\" +\" {:.4f} \".format(r4)+ \"dengan signifikansi\" +\" {:.4f} \".format(p4))"
   ]
  },
  {
   "cell_type": "markdown",
   "id": "22e7781c-cef1-458e-88cc-662b25d95757",
   "metadata": {},
   "source": [
    "#### 8.2 Visualisasi Data Stacked-Bidirectional LSTM-RNN"
   ]
  },
  {
   "cell_type": "code",
   "execution_count": null,
   "id": "125385ae-69ab-473f-ac3c-390db4f38c0a",
   "metadata": {},
   "outputs": [],
   "source": [
    "# inverse value test predictions\n",
    "testPredictions_4 = scaler.inverse_transform(testPredictions_4)"
   ]
  },
  {
   "cell_type": "code",
   "execution_count": null,
   "id": "3178d67c-47b8-4441-bf68-6d2d7caf9019",
   "metadata": {},
   "outputs": [],
   "source": [
    "# shift test predictions for plotting\n",
    "testPredictionsPlot_4 = np.empty_like(scaled_data)\n",
    "testPredictionsPlot_4[:, :] = np.nan\n",
    "testPredictionsPlot_4[(len(dataset) - testPredictions_4.shape[0]):len(dataset), :] = testPredictions_4"
   ]
  },
  {
   "cell_type": "code",
   "execution_count": null,
   "id": "1659d3a2-287c-4059-b558-99e21d956ecf",
   "metadata": {},
   "outputs": [],
   "source": [
    "# membuat frame\n",
    "fig, ax = plt.subplots(figsize = (15,5))\n",
    "\n",
    "# membuat time series plot\n",
    "ax.plot(dataset.index.values, scaler.inverse_transform(scaled_data), color=\"tab:blue\", label=\"data aktual\", linewidth=2)\n",
    "ax.plot(dataset.index.values, testPredictionsPlot_4, color=\"tab:red\", label=\"data prediksi\", linewidth=2)\n",
    "\n",
    "# membuat label-label\n",
    "ax.set_title(\"Percobaan 4 - Model Stacked-Bidirectional LSTM-RNN\", fontsize=14)\n",
    "ax.legend(loc=\"best\")\n",
    "ax.grid(True)\n",
    "\n",
    "# menampilkan plot\n",
    "plt.show()"
   ]
  },
  {
   "cell_type": "markdown",
   "id": "fb1174aa-c437-479c-8db8-a0b49edbfc96",
   "metadata": {
    "tags": []
   },
   "source": [
    "## 9. Complexity time"
   ]
  },
  {
   "cell_type": "code",
   "execution_count": null,
   "id": "d831b0d6-6fae-4357-a40e-3f4bc2afd526",
   "metadata": {},
   "outputs": [],
   "source": [
    "# Set akhir waktu komputasi \n",
    "end = time.time()"
   ]
  },
  {
   "cell_type": "code",
   "execution_count": null,
   "id": "7cfba22b-2c11-4ac9-b9c0-fa04dac0f6f4",
   "metadata": {},
   "outputs": [],
   "source": [
    "# Proses menghitung waktu komputasi\n",
    "hours, rem = divmod(end-start, 3600)\n",
    "minutes, seconds = divmod(rem, 60)"
   ]
  },
  {
   "cell_type": "code",
   "execution_count": null,
   "id": "12c6cc87-27ab-46d4-89ac-c05a3a7cad18",
   "metadata": {},
   "outputs": [],
   "source": [
    "# Hasil waktu komputasi\n",
    "print(\"{:0>2}:{:0>2}:{:05.2f}\".format(int(hours),int(minutes),seconds))"
   ]
  },
  {
   "cell_type": "code",
   "execution_count": null,
   "id": "828e285c-0af8-49b1-9736-26dffc1f7f5d",
   "metadata": {},
   "outputs": [],
   "source": []
  },
  {
   "cell_type": "code",
   "execution_count": null,
   "id": "df09c15f-336c-48e7-8bbe-ecc29ccc07d0",
   "metadata": {},
   "outputs": [],
   "source": []
  }
 ],
 "metadata": {
  "kernelspec": {
   "display_name": "Python 3 (ipykernel)",
   "language": "python",
   "name": "python3"
  },
  "language_info": {
   "codemirror_mode": {
    "name": "ipython",
    "version": 3
   },
   "file_extension": ".py",
   "mimetype": "text/x-python",
   "name": "python",
   "nbconvert_exporter": "python",
   "pygments_lexer": "ipython3",
   "version": "3.9.16"
  },
  "vscode": {
   "interpreter": {
    "hash": "37197ad202cea1caf8a636a74cec7c83b945e4f29ac1505900600f740c02611d"
   }
  }
 },
 "nbformat": 4,
 "nbformat_minor": 5
}
