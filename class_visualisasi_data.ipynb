{
 "cells": [
  {
   "cell_type": "markdown",
   "id": "1c5b9b61-0a1c-4df9-b585-7f2efc3b3779",
   "metadata": {},
   "source": [
    "## Stock Price BTC-USD with Neural Network Algorithm"
   ]
  },
  {
   "cell_type": "code",
   "execution_count": 1,
   "id": "fd933092-a554-4b28-903f-51e5f298b57d",
   "metadata": {},
   "outputs": [],
   "source": [
    "# pustaka untuk manipulasi data-frame\n",
    "import pandas as pd\n",
    "from pandas import concat\n",
    "from pandas import read_csv\n",
    "from pandas import read_excel\n",
    "from pandas_datareader import DataReader\n",
    "\n",
    "# pustaka untuk madnipulasi data-array\n",
    "import numpy as np\n",
    "from numpy import concatenate\n",
    "from numpy import array\n",
    "\n",
    "# pustaka untuk waktu komputasi\n",
    "import time\n",
    "from datetime import datetime\n",
    "\n",
    "# pustaka untuk visualisasi data\n",
    "import seaborn as sns\n",
    "from matplotlib import pyplot as plt"
   ]
  },
  {
   "cell_type": "markdown",
   "id": "6fba3a77-ce5b-4c0b-be36-efbc4557a9ed",
   "metadata": {
    "tags": []
   },
   "source": [
    "### Data Visualizatiom"
   ]
  },
  {
   "cell_type": "code",
   "execution_count": 2,
   "id": "98f3b3ad-61e9-491d-9bd1-fe4f38b38a23",
   "metadata": {
    "tags": []
   },
   "outputs": [],
   "source": [
    "class Data_visualization:\n",
    "    \n",
    "    # method constructor\n",
    "    def __init__(self, dataset=[], dataX=[], dataY=[], colors=[], labels=[], x_labels=\"\", y_labels=\"\", titles=\"\"):\n",
    "        self.dataset = dataset\n",
    "        self.dataX = dataX\n",
    "        self.dataY = dataY\n",
    "        self.colors = colors\n",
    "        self.labels = labels\n",
    "        self.x_labels = x_labels\n",
    "        self.y_labels = y_labels\n",
    "        self.titles = titles\n",
    "    # ------------------------------------------------------------------------\n",
    "        \n",
    "    # single column\n",
    "    def time_series(self):\n",
    "        \n",
    "        # make frame plot\n",
    "        fig, ax = plt.subplots(figsize = (10,5))\n",
    "\n",
    "        # make time series plot\n",
    "        ax.plot(self.dataX, self.dataY, color=\"tab:\"+str(self.colors), label=self.labels, linewidth=2)\n",
    "\n",
    "        # set labels\n",
    "        ax.set_title(self.titles, fontsize=12)\n",
    "        ax.set_xlabel(self.x_labels, fontsize=10)\n",
    "        ax.set_ylabel(self.y_labels, fontsize=10)\n",
    "        ax.legend(loc=\"upper left\")\n",
    "        ax.grid(True)\n",
    "\n",
    "        plt.show()\n",
    "    # ------------------------------------------------------------------------\n",
    "    \n",
    "    # multiple columns\n",
    "    def multiple_time_series(self):\n",
    "        \n",
    "        # make frame plot\n",
    "        fig, ax = plt.subplots(figsize = (10,5))\n",
    "        \n",
    "        # make time series plot\n",
    "        for x in range(len(self.dataset.columns)):\n",
    "            ax.plot(self.dataset.index, self.dataset.iloc[:, x:x+1], color=\"tab:\"+str(self.colors[x]), label=self.labels[x], linewidth=2)\n",
    "\n",
    "        # set labels\n",
    "        ax.set_title(self.titles, fontsize=12)\n",
    "        ax.set_xlabel(self.x_labels, fontsize=10)\n",
    "        ax.set_ylabel(self.y_labels, fontsize=10)\n",
    "        ax.legend(loc=\"upper left\")\n",
    "        ax.grid(True)\n",
    "\n",
    "        plt.show()\n",
    "    # ------------------------------------------------------------------------"
   ]
  }
 ],
 "metadata": {
  "kernelspec": {
   "display_name": "Python 3 (ipykernel)",
   "language": "python",
   "name": "python3"
  },
  "language_info": {
   "codemirror_mode": {
    "name": "ipython",
    "version": 3
   },
   "file_extension": ".py",
   "mimetype": "text/x-python",
   "name": "python",
   "nbconvert_exporter": "python",
   "pygments_lexer": "ipython3",
   "version": "3.11.5"
  }
 },
 "nbformat": 4,
 "nbformat_minor": 5
}
