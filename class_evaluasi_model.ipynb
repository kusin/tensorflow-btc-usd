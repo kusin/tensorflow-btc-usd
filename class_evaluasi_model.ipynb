{
 "cells": [
  {
   "cell_type": "markdown",
   "id": "55e39997-58bf-4b5a-bb4c-7c6b7a8d52da",
   "metadata": {},
   "source": [
    "## Stock Price BTC-USD with Neural Network Algorithm"
   ]
  },
  {
   "cell_type": "code",
   "execution_count": 1,
   "id": "e1f997b2-e1d0-4e7e-be73-34e86eea7746",
   "metadata": {},
   "outputs": [],
   "source": [
    "# pustaka untuk manipulasi data-frame\n",
    "import pandas as pd\n",
    "from pandas import concat\n",
    "from pandas import read_csv\n",
    "from pandas import read_excel\n",
    "from pandas_datareader import DataReader\n",
    "\n",
    "# pustaka untuk madnipulasi data-array\n",
    "import numpy as np\n",
    "from numpy import concatenate\n",
    "from numpy import array\n",
    "\n",
    "from sklearn.metrics import mean_squared_error\n",
    "from sklearn.metrics import mean_absolute_error\n",
    "from sklearn.metrics import mean_absolute_percentage_error"
   ]
  },
  {
   "cell_type": "markdown",
   "id": "fb4acab7-557a-49f4-b074-d211c247125a",
   "metadata": {},
   "source": [
    "### Evaluasi Model Prediksi"
   ]
  },
  {
   "cell_type": "code",
   "execution_count": 2,
   "id": "8e2b7c85-cee1-452c-be4d-ef67f6485d9b",
   "metadata": {},
   "outputs": [],
   "source": [
    "class Data_evaluation:\n",
    "    \n",
    "    # method constructor\n",
    "    def __init__(self, mae=0, mse=0, mape=0):\n",
    "        self.mae = mae\n",
    "        self.mse = mse\n",
    "        self.mape = mape\n",
    "    \n",
    "    def eror_rate(self):\n",
    "        self.mae = mae + 1\n",
    "        self.mse = mse + 2\n",
    "        self.mape = mape + 3\n",
    "        \n",
    "        return [self.mae, self.mse, self.mape]\n",
    "        \n",
    "        "
   ]
  },
  {
   "cell_type": "code",
   "execution_count": null,
   "id": "4d3c0532-6e85-4b07-b387-b3aa2d9af6e0",
   "metadata": {},
   "outputs": [],
   "source": []
  }
 ],
 "metadata": {
  "kernelspec": {
   "display_name": "Python 3 (ipykernel)",
   "language": "python",
   "name": "python3"
  },
  "language_info": {
   "codemirror_mode": {
    "name": "ipython",
    "version": 3
   },
   "file_extension": ".py",
   "mimetype": "text/x-python",
   "name": "python",
   "nbconvert_exporter": "python",
   "pygments_lexer": "ipython3",
   "version": "3.9.18"
  }
 },
 "nbformat": 4,
 "nbformat_minor": 5
}
