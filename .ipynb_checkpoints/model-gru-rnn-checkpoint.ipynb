{
 "cells": [
  {
   "cell_type": "markdown",
   "id": "43e7339b-56e4-493d-bb31-a6831fd177af",
   "metadata": {},
   "source": [
    "# Prediction of BTC-USD Price with algorithm GRU-RNN"
   ]
  },
  {
   "cell_type": "markdown",
   "id": "61b8f448-70ba-47de-b065-01a39fddaa3e",
   "metadata": {},
   "source": [
    "## 1. Deklarasi Pustaka"
   ]
  },
  {
   "cell_type": "code",
   "execution_count": null,
   "id": "83bf4f0c-803c-462e-ad8c-b1772d13bbab",
   "metadata": {
    "tags": []
   },
   "outputs": [],
   "source": [
    "# pustaka untuk manipulasi data-frame\n",
    "import pandas as pd\n",
    "from pandas import concat\n",
    "from pandas import read_csv\n",
    "from pandas import read_excel\n",
    "from pandas_datareader import DataReader\n",
    "\n",
    "# pustaka untuk madnipulasi data-array\n",
    "import numpy as np\n",
    "from numpy import concatenate\n",
    "from numpy import array\n",
    "\n",
    "# pustaka untuk waktu komputasi\n",
    "import time\n",
    "from datetime import datetime\n",
    "\n",
    "# pustaka untuk visualisasi data\n",
    "import seaborn as sns\n",
    "from matplotlib import pyplot\n",
    "from matplotlib import pyplot as plt\n",
    "\n",
    "# pustaka untuk visualisasi acf dan pacf\n",
    "import scipy.stats as sc\n",
    "import statsmodels.api as sm\n",
    "from statsmodels.graphics.tsaplots import plot_pacf\n",
    "from statsmodels.graphics.tsaplots import plot_acf\n",
    "        \n",
    "# pustaka untuk membuat data latih dan data uji.\n",
    "from sklearn.model_selection import train_test_split\n",
    "from sklearn.preprocessing import MinMaxScaler\n",
    "from sklearn.preprocessing import LabelEncoder\n",
    "\n",
    "# pustaka untuk membuat model prediksi LSTM-RNN\n",
    "import itertools\n",
    "import tensorflow as tf\n",
    "from keras.utils import Sequence\n",
    "from keras.models import Sequential\n",
    "from keras.layers import SimpleRNN\n",
    "from keras.layers import LSTM\n",
    "from keras.layers import GRU\n",
    "from keras.layers import Dense\n",
    "from keras.layers import Dropout\n",
    "from keras.layers import TimeDistributed\n",
    "from keras.layers import Bidirectional\n",
    "from keras.optimizers import Adam, Adamax, RMSprop, SGD\n",
    "\n",
    "# early stoping\n",
    "from keras.callbacks import EarlyStopping\n",
    "from keras.callbacks import ModelCheckpoint\n",
    "\n",
    "# pustaka untuk  evaluasi model prediksi\n",
    "import math\n",
    "from math import sqrt\n",
    "from sklearn.metrics import mean_squared_error\n",
    "from sklearn.metrics import mean_absolute_error"
   ]
  },
  {
   "cell_type": "markdown",
   "id": "c0f2667b-1f63-4588-97e5-29b3feee951b",
   "metadata": {},
   "source": [
    "## 2. Akuisisi Data"
   ]
  },
  {
   "cell_type": "code",
   "execution_count": null,
   "id": "ea8c17f9-257c-45b2-b9b7-be666d84b5a3",
   "metadata": {},
   "outputs": [],
   "source": [
    "# Set waktu komputasi\n",
    "start = time.time()"
   ]
  },
  {
   "cell_type": "code",
   "execution_count": null,
   "id": "ba6972a2-7799-4ddb-8859-59ba2a1bf7c8",
   "metadata": {},
   "outputs": [],
   "source": [
    "tf.random.set_seed(42)"
   ]
  },
  {
   "cell_type": "code",
   "execution_count": null,
   "id": "dcc01ce8-947f-4500-96af-a5df801a2f00",
   "metadata": {},
   "outputs": [],
   "source": [
    "# membaca dataset via csv file\n",
    "dataset = read_csv(\"dataset/BTC-USD.csv\", parse_dates=['Date']);"
   ]
  },
  {
   "cell_type": "code",
   "execution_count": null,
   "id": "5e1e7089-a08a-41ca-93b0-682a44e6cf18",
   "metadata": {},
   "outputs": [],
   "source": [
    "# set index tanggal\n",
    "dataset = dataset.set_index(\"Date\");"
   ]
  },
  {
   "cell_type": "code",
   "execution_count": null,
   "id": "84349a89-29fd-423d-a61f-576eedcb5a81",
   "metadata": {},
   "outputs": [],
   "source": [
    "# menampilkan metadata dataset\n",
    "dataset.info();"
   ]
  },
  {
   "cell_type": "code",
   "execution_count": null,
   "id": "055d79ac-d2b5-434b-80b6-5f249aab9209",
   "metadata": {},
   "outputs": [],
   "source": [
    "dataset"
   ]
  },
  {
   "cell_type": "markdown",
   "id": "30b6d2c3-77c7-4763-b1b2-6ea15c6b7247",
   "metadata": {},
   "source": [
    "## 3. Eksplorasi Datsa Analisis"
   ]
  },
  {
   "cell_type": "code",
   "execution_count": null,
   "id": "fbfe782c-fd8d-47e3-bda9-6cd68dde525f",
   "metadata": {},
   "outputs": [],
   "source": [
    "# membuat frame\n",
    "fig, ((ax1, ax2), (ax3, ax4)) = plt.subplots(nrows=2, ncols=2, facecolor=\"#f0f0f0\", figsize=(20, 10))\n",
    "\n",
    "# membuat time series plot\n",
    "ax1.plot(dataset.index.values, dataset[\"Open\"], color=\"tab:blue\", label=\"Open Price\", linewidth=2)\n",
    "\n",
    "# membuat label-label\n",
    "ax1.set_title(\"Open Price Bitcoin\", fontsize=14)\n",
    "ax1.set_xlabel(\"Date\", fontsize=12)\n",
    "ax1.set_ylabel(\"Stock Price\", fontsize=12)\n",
    "ax1.legend(loc='upper left')\n",
    "ax1.grid(True)\n",
    "# ----------------------------------------------------------------------------------------------------\n",
    "\n",
    "# membuat time series plot\n",
    "ax2.plot(dataset.index.values, dataset[\"Close\"], color=\"tab:green\", label=\"Close Price\", linewidth=2)\n",
    "\n",
    "# membuat label-label\n",
    "ax2.set_title(\"Close Price Bitcoin\", fontsize=14)\n",
    "ax2.set_xlabel(\"Date\", fontsize=12)\n",
    "ax2.set_ylabel(\"Stock Price\", fontsize=12)\n",
    "ax2.legend(loc='upper left')\n",
    "ax2.grid(True)\n",
    "# ----------------------------------------------------------------------------------------------------\n",
    "\n",
    "# membuat time series plot\n",
    "ax3.plot(dataset.index.values, dataset[\"High\"], color=\"tab:orange\", label=\"High Price\", linewidth=2)\n",
    "\n",
    "# membuat label-label\n",
    "ax3.set_title(\"High Price Bitcoin\", fontsize=14)\n",
    "ax3.set_xlabel(\"Date\", fontsize=12)\n",
    "ax3.set_ylabel(\"Stock Price\", fontsize=12)\n",
    "ax3.legend(loc='upper left')\n",
    "ax3.grid(True)\n",
    "# ----------------------------------------------------------------------------------------------------\n",
    "\n",
    "# membuat time series plot\n",
    "ax4.plot(dataset.index.values, dataset[\"Low\"], color=\"tab:red\", label=\"Low Price\", linewidth=2)\n",
    "\n",
    "# membuat label-label\n",
    "ax4.set_title(\"Low Price Bitcoin\", fontsize=14)\n",
    "ax4.set_xlabel(\"Date\", fontsize=12)\n",
    "ax4.set_ylabel(\"Stock Price\", fontsize=12)\n",
    "ax4.legend(loc='upper left')\n",
    "ax4.grid(True)\n",
    "# ----------------------------------------------------------------------------------------------------\n",
    "\n",
    "# set the spacing between subplots\n",
    "plt.subplots_adjust(wspace=0.15, hspace=0.25)\n",
    "\n",
    "# menampilkan plot\n",
    "plt.show()"
   ]
  },
  {
   "cell_type": "markdown",
   "id": "9e9a1ea0-a544-46c3-b212-41ea5b62ef00",
   "metadata": {},
   "source": [
    "## 4. Praproses Dataset"
   ]
  },
  {
   "cell_type": "markdown",
   "id": "3ee3e8c5-16fe-4324-a0cd-0f28475cb23b",
   "metadata": {},
   "source": [
    "- Seleksi Fitur"
   ]
  },
  {
   "cell_type": "code",
   "execution_count": null,
   "id": "991474f8-99f8-4000-8b05-1b6f04c8bc8d",
   "metadata": {},
   "outputs": [],
   "source": [
    "# memilih fitur close price\n",
    "dataset = dataset.filter(['Close']);"
   ]
  },
  {
   "cell_type": "code",
   "execution_count": null,
   "id": "17ac1796-b7f7-40da-9dab-a6cdc00a8a44",
   "metadata": {},
   "outputs": [],
   "source": [
    "# convert dataframe to series close price\n",
    "data = dataset.values"
   ]
  },
  {
   "cell_type": "code",
   "execution_count": null,
   "id": "c6241934-dee2-4aa2-9f59-27a5f6c29f77",
   "metadata": {},
   "outputs": [],
   "source": [
    "np.round(data[:5],7)"
   ]
  },
  {
   "cell_type": "code",
   "execution_count": null,
   "id": "aba4098e-adc6-4877-b955-9234dfb628b2",
   "metadata": {},
   "outputs": [],
   "source": [
    "data.shape"
   ]
  },
  {
   "cell_type": "markdown",
   "id": "4c2f0857-f420-48fb-99f0-3fed28a1cd25",
   "metadata": {},
   "source": [
    "- Normalisasi Data"
   ]
  },
  {
   "cell_type": "code",
   "execution_count": null,
   "id": "247efc60-034d-4a27-aaeb-5785b2499fb6",
   "metadata": {},
   "outputs": [],
   "source": [
    "# normalize features\n",
    "scaler = MinMaxScaler(feature_range=(0, 1))\n",
    "scaled_data = scaler.fit_transform(np.array(data).reshape(-1,1))"
   ]
  },
  {
   "cell_type": "code",
   "execution_count": null,
   "id": "ca0787a7-2bfd-4f0a-9a07-aa7f0e2a493a",
   "metadata": {},
   "outputs": [],
   "source": [
    "np.round(scaled_data[:5],7)"
   ]
  },
  {
   "cell_type": "code",
   "execution_count": null,
   "id": "25c5b41d-18f6-4a4c-81b9-5f67522afabb",
   "metadata": {},
   "outputs": [],
   "source": [
    "scaled_data.shape"
   ]
  },
  {
   "cell_type": "code",
   "execution_count": null,
   "id": "c1e47a64-4b83-4800-ae03-1c44620581e5",
   "metadata": {},
   "outputs": [],
   "source": [
    "# membuat frame\n",
    "fig, ax = plt.subplots(figsize = (10,5))\n",
    "\n",
    "# membuat time series plot\n",
    "ax.plot(dataset.index.values, scaled_data, color=\"tab:blue\", label=\"CLose Price\", linewidth=2)\n",
    "\n",
    "# membuat label-label\n",
    "ax.set_title(\"Close Price Bitcoin\", fontsize=12)\n",
    "ax.set_xlabel(\"Date\", fontsize=10)\n",
    "ax.set_ylabel(\"Stock Price\", fontsize=10)\n",
    "ax.legend(loc='upper left')\n",
    "ax.grid(True)\n",
    "\n",
    "# menampilkan plot\n",
    "plt.show()"
   ]
  },
  {
   "cell_type": "markdown",
   "id": "f9cca01b-bc04-4720-b4f2-ae97ec192c6e",
   "metadata": {},
   "source": [
    "- Data latih dan Data uji"
   ]
  },
  {
   "cell_type": "code",
   "execution_count": null,
   "id": "13871fc0-ceda-4df9-8be3-a77432b30872",
   "metadata": {},
   "outputs": [],
   "source": [
    "# split data train and test\n",
    "train_data, test_data = train_test_split(scaled_data, train_size=0.80, test_size=0.20, shuffle=False)"
   ]
  },
  {
   "cell_type": "code",
   "execution_count": null,
   "id": "784ad16f-608d-4c81-9544-eefbd9982ce3",
   "metadata": {},
   "outputs": [],
   "source": [
    "# data train\n",
    "np.round(train_data[:5],7)"
   ]
  },
  {
   "cell_type": "code",
   "execution_count": null,
   "id": "7c3e34ea-32f8-43a7-8fa8-a6ac3a911b46",
   "metadata": {},
   "outputs": [],
   "source": [
    "train_data.shape"
   ]
  },
  {
   "cell_type": "code",
   "execution_count": null,
   "id": "edc828cc-c17c-4fc2-816b-051fa5691c3f",
   "metadata": {},
   "outputs": [],
   "source": [
    "# data test\n",
    "np.round(test_data[:5],7)"
   ]
  },
  {
   "cell_type": "code",
   "execution_count": null,
   "id": "395b5fc5-dce7-460c-8ce2-78937c6217bc",
   "metadata": {},
   "outputs": [],
   "source": [
    "test_data.shape"
   ]
  },
  {
   "cell_type": "markdown",
   "id": "33b5213d-fb28-4c08-a2f7-86c41d32726c",
   "metadata": {},
   "source": [
    "- Supervised Learning"
   ]
  },
  {
   "cell_type": "code",
   "execution_count": null,
   "id": "3ed39102-5c57-45b8-99d1-a5903728521b",
   "metadata": {},
   "outputs": [],
   "source": [
    "# convert an array of values into a dataset matrix\n",
    "\n",
    "# function for supervised learning\n",
    "def create_dataset(look_back, dataset):\n",
    "    \n",
    "    # declare variable X and Y\n",
    "    dataX = []\n",
    "    dataY = []\n",
    "    \n",
    "    # for loop for create supervised learning\n",
    "    for i in range(look_back, len(dataset)):\n",
    "        \n",
    "        # insert value X and Y \n",
    "        dataX.append(dataset[i-look_back:i, 0])\n",
    "        dataY.append(dataset[i, 0])\n",
    "        \n",
    "    # return value X and Y\n",
    "    return np.array(dataX), np.array(dataY)"
   ]
  },
  {
   "cell_type": "code",
   "execution_count": null,
   "id": "e63af2e4-6900-44a6-bc1c-b8f1bcfc0b27",
   "metadata": {},
   "outputs": [],
   "source": [
    "# process supervised learning\n",
    "look_back = 60\n",
    "x_train, y_train = create_dataset(look_back, train_data)\n",
    "x_test, y_test = create_dataset(look_back, test_data)"
   ]
  },
  {
   "cell_type": "code",
   "execution_count": null,
   "id": "1ea94bd3-a30b-4dd5-8dc3-3b62387ac51d",
   "metadata": {},
   "outputs": [],
   "source": [
    "print(x_train.shape, y_train.shape)"
   ]
  },
  {
   "cell_type": "code",
   "execution_count": null,
   "id": "3b814fb0-c615-4a72-ae77-e5c8692717fc",
   "metadata": {},
   "outputs": [],
   "source": [
    "print(x_test.shape, y_test.shape)"
   ]
  },
  {
   "cell_type": "code",
   "execution_count": null,
   "id": "95009f3c-1541-42c0-b396-ee2dd6651bcb",
   "metadata": {},
   "outputs": [],
   "source": [
    "# reshape input to be [samples, time steps, features]\n",
    "x_train = np.reshape(x_train, (x_train.shape[0], x_train.shape[1], 1))\n",
    "x_test = np.reshape(x_test, (x_test.shape[0], x_test.shape[1], 1))"
   ]
  },
  {
   "cell_type": "code",
   "execution_count": null,
   "id": "526c5c15-1a1c-43e2-b3eb-0dcde553fe56",
   "metadata": {},
   "outputs": [],
   "source": [
    "print(x_train.shape, x_test.shape)"
   ]
  },
  {
   "cell_type": "markdown",
   "id": "41d83bd2-ad41-4243-a347-6d11ab95b048",
   "metadata": {
    "tags": []
   },
   "source": [
    "## 5. Modeling GRU-RNN"
   ]
  },
  {
   "cell_type": "markdown",
   "id": "9a8f6d41-bbc0-448c-a455-aa0c3d3c16dd",
   "metadata": {
    "tags": []
   },
   "source": [
    "### Percobaan 1 - Vanilla GRU-RNN"
   ]
  },
  {
   "cell_type": "code",
   "execution_count": null,
   "id": "ac407295-61dd-403c-8ccc-94f6d216b98b",
   "metadata": {},
   "outputs": [],
   "source": [
    "tf.random.set_seed(42)"
   ]
  },
  {
   "cell_type": "code",
   "execution_count": null,
   "id": "55dd37ef-a271-4ecb-a2e6-b6c914e27d3a",
   "metadata": {},
   "outputs": [],
   "source": [
    "# The GRU-RNN architecture\n",
    "model_1 = tf.keras.Sequential([\n",
    "    \n",
    "    # The input layer\n",
    "    tf.keras.layers.GRU(units=50, return_sequences=False, input_shape=(x_train.shape[1], 1)),\n",
    "    \n",
    "    # The output layer\n",
    "    tf.keras.layers.Dense(1)\n",
    "])"
   ]
  },
  {
   "cell_type": "code",
   "execution_count": null,
   "id": "631bd6ab-9e75-4b83-96b3-40057addcb34",
   "metadata": {},
   "outputs": [],
   "source": [
    "# Compile the model GRU\n",
    "model_1.compile(\n",
    "    optimizer=tf.keras.optimizers.Adam(learning_rate=0.00075),\n",
    "    loss='mean_squared_error'\n",
    ")"
   ]
  },
  {
   "cell_type": "code",
   "execution_count": null,
   "id": "d76d7cfa-1a51-44a4-b636-cb6a38cbcd19",
   "metadata": {},
   "outputs": [],
   "source": [
    "# fit network\n",
    "history_1 = model_1.fit(x_train, y_train, batch_size=8, epochs=50, validation_data=(x_test, y_test), verbose=1, use_multiprocessing=True, shuffle=False)"
   ]
  },
  {
   "cell_type": "code",
   "execution_count": null,
   "id": "f0b1cd62-032e-4320-8259-2b9301db7018",
   "metadata": {},
   "outputs": [],
   "source": [
    "model_1.summary()"
   ]
  },
  {
   "cell_type": "code",
   "execution_count": null,
   "id": "fc1e0bfb-26d8-44ec-b3de-ba5c1e5910e1",
   "metadata": {},
   "outputs": [],
   "source": [
    "predictions_1 = model_1.predict(x_test)"
   ]
  },
  {
   "cell_type": "code",
   "execution_count": null,
   "id": "e4656062-f513-46f6-9077-0304654fba59",
   "metadata": {},
   "outputs": [],
   "source": [
    "print(predictions_1[:7])"
   ]
  },
  {
   "cell_type": "code",
   "execution_count": null,
   "id": "33948f95-4526-4df1-8ef2-c02d23fe78a7",
   "metadata": {},
   "outputs": [],
   "source": [
    "# membuat frame\n",
    "fig, ax = plt.subplots(figsize = (10,5))\n",
    "\n",
    "# membuat time series plot\n",
    "ax.plot(history_1.history['loss'], color=\"tab:blue\", label=\"loss func\", linewidth=2.5)\n",
    "\n",
    "# membuat label-label\n",
    "ax.set_title(\"Percobaan 1 - Grafik Loss Function\", fontsize=14)\n",
    "ax.set_xlabel(\"epoch\", fontsize=10)\n",
    "ax.set_ylabel(\"loss function\", fontsize=10)\n",
    "ax.legend(loc='upper right')\n",
    "ax.grid(True)\n",
    "\n",
    "# menampilkan plot\n",
    "plt.show()"
   ]
  },
  {
   "cell_type": "markdown",
   "id": "e20bbaa5-7e93-41cc-bb86-f120a8fcb7f1",
   "metadata": {
    "tags": []
   },
   "source": [
    "#### Evaluasi Model (Percobaan 1 - Vanilla GRU-RNN)"
   ]
  },
  {
   "cell_type": "code",
   "execution_count": null,
   "id": "0c40f91e-cca4-48c2-9f73-304372621103",
   "metadata": {},
   "outputs": [],
   "source": [
    "scores_1 = model_1.evaluate(x_train, y_train)\n",
    "scores_1"
   ]
  },
  {
   "cell_type": "code",
   "execution_count": null,
   "id": "996db62e-5991-4867-a5f3-398013b4749a",
   "metadata": {},
   "outputs": [],
   "source": [
    "scores_1 = model_1.evaluate(x_test, y_test)\n",
    "scores_1"
   ]
  },
  {
   "cell_type": "markdown",
   "id": "556064da-9e23-4f3a-9013-ae84fd7d6099",
   "metadata": {},
   "source": [
    "- MAE (Mean Absolute Error)"
   ]
  },
  {
   "cell_type": "code",
   "execution_count": null,
   "id": "74b61c18-1c86-4544-b5ec-8e6b8c5cef38",
   "metadata": {},
   "outputs": [],
   "source": [
    "mae_1 = mean_absolute_error(y_test, predictions_1)\n",
    "print('Test MAE : %.4f' % mae_1)"
   ]
  },
  {
   "cell_type": "markdown",
   "id": "7a50cdff-4158-47a7-a61d-5423c6aa64c8",
   "metadata": {},
   "source": [
    "- MSE (Mean Squared Error)"
   ]
  },
  {
   "cell_type": "code",
   "execution_count": null,
   "id": "4024b668-56b9-40b8-8ca2-26c767ecce0b",
   "metadata": {},
   "outputs": [],
   "source": [
    "mse_1 = mean_squared_error(y_test, predictions_1)\n",
    "print('Test MSE: %.4f' % mse_1)"
   ]
  },
  {
   "cell_type": "markdown",
   "id": "f3d0fd91-71a5-42ce-ae50-f206532f0e6d",
   "metadata": {},
   "source": [
    "- RMSE (Root Mean Squared Error)"
   ]
  },
  {
   "cell_type": "code",
   "execution_count": null,
   "id": "65108649-baae-438d-85c2-2e6dc7f59009",
   "metadata": {},
   "outputs": [],
   "source": [
    "rmse_1 = sqrt(mse_1)\n",
    "print('Test RMSE: %.4f' % rmse_1)"
   ]
  },
  {
   "cell_type": "markdown",
   "id": "81d8c8ac-017d-44d4-b459-13bc5f8a18aa",
   "metadata": {},
   "source": [
    "- Corelation pearson"
   ]
  },
  {
   "cell_type": "code",
   "execution_count": null,
   "id": "5042ef57-ccf1-4a24-bce4-b71719198b05",
   "metadata": {},
   "outputs": [],
   "source": [
    "hasil_1 = np.stack((y_test.reshape(-1), predictions_1.reshape(-1)), axis=1)\n",
    "hasil_1 = pd.DataFrame(hasil_1, columns = ['data_aktual','prediksi'])\n",
    "hasil_1"
   ]
  },
  {
   "cell_type": "code",
   "execution_count": null,
   "id": "9659d65c-334d-439e-aaa7-fea677c4e264",
   "metadata": {},
   "outputs": [],
   "source": [
    "r1, p1 = sc.pearsonr(hasil_1[\"data_aktual\"], hasil_1[\"prediksi\"])\n",
    "print(\"korelasi data akual dengan hasil prediksi\" +\" {:.4f} \".format(r1)+ \"dengan signifikansi\" +\" {:.4f} \".format(p1))"
   ]
  },
  {
   "cell_type": "markdown",
   "id": "959627f5-50fb-4bb5-b84f-f9ac6f4922f5",
   "metadata": {},
   "source": [
    "#### Visualisasi Data (Percobaan 1 - Vanilla GRU-RNN)"
   ]
  },
  {
   "cell_type": "code",
   "execution_count": null,
   "id": "12a35495-755b-4a82-a136-f2f0c9772260",
   "metadata": {},
   "outputs": [],
   "source": [
    "# membuat frame\n",
    "fig, ax = plt.subplots(figsize = (10,5))\n",
    "\n",
    "# membuat time series plot\n",
    "ax.plot(y_test, color=\"tab:blue\", label=\"data aktual\", linewidth=2.5)\n",
    "ax.plot(predictions_1, color=\"tab:red\", label=\"data prediksi\", linewidth=2.5)\n",
    "\n",
    "# membuat label-label\n",
    "ax.set_title(\"Percobaan 1 - Vanilla GRU-RNN\", fontsize=14)\n",
    "ax.legend(loc=\"best\")\n",
    "ax.grid(True)\n",
    "\n",
    "# menampilka\n",
    "plt.show()"
   ]
  },
  {
   "cell_type": "code",
   "execution_count": null,
   "id": "40c0423b-5df9-47ec-a1de-b8aaee21750b",
   "metadata": {},
   "outputs": [],
   "source": [
    "# inverse value test predictions\n",
    "predictions_1 = scaler.inverse_transform(predictions_1)"
   ]
  },
  {
   "cell_type": "code",
   "execution_count": null,
   "id": "6f7d2762-7228-4e80-9dcc-72bd380b42e3",
   "metadata": {},
   "outputs": [],
   "source": [
    "# shift test predictions for plotting\n",
    "predictionsPlot_1 = np.empty_like(scaled_data)\n",
    "predictionsPlot_1[:, :] = np.nan\n",
    "predictionsPlot_1[(len(dataset) - predictions_1.shape[0]):len(dataset), :] = predictions_1"
   ]
  },
  {
   "cell_type": "code",
   "execution_count": null,
   "id": "32062827-eb62-420a-8ddd-179df19ab1ea",
   "metadata": {},
   "outputs": [],
   "source": [
    "# membuat frame\n",
    "fig, ax = plt.subplots(figsize = (15,5))\n",
    "\n",
    "# membuat time series plot\n",
    "ax.plot(dataset.index.values, scaler.inverse_transform(scaled_data), color=\"tab:blue\", label=\"data aktual\", linewidth=2.5)\n",
    "ax.plot(dataset.index.values, predictionsPlot_1, color=\"tab:red\", label=\"data prediksi\", linewidth=2.5)\n",
    "\n",
    "# membuat label-label\n",
    "ax.set_title(\"Percobaan 1 - Vanilla GRU-RNN\", fontsize=14)\n",
    "ax.set_xlabel(\"Years\", fontsize=10)\n",
    "ax.set_ylabel(\"Price BTC-USD\", fontsize=10)\n",
    "ax.legend(loc=\"best\")\n",
    "ax.grid(True)\n",
    "\n",
    "# menampilkan plot\n",
    "plt.show()"
   ]
  },
  {
   "cell_type": "markdown",
   "id": "2c444432-3306-4dba-8148-b75b17ead340",
   "metadata": {
    "tags": []
   },
   "source": [
    "### Percobaan 2 - Stacked GRU-RNN"
   ]
  },
  {
   "cell_type": "code",
   "execution_count": null,
   "id": "2e116e17-ada8-4d74-8239-23a751af38aa",
   "metadata": {},
   "outputs": [],
   "source": [
    "tf.random.set_seed(42)"
   ]
  },
  {
   "cell_type": "code",
   "execution_count": null,
   "id": "74348caa-78c9-4e71-9791-d50d448cc2e1",
   "metadata": {},
   "outputs": [],
   "source": [
    "# The GRU-RNN architecture\n",
    "model_2 = tf.keras.Sequential([\n",
    "    \n",
    "    # First GRU layer with Dropout regularisation\n",
    "    tf.keras.layers.GRU(units=50, return_sequences=True, input_shape=(x_train.shape[1], 1)),\n",
    "    \n",
    "    # Secound GRU layer with Dropout regularisation\n",
    "    tf.keras.layers.GRU(units=50, return_sequences=False),\n",
    "    \n",
    "    # The output layer\n",
    "    tf.keras.layers.Dense(1)\n",
    "])"
   ]
  },
  {
   "cell_type": "code",
   "execution_count": null,
   "id": "9e9fd580-514b-456f-904c-9ff40583d89e",
   "metadata": {},
   "outputs": [],
   "source": [
    "# Compile the model GRU\n",
    "model_2.compile(optimizer='adam', loss='mean_squared_error')"
   ]
  },
  {
   "cell_type": "code",
   "execution_count": null,
   "id": "3f686405-c8cd-4bdb-b5b4-2c1b790d6eb1",
   "metadata": {},
   "outputs": [],
   "source": [
    "# fit network\n",
    "history_2 = model_2.fit(\n",
    "    x_train, y_train,\n",
    "    batch_size=8, epochs=50,\n",
    "    validation_data=(x_test, y_test),\n",
    "    verbose=1,\n",
    "    use_multiprocessing=True,\n",
    "    shuffle=False\n",
    ")"
   ]
  },
  {
   "cell_type": "code",
   "execution_count": null,
   "id": "44e2bcce-29fa-43fd-8730-c351eb4cc8a3",
   "metadata": {},
   "outputs": [],
   "source": [
    "model_2.summary()"
   ]
  },
  {
   "cell_type": "code",
   "execution_count": null,
   "id": "ecabf744-e91d-4fef-a6e7-80451cba973d",
   "metadata": {},
   "outputs": [],
   "source": [
    "predictions_2 = model_2.predict(x_test)"
   ]
  },
  {
   "cell_type": "code",
   "execution_count": null,
   "id": "8a6c258f-08b8-475a-9ddc-326aea97ae56",
   "metadata": {},
   "outputs": [],
   "source": [
    "print(predictions_2[:7])"
   ]
  },
  {
   "cell_type": "code",
   "execution_count": null,
   "id": "56c4fd0c-3818-4081-92ef-74923d6e49ce",
   "metadata": {},
   "outputs": [],
   "source": [
    "# membuat frame\n",
    "fig, ax = plt.subplots(figsize = (10,5))\n",
    "\n",
    "# membuat time series plot\n",
    "ax.plot(history_2.history['loss'], color=\"tab:blue\", label=\"loss func\", linewidth=2.5)\n",
    "\n",
    "# membuat label-label\n",
    "ax.set_title(\"Percobaan 2 - Grafik Loss Function\", fontsize=14)\n",
    "ax.set_xlabel(\"epoch\", fontsize=10)\n",
    "ax.set_ylabel(\"loss function\", fontsize=10)\n",
    "ax.legend(loc='upper right')\n",
    "ax.grid(True)\n",
    "\n",
    "# menampilkan plot\n",
    "plt.show()"
   ]
  },
  {
   "cell_type": "markdown",
   "id": "108fa570-bcc0-4a0c-b27a-0584ab27abaf",
   "metadata": {},
   "source": [
    "#### Evaluasi Model (Percobaan 2 - Stacked GRU-RNN)"
   ]
  },
  {
   "cell_type": "code",
   "execution_count": null,
   "id": "71e24616-f789-4ec7-a5b7-2029ecd6038a",
   "metadata": {},
   "outputs": [],
   "source": [
    "scores_2 = model_2.evaluate(x_train, y_train)\n",
    "scores_2"
   ]
  },
  {
   "cell_type": "code",
   "execution_count": null,
   "id": "8671c0e1-0c92-4c21-8c59-c29e41d3e4a2",
   "metadata": {},
   "outputs": [],
   "source": [
    "scores_2 = model_2.evaluate(x_test, y_test)\n",
    "scores_2"
   ]
  },
  {
   "cell_type": "markdown",
   "id": "165348f2-e97d-445c-86ef-05b0a631cece",
   "metadata": {},
   "source": [
    "- MAE (Mean Absolute Error)"
   ]
  },
  {
   "cell_type": "code",
   "execution_count": null,
   "id": "8c1f9b93-8884-4c35-86e6-2e89c33f6433",
   "metadata": {},
   "outputs": [],
   "source": [
    "mae_2 = mean_absolute_error(y_test, predictions_2)\n",
    "print('Test MAE : %.4f' % mae_2)"
   ]
  },
  {
   "cell_type": "markdown",
   "id": "830c56b1-e72b-4ae6-be28-73da0b4e98cb",
   "metadata": {},
   "source": [
    "- MSE (Mean Squared Error)"
   ]
  },
  {
   "cell_type": "code",
   "execution_count": null,
   "id": "063ba2fb-0151-445d-a7bc-67e0f108a75e",
   "metadata": {},
   "outputs": [],
   "source": [
    "mse_2 = mean_squared_error(y_test, predictions_2)\n",
    "print('Test MSE: %.4f' % mse_2)"
   ]
  },
  {
   "cell_type": "markdown",
   "id": "83d95d27-cd1c-401a-8288-1d7247fd378b",
   "metadata": {},
   "source": [
    "- RMSE (Root Mean Squared Error)"
   ]
  },
  {
   "cell_type": "code",
   "execution_count": null,
   "id": "1b455b02-6494-4618-a881-2443495751a7",
   "metadata": {},
   "outputs": [],
   "source": [
    "rmse_2 = sqrt(mse_2)\n",
    "print('Test RMSE: %.4f' % rmse_2)"
   ]
  },
  {
   "cell_type": "markdown",
   "id": "42e26123-cd8f-4192-a4ef-c7f137720710",
   "metadata": {},
   "source": [
    "- Corelation pearson"
   ]
  },
  {
   "cell_type": "code",
   "execution_count": null,
   "id": "8a801411-42c7-416f-90a9-45be964449d6",
   "metadata": {},
   "outputs": [],
   "source": [
    "hasil_2 = np.stack((y_test.reshape(-1), predictions_2.reshape(-1)), axis=1)\n",
    "hasil_2 = pd.DataFrame(hasil_2, columns = ['data_aktual','prediksi'])\n",
    "hasil_2"
   ]
  },
  {
   "cell_type": "code",
   "execution_count": null,
   "id": "89d6ba6e-9de2-4c54-8102-4789d476566e",
   "metadata": {},
   "outputs": [],
   "source": [
    "r2, p2 = sc.pearsonr(hasil_2[\"data_aktual\"], hasil_2[\"prediksi\"])\n",
    "print(\"korelasi data akual dengan hasil prediksi\" +\" {:.4f} \".format(r2)+ \"dengan signifikansi\" +\" {:.4f} \".format(p2))"
   ]
  },
  {
   "cell_type": "markdown",
   "id": "13b6d58b-b294-4092-b422-2d9f91cf9f12",
   "metadata": {},
   "source": [
    "#### Visualisasi Data (Percobaan 2 - Stacked GRU-RNN)"
   ]
  },
  {
   "cell_type": "code",
   "execution_count": null,
   "id": "c8b2d07a-2d50-4414-8564-b5a150c00c98",
   "metadata": {},
   "outputs": [],
   "source": [
    "# membuat frame\n",
    "fig, ax = plt.subplots(figsize = (10,5))\n",
    "\n",
    "# membuat time series plot\n",
    "ax.plot(y_test, color=\"tab:blue\", label=\"data aktual\", linewidth=2.5)\n",
    "ax.plot(predictions_2, color=\"tab:red\", label=\"data prediksi\", linewidth=2.5)\n",
    "\n",
    "# membuat label-label\n",
    "ax.set_title(\"Percobaan 2 - Stacked GRU-RNN\", fontsize=14)\n",
    "ax.legend(loc=\"best\")\n",
    "ax.grid(True)\n",
    "\n",
    "# menampilka\n",
    "plt.show()"
   ]
  },
  {
   "cell_type": "code",
   "execution_count": null,
   "id": "05aa5eae-516c-4479-a83a-020fcf2e0132",
   "metadata": {},
   "outputs": [],
   "source": [
    "# inverse value test predictions\n",
    "predictions_2 = scaler.inverse_transform(predictions_2)"
   ]
  },
  {
   "cell_type": "code",
   "execution_count": null,
   "id": "0396287c-a291-4be1-9720-241f1d0ec34a",
   "metadata": {},
   "outputs": [],
   "source": [
    "# shift test predictions for plotting\n",
    "predictionsPlot_2 = np.empty_like(scaled_data)\n",
    "predictionsPlot_2[:, :] = np.nan\n",
    "predictionsPlot_2[(len(dataset) - predictions_2.shape[0]):len(dataset), :] = predictions_2"
   ]
  },
  {
   "cell_type": "code",
   "execution_count": null,
   "id": "3a44fcc6-238b-4fc0-9490-c07254762580",
   "metadata": {},
   "outputs": [],
   "source": [
    "# membuat frame\n",
    "fig, ax = plt.subplots(figsize = (15,5))\n",
    "\n",
    "# membuat time series plot\n",
    "ax.plot(dataset.index.values, scaler.inverse_transform(scaled_data), color=\"tab:blue\", label=\"data aktual\", linewidth=2.5)\n",
    "ax.plot(dataset.index.values, predictionsPlot_2, color=\"tab:red\", label=\"data prediksi\", linewidth=2.5)\n",
    "\n",
    "# membuat label-label\n",
    "ax.set_title(\"Percobaan 2 - Stacked GRU-RNN\", fontsize=14)\n",
    "ax.set_xlabel(\"Years\", fontsize=10)\n",
    "ax.set_ylabel(\"Price BTC-USD\", fontsize=10)\n",
    "ax.legend(loc=\"best\")\n",
    "ax.grid(True)\n",
    "\n",
    "# menampilkan plot\n",
    "plt.show()"
   ]
  },
  {
   "cell_type": "markdown",
   "id": "dbf35e69-11a2-4dbb-9339-456ae161f045",
   "metadata": {
    "tags": []
   },
   "source": [
    "### Percobaan 3 - Bidirectional GRU-RNN"
   ]
  },
  {
   "cell_type": "code",
   "execution_count": null,
   "id": "cc684395-9f97-4485-80cf-f2e639706ae0",
   "metadata": {},
   "outputs": [],
   "source": [
    "tf.random.set_seed(42)"
   ]
  },
  {
   "cell_type": "code",
   "execution_count": null,
   "id": "35bbdea9-a3c7-4973-a4a8-bfde16308d63",
   "metadata": {},
   "outputs": [],
   "source": [
    "# The GRU-RNN architecture\n",
    "model_3 = tf.keras.Sequential([\n",
    "    \n",
    "    # The input layer\n",
    "    tf.keras.layers.Bidirectional(\n",
    "        tf.keras.layers.GRU(units=50, return_sequences=False, input_shape=(x_train.shape[1], 1))\n",
    "    ),\n",
    "    \n",
    "    # The output layer\n",
    "    tf.keras.layers.Dense(1)\n",
    "])"
   ]
  },
  {
   "cell_type": "code",
   "execution_count": null,
   "id": "8163c052-6c93-4ef6-a174-afb6d4662f81",
   "metadata": {},
   "outputs": [],
   "source": [
    "# Compile the model GRU\n",
    "model_3.compile(optimizer='adam', loss='mean_squared_error')"
   ]
  },
  {
   "cell_type": "code",
   "execution_count": null,
   "id": "6c6355f5-79c6-47a1-9124-96e18d299dcd",
   "metadata": {},
   "outputs": [],
   "source": [
    "# fit network\n",
    "history_3 = model_3.fit(\n",
    "    x_train,\n",
    "    y_train,\n",
    "    batch_size=8,\n",
    "    epochs=50,\n",
    "    validation_data=(x_test, y_test),\n",
    "    verbose=1,\n",
    "    use_multiprocessing=True,\n",
    "    shuffle=False\n",
    ")"
   ]
  },
  {
   "cell_type": "code",
   "execution_count": null,
   "id": "fe51678d-a4b2-44b0-a267-06071bf67a98",
   "metadata": {},
   "outputs": [],
   "source": [
    "model_3.summary()"
   ]
  },
  {
   "cell_type": "code",
   "execution_count": null,
   "id": "b27795f9-e6ce-4d49-aa8e-b48fa06edfc3",
   "metadata": {},
   "outputs": [],
   "source": [
    "predictions_3 = model_3.predict(x_test)"
   ]
  },
  {
   "cell_type": "code",
   "execution_count": null,
   "id": "c51136a4-c28b-4bd1-8f08-d730416bc499",
   "metadata": {},
   "outputs": [],
   "source": [
    "print(predictions_3[:7])"
   ]
  },
  {
   "cell_type": "code",
   "execution_count": null,
   "id": "e09eb028-5b03-4342-98b0-14909d1211d3",
   "metadata": {},
   "outputs": [],
   "source": [
    "# membuat frame\n",
    "fig, ax = plt.subplots(figsize = (10,5))\n",
    "\n",
    "# membuat time series plot\n",
    "ax.plot(history_3.history['loss'], color=\"tab:blue\", label=\"loss func\", linewidth=2.5)\n",
    "\n",
    "# membuat label-label\n",
    "ax.set_title(\"Percobaan 3 - Grafik Loss Function\", fontsize=14)\n",
    "ax.set_xlabel(\"epoch\", fontsize=10)\n",
    "ax.set_ylabel(\"loss function\", fontsize=10)\n",
    "ax.legend(loc='upper right')\n",
    "ax.grid(True)\n",
    "\n",
    "# menampilkan plot\n",
    "plt.show()"
   ]
  },
  {
   "cell_type": "markdown",
   "id": "95cfa3ab-2edb-40af-ad3d-b25f565657ee",
   "metadata": {},
   "source": [
    "#### Evaluasi Model (Percobaan 3 - Bidirectional GRU-RNN)"
   ]
  },
  {
   "cell_type": "code",
   "execution_count": null,
   "id": "e65ce873-6d75-4bcf-a542-8a5d808c58b2",
   "metadata": {},
   "outputs": [],
   "source": [
    "scores_3 = model_3.evaluate(x_train, y_train)\n",
    "scores_3"
   ]
  },
  {
   "cell_type": "code",
   "execution_count": null,
   "id": "ffa09745-92e4-431b-9a00-6a0baf4e256e",
   "metadata": {},
   "outputs": [],
   "source": [
    "scores_3 = model_3.evaluate(x_test, y_test)\n",
    "scores_3"
   ]
  },
  {
   "cell_type": "markdown",
   "id": "4f19377d-ac19-42fc-a8a7-273919c7a999",
   "metadata": {},
   "source": [
    "- MAE (Mean Absolute Error)"
   ]
  },
  {
   "cell_type": "code",
   "execution_count": null,
   "id": "f8c2537d-1a46-452f-b1fa-3d220608ee9e",
   "metadata": {},
   "outputs": [],
   "source": [
    "mae_3 = mean_absolute_error(y_test, predictions_3)\n",
    "print('Test MAE : %.4f' % mae_3)"
   ]
  },
  {
   "cell_type": "markdown",
   "id": "3fd4dde1-2080-4bed-a57f-c8fcc5ad1680",
   "metadata": {},
   "source": [
    "- MSE (Mean Squared Error)"
   ]
  },
  {
   "cell_type": "code",
   "execution_count": null,
   "id": "313afdaf-feca-49b9-bdea-55fe97783e9e",
   "metadata": {},
   "outputs": [],
   "source": [
    "mse_3 = mean_squared_error(y_test, predictions_3)\n",
    "print('Test MSE: %.4f' % mse_3)"
   ]
  },
  {
   "cell_type": "markdown",
   "id": "982a5577-23da-4196-8098-744c869624dd",
   "metadata": {},
   "source": [
    "- RMSE (Root Mean Squared Error)"
   ]
  },
  {
   "cell_type": "code",
   "execution_count": null,
   "id": "a6818f56-df48-493a-8172-2c1740a91da1",
   "metadata": {},
   "outputs": [],
   "source": [
    "rmse_3 = sqrt(mse_3)\n",
    "print('Test RMSE: %.4f' % rmse_3)"
   ]
  },
  {
   "cell_type": "markdown",
   "id": "5111c3ae-1c11-496d-8e2d-f0f50f41e98f",
   "metadata": {},
   "source": [
    "- Corelation pearson"
   ]
  },
  {
   "cell_type": "code",
   "execution_count": null,
   "id": "c0345a21-a273-4b09-ae10-8dc872b8fb50",
   "metadata": {},
   "outputs": [],
   "source": [
    "hasil_3 = np.stack((y_test.reshape(-1), predictions_3.reshape(-1)), axis=1)\n",
    "hasil_3 = pd.DataFrame(hasil_3, columns = ['data_aktual','prediksi'])\n",
    "hasil_3"
   ]
  },
  {
   "cell_type": "code",
   "execution_count": null,
   "id": "f6364f04-5095-4be4-9bea-dc8e5147409f",
   "metadata": {},
   "outputs": [],
   "source": [
    "r3, p3 = sc.pearsonr(hasil_3[\"data_aktual\"], hasil_3[\"prediksi\"])\n",
    "print(\"korelasi data akual dengan hasil prediksi\" +\" {:.4f} \".format(r3)+ \"dengan signifikansi\" +\" {:.4f} \".format(p3))"
   ]
  },
  {
   "cell_type": "markdown",
   "id": "e860ec7c-3a72-4f32-b7fc-8c27efadae7c",
   "metadata": {},
   "source": [
    "#### Visualisasi Data (Percobaan 3 - Bidirectional GRU-RNN)"
   ]
  },
  {
   "cell_type": "code",
   "execution_count": null,
   "id": "d6a31d58-a83e-4e13-8bc1-53852a4995fa",
   "metadata": {},
   "outputs": [],
   "source": [
    "# membuat frame\n",
    "fig, ax = plt.subplots(figsize = (10,5))\n",
    "\n",
    "# membuat time series plot\n",
    "ax.plot(y_test, color=\"tab:blue\", label=\"data aktual\", linewidth=2.5)\n",
    "ax.plot(predictions_3, color=\"tab:red\", label=\"data prediksi\", linewidth=2.5)\n",
    "\n",
    "# membuat label-label\n",
    "ax.set_title(\"Percobaan 3 - Bidirectional GRU-RNN\", fontsize=14)\n",
    "ax.legend(loc=\"best\")\n",
    "ax.grid(True)\n",
    "\n",
    "# menampilka\n",
    "plt.show()"
   ]
  },
  {
   "cell_type": "code",
   "execution_count": null,
   "id": "5d160370-4ed1-4d73-8c8c-94d66b5afad5",
   "metadata": {},
   "outputs": [],
   "source": [
    "# inverse value test predictions\n",
    "predictions_3 = scaler.inverse_transform(predictions_3)"
   ]
  },
  {
   "cell_type": "code",
   "execution_count": null,
   "id": "a93feada-c8a1-4508-8e72-f396b127e17e",
   "metadata": {},
   "outputs": [],
   "source": [
    "# shift test predictions for plotting\n",
    "predictionsPlot_3 = np.empty_like(scaled_data)\n",
    "predictionsPlot_3[:, :] = np.nan\n",
    "predictionsPlot_3[(len(dataset) - predictions_3.shape[0]):len(dataset), :] = predictions_3"
   ]
  },
  {
   "cell_type": "code",
   "execution_count": null,
   "id": "4567e7bc-982f-4c9a-8e65-2a948269470f",
   "metadata": {},
   "outputs": [],
   "source": [
    "# membuat frame\n",
    "fig, ax = plt.subplots(figsize = (15,5))\n",
    "\n",
    "# membuat time series plot\n",
    "ax.plot(dataset.index.values, scaler.inverse_transform(scaled_data), color=\"tab:blue\", label=\"data aktual\", linewidth=2.5)\n",
    "ax.plot(dataset.index.values, predictionsPlot_3, color=\"tab:red\", label=\"data prediksi\", linewidth=2.5)\n",
    "\n",
    "# membuat label-label\n",
    "ax.set_title(\"Percobaan 3 - Bidirectional GRU-RNN\", fontsize=14)\n",
    "ax.set_xlabel(\"Years\", fontsize=10)\n",
    "ax.set_ylabel(\"Price BTC-USD\", fontsize=10)\n",
    "ax.legend(loc=\"best\")\n",
    "ax.grid(True)\n",
    "\n",
    "# menampilkan plot\n",
    "plt.show()"
   ]
  },
  {
   "cell_type": "markdown",
   "id": "0ca9bb37-c8d5-4359-8d1a-3ee5bd9f4409",
   "metadata": {
    "tags": []
   },
   "source": [
    "### Percobaan 4 - Stacked-Bidirectional GRU-RNN"
   ]
  },
  {
   "cell_type": "code",
   "execution_count": null,
   "id": "12136a85-8f68-4f30-ad71-7ab9f5e5cb61",
   "metadata": {},
   "outputs": [],
   "source": [
    "tf.random.set_seed(42)"
   ]
  },
  {
   "cell_type": "code",
   "execution_count": null,
   "id": "14cec9f7-861f-4bd5-b091-8b3149adb7d8",
   "metadata": {},
   "outputs": [],
   "source": [
    "# The GRU-RNN architecture\n",
    "model_4 = tf.keras.Sequential([\n",
    "    \n",
    "    # First GRU layer with Dropout regularisation\n",
    "    tf.keras.layers.Bidirectional(\n",
    "        tf.keras.layers.GRU(units=50, return_sequences=True, input_shape=(x_train.shape[1], 1))\n",
    "    ),\n",
    "    \n",
    "    # Secound GRU layer with Dropout regularisation\n",
    "    tf.keras.layers.Bidirectional(\n",
    "        tf.keras.layers.GRU(units=50, return_sequences=False)\n",
    "    ),\n",
    "    \n",
    "    # The output layer\n",
    "    tf.keras.layers.Dense(1)\n",
    "])"
   ]
  },
  {
   "cell_type": "code",
   "execution_count": null,
   "id": "df1bdc79-8769-4aa3-a2e9-ba3c89ffa848",
   "metadata": {},
   "outputs": [],
   "source": [
    "# Compile the model GRU\n",
    "model_4.compile(optimizer='adam', loss='mean_squared_error')"
   ]
  },
  {
   "cell_type": "code",
   "execution_count": null,
   "id": "874e8354-56bf-4dd3-9c03-fe8b213aeae4",
   "metadata": {},
   "outputs": [],
   "source": [
    "# fit network\n",
    "history_4 = model_4.fit(\n",
    "    x_train,\n",
    "    y_train,\n",
    "    batch_size=8,\n",
    "    epochs=50,\n",
    "    validation_data=(x_test, y_test),\n",
    "    verbose=1,\n",
    "    use_multiprocessing=True,\n",
    "    shuffle=False\n",
    ")"
   ]
  },
  {
   "cell_type": "code",
   "execution_count": null,
   "id": "f20221fd-b2d8-4505-9d0d-8440e57da7a7",
   "metadata": {},
   "outputs": [],
   "source": [
    "model_4.summary()"
   ]
  },
  {
   "cell_type": "code",
   "execution_count": null,
   "id": "496a9a82-4515-4c71-a4f8-5a7431ecd424",
   "metadata": {},
   "outputs": [],
   "source": [
    "predictions_4 = model_4.predict(x_test)\n",
    "print(predictions_4[:7])"
   ]
  },
  {
   "cell_type": "code",
   "execution_count": null,
   "id": "b38acaea-664c-4a62-8b09-8153b1c75601",
   "metadata": {},
   "outputs": [],
   "source": [
    "# membuat frame\n",
    "fig, ax = plt.subplots(figsize = (10,5))\n",
    "\n",
    "# membuat time series plot\n",
    "ax.plot(history_4.history['loss'], color=\"tab:blue\", label=\"loss func\", linewidth=2.5)\n",
    "\n",
    "# membuat label-label\n",
    "ax.set_title(\"Percobaan 4 - Grafik Loss Function\", fontsize=14)\n",
    "ax.set_xlabel(\"epoch\", fontsize=10)\n",
    "ax.set_ylabel(\"loss function\", fontsize=10)\n",
    "ax.legend(loc='upper right')\n",
    "ax.grid(True)\n",
    "\n",
    "# menampilkan plot\n",
    "plt.show()"
   ]
  },
  {
   "cell_type": "markdown",
   "id": "d5dc0df1-dfb8-44c6-aa5a-f56d7bc851bd",
   "metadata": {},
   "source": [
    "#### Evaluasi Model (Percobaan 4 - Stacked-Bidirectional GRU-RNN)"
   ]
  },
  {
   "cell_type": "code",
   "execution_count": null,
   "id": "a4d51ca6-67d1-4228-aefd-9f74abb744c6",
   "metadata": {},
   "outputs": [],
   "source": [
    "scores_4 = model_4.evaluate(x_train, y_train)\n",
    "scores_4"
   ]
  },
  {
   "cell_type": "code",
   "execution_count": null,
   "id": "30e20947-ebec-4c0e-b7cc-fa9edbca8ae4",
   "metadata": {},
   "outputs": [],
   "source": [
    "scores_4 = model_4.evaluate(x_test, y_test)\n",
    "scores_4"
   ]
  },
  {
   "cell_type": "markdown",
   "id": "8c95cc3c-d3fd-4ed6-8361-4218ba3b27bb",
   "metadata": {},
   "source": [
    "- MAE (Mean Absolute Error)"
   ]
  },
  {
   "cell_type": "code",
   "execution_count": null,
   "id": "6fc412a0-78ff-4ca3-8b75-e8b6f40c658d",
   "metadata": {},
   "outputs": [],
   "source": [
    "mae_4 = mean_absolute_error(y_test, predictions_4)\n",
    "print('Test MAE : %.4f' % mae_4)"
   ]
  },
  {
   "cell_type": "markdown",
   "id": "753d98f3-c9d6-4434-b3b8-18c7922ffd17",
   "metadata": {},
   "source": [
    "- MSE (Mean Squared Error)"
   ]
  },
  {
   "cell_type": "code",
   "execution_count": null,
   "id": "1aa79280-0375-4b39-9217-67811c72a72c",
   "metadata": {},
   "outputs": [],
   "source": [
    "mse_4 = mean_squared_error(y_test, predictions_4)\n",
    "print('Test MSE: %.4f' % mse_4)"
   ]
  },
  {
   "cell_type": "markdown",
   "id": "63ea3731-63b3-4ad2-a793-2a0e01fc7762",
   "metadata": {},
   "source": [
    "- RMSE (Root Mean Squared Error)"
   ]
  },
  {
   "cell_type": "code",
   "execution_count": null,
   "id": "8aea2043-4b43-436a-8653-9be025d432f7",
   "metadata": {},
   "outputs": [],
   "source": [
    "rmse_4 = sqrt(mse_4)\n",
    "print('Test RMSE: %.4f' % rmse_4)"
   ]
  },
  {
   "cell_type": "markdown",
   "id": "e235f81e-e5a0-481c-aa10-7a414a87f1f2",
   "metadata": {},
   "source": [
    "- Corelation pearson"
   ]
  },
  {
   "cell_type": "code",
   "execution_count": null,
   "id": "eeb92a4e-9ece-4353-8774-5351f977662c",
   "metadata": {},
   "outputs": [],
   "source": [
    "hasil_4 = np.stack((y_test.reshape(-1), predictions_4.reshape(-1)), axis=1)\n",
    "hasil_4 = pd.DataFrame(hasil_4, columns = ['data_aktual','prediksi'])\n",
    "hasil_4"
   ]
  },
  {
   "cell_type": "code",
   "execution_count": null,
   "id": "d001f1b1-311b-4a6e-b412-c6f467aa5716",
   "metadata": {},
   "outputs": [],
   "source": [
    "r4, p4 = sc.pearsonr(hasil_4[\"data_aktual\"], hasil_4[\"prediksi\"])\n",
    "print(\"korelasi data akual dengan hasil prediksi\" +\" {:.4f} \".format(r4)+ \"dengan signifikansi\" +\" {:.4f} \".format(p4))"
   ]
  },
  {
   "cell_type": "markdown",
   "id": "2595a4fe-a21c-4eaf-ae7e-c1023369d4ab",
   "metadata": {},
   "source": [
    "#### Visualisasi Data (Percobaan 4 - Stacked-Bidirectional GRU-RNN)"
   ]
  },
  {
   "cell_type": "code",
   "execution_count": null,
   "id": "61399093-87a1-466d-a969-1a49807fafad",
   "metadata": {},
   "outputs": [],
   "source": [
    "# membuat frame\n",
    "fig, ax = plt.subplots(figsize = (10,5))\n",
    "\n",
    "# membuat time series plot\n",
    "ax.plot(y_test, color=\"tab:blue\", label=\"data aktual\", linewidth=2.5)\n",
    "ax.plot(predictions_4, color=\"tab:red\", label=\"data prediksi\", linewidth=2.5)\n",
    "\n",
    "# membuat label-label\n",
    "ax.set_title(\"Percobaan 4 - Stacked-Bidirectional GRU-RNN\", fontsize=14)\n",
    "ax.legend(loc=\"best\")\n",
    "ax.grid(True)\n",
    "\n",
    "# menampilka\n",
    "plt.show()"
   ]
  },
  {
   "cell_type": "code",
   "execution_count": null,
   "id": "d3cf7346-c6a9-4325-b134-3ebeb14417bb",
   "metadata": {},
   "outputs": [],
   "source": [
    "# inverse value test predictions\n",
    "predictions_4 = scaler.inverse_transform(predictions_4)"
   ]
  },
  {
   "cell_type": "code",
   "execution_count": null,
   "id": "c3378b84-ed55-402d-89ee-b4b74fac7a56",
   "metadata": {},
   "outputs": [],
   "source": [
    "# shift test predictions for plotting\n",
    "predictionsPlot_4 = np.empty_like(scaled_data)\n",
    "predictionsPlot_4[:, :] = np.nan\n",
    "predictionsPlot_4[(len(dataset) - predictions_4.shape[0]):len(dataset), :] = predictions_4"
   ]
  },
  {
   "cell_type": "code",
   "execution_count": null,
   "id": "487464ca-f58e-42d4-8a02-1e7ebeeb3d8c",
   "metadata": {},
   "outputs": [],
   "source": [
    "# membuat frame\n",
    "fig, ax = plt.subplots(figsize = (15,5))\n",
    "\n",
    "# membuat time series plot\n",
    "ax.plot(dataset.index.values, scaler.inverse_transform(scaled_data), color=\"tab:blue\", label=\"data aktual\", linewidth=2.5)\n",
    "ax.plot(dataset.index.values, predictionsPlot_4, color=\"tab:red\", label=\"data prediksi\", linewidth=2.5)\n",
    "\n",
    "# membuat label-label\n",
    "ax.set_title(\"Percobaan 4 - Stacked-Bidirectional GRU-RNN\", fontsize=14)\n",
    "ax.set_xlabel(\"Years\", fontsize=10)\n",
    "ax.set_ylabel(\"Price BTC-USD\", fontsize=10)\n",
    "ax.legend(loc=\"best\")\n",
    "ax.grid(True)\n",
    "\n",
    "# menampilkan plot\n",
    "plt.show()"
   ]
  },
  {
   "cell_type": "markdown",
   "id": "8389e218-6541-467c-ae60-b2180ae9310e",
   "metadata": {},
   "source": [
    "## 6. Evaluasi Model Vanilla, Stacked, Bidirectional GRU-RNN"
   ]
  },
  {
   "cell_type": "code",
   "execution_count": null,
   "id": "bb45342c-3d77-4b4d-be22-3799ed7fd6ca",
   "metadata": {},
   "outputs": [],
   "source": [
    "hasil_4 = pd.DataFrame({\n",
    "    'Percobaan' : ['Percobaan 1', 'Percobaan 2', 'Percobaan 3', 'Percobaan 4'],\n",
    "    'MAE' : [mae_1, mae_2, mae_3, mae_4],\n",
    "    'MSE' : [mse_1, mse_2, mse_3, mse_4],\n",
    "    'RMSE' : [rmse_1, rmse_2, rmse_3, rmse_4],\n",
    "})"
   ]
  },
  {
   "cell_type": "code",
   "execution_count": null,
   "id": "6b970f56-42a2-4d59-98d9-25cbab39a827",
   "metadata": {},
   "outputs": [],
   "source": [
    "hasil_4"
   ]
  },
  {
   "cell_type": "code",
   "execution_count": null,
   "id": "85beee5a-1957-4f10-a173-42752d461083",
   "metadata": {},
   "outputs": [],
   "source": [
    "x = np.arange(len(hasil_4[\"Percobaan\"]))\n",
    "width = 0.35"
   ]
  },
  {
   "cell_type": "code",
   "execution_count": null,
   "id": "11d767cc-2c47-4c06-b0b1-7a6f969e9162",
   "metadata": {},
   "outputs": [],
   "source": [
    "fig, ax = plt.subplots()\n",
    "ax.bar(x - width/2, hasil_4[\"MAE\"], width, label='MAE')\n",
    "ax.bar(x + width/2, hasil_4[\"RMSE\"], width, label='RMSE')\n",
    " \n",
    "#ax.set_xlabel('Year')\n",
    "ax.set_title('Nilai MAE dan RMSE')\n",
    "ax.set_xticks(x, hasil_4[\"Percobaan\"])\n",
    "ax.legend()\n",
    " \n",
    "plt.show()"
   ]
  },
  {
   "cell_type": "markdown",
   "id": "902751be-c3a0-489b-91b3-98e898d5a40c",
   "metadata": {},
   "source": [
    "## 7. Visualisasi Data Vanilla, Stacked, Bidirectional LSTM-RNN"
   ]
  },
  {
   "cell_type": "code",
   "execution_count": null,
   "id": "8b5b32dd-3dbd-4128-ad94-91d8baee8661",
   "metadata": {},
   "outputs": [],
   "source": [
    "# membuat frame\n",
    "fig, ((ax1, ax2), (ax3, ax4)) = plt.subplots(nrows=2, ncols=2, facecolor=\"#f0f0f0\", figsize=(20, 10))\n",
    "\n",
    "# membuat time series plot\n",
    "ax1.plot(history_1.history['loss'], color=\"tab:blue\", label=\"loss function\", linewidth=2)\n",
    "\n",
    "# membuat label-label\n",
    "ax1.set_title(\"Percobaan 1 - Model Vanilla GRU-RNN\", fontsize=14)\n",
    "ax1.set_xlabel(\"epoch\", fontsize=10)\n",
    "ax1.set_ylabel(\"loss function\", fontsize=10)\n",
    "ax1.legend(loc=\"best\")\n",
    "ax1.grid(True)\n",
    "# ----------------------------------------------------------------------------------------------------\n",
    "\n",
    "# membuat time series plot\n",
    "ax2.plot(history_2.history['loss'], color=\"tab:blue\", label=\"loss function\", linewidth=2)\n",
    "\n",
    "# membuat label-label\n",
    "ax2.set_title(\"Percobaan 2 - Model Stacked GRU-RNN\", fontsize=14)\n",
    "ax2.set_xlabel(\"epoch\", fontsize=10)\n",
    "ax2.set_ylabel(\"loss function\", fontsize=10)\n",
    "ax2.legend(loc=\"best\")\n",
    "ax2.grid(True)\n",
    "# ----------------------------------------------------------------------------------------------------\n",
    "\n",
    "# membuat time series plot\n",
    "ax3.plot(history_3.history['loss'], color=\"tab:blue\", label=\"loss function\", linewidth=2)\n",
    "\n",
    "# membuat label-label\n",
    "ax3.set_title(\"Percobaan 3 - Model Bidirectional GRU-RNN\", fontsize=14)\n",
    "ax3.set_xlabel(\"epoch\", fontsize=10)\n",
    "ax3.set_ylabel(\"loss function\", fontsize=10)\n",
    "ax3.legend(loc=\"best\")\n",
    "ax3.grid(True)\n",
    "# ----------------------------------------------------------------------------------------------------\n",
    "\n",
    "# membuat time series plot\n",
    "ax4.plot(history_4.history['loss'], color=\"tab:blue\", label=\"loss function\", linewidth=2)\n",
    "\n",
    "# membuat label-label\n",
    "ax4.set_title(\"Percobaan 4 - Model Stacked-Bidirectional GRU-RNN\", fontsize=14)\n",
    "ax4.set_xlabel(\"epoch\", fontsize=10)\n",
    "ax4.set_ylabel(\"loss function\", fontsize=10)\n",
    "ax4.legend(loc=\"best\")\n",
    "ax4.grid(True)\n",
    "# ----------------------------------------------------------------------------------------------------\n",
    "\n",
    "# set the spacing between subplots\n",
    "plt.subplots_adjust(wspace=0.15, hspace=0.25)\n",
    "\n",
    "# menampilkan plot\n",
    "plt.show()"
   ]
  },
  {
   "cell_type": "code",
   "execution_count": null,
   "id": "71cea408-567c-4657-ad91-e19d49b68323",
   "metadata": {},
   "outputs": [],
   "source": [
    "##### membuat frame\n",
    "fig, ((ax1, ax2), (ax3, ax4)) = plt.subplots(nrows=2, ncols=2, facecolor=\"#f0f0f0\", figsize=(20, 10))\n",
    "\n",
    "# membuat time series plot\n",
    "ax1.plot(dataset.index.values, scaler.inverse_transform(scaled_data), color=\"tab:blue\", label=\"data aktual\", linewidth=2.5)\n",
    "ax1.plot(dataset.index.values, predictionsPlot_1, color=\"tab:red\", label=\"data prediksi\", linewidth=2.5)\n",
    "\n",
    "# membuat label-label\n",
    "ax1.set_title(\"Percobaan 1 - Model Vanilla GRU-RNN\", fontsize=14)\n",
    "ax1.legend(loc=\"best\")\n",
    "ax1.grid(True)\n",
    "# ----------------------------------------------------------------------------------------------------\n",
    "\n",
    "# membuat time series plot\n",
    "ax2.plot(dataset.index.values, scaler.inverse_transform(scaled_data), color=\"tab:blue\", label=\"data aktual\", linewidth=2.5)\n",
    "ax2.plot(dataset.index.values, predictionsPlot_2, color=\"tab:red\", label=\"data prediksi\", linewidth=2.5)\n",
    "\n",
    "# membuat label-label\n",
    "ax2.set_title(\"Percobaan 2 - Model Stacked GRU-RNN\", fontsize=14)\n",
    "ax2.legend(loc=\"best\")\n",
    "ax2.grid(True)\n",
    "# ----------------------------------------------------------------------------------------------------\n",
    "\n",
    "# membuat time series plot\n",
    "ax3.plot(dataset.index.values, scaler.inverse_transform(scaled_data), color=\"tab:blue\", label=\"data aktual\", linewidth=2.5)\n",
    "ax3.plot(dataset.index.values, predictionsPlot_3, color=\"tab:red\", label=\"data prediksi\", linewidth=2.5)\n",
    "\n",
    "# membuat label-label\n",
    "ax3.set_title(\"Percobaan 3 - Model Bidirectional GRU-RNN\", fontsize=14)\n",
    "ax3.legend(loc=\"best\")\n",
    "ax3.grid(True)\n",
    "# ----------------------------------------------------------------------------------------------------\n",
    "\n",
    "# membuat time series plot\n",
    "ax4.plot(dataset.index.values, scaler.inverse_transform(scaled_data), color=\"tab:blue\", label=\"data aktual\", linewidth=2.5)\n",
    "ax4.plot(dataset.index.values, predictionsPlot_4, color=\"tab:red\", label=\"data prediksi\", linewidth=2.5)\n",
    "\n",
    "# membuat label-label\n",
    "ax4.set_title(\"Percobaan 4 - Model Stacked-Bidirectional GRU-RNN\", fontsize=14)\n",
    "ax4.legend(loc=\"best\")\n",
    "ax4.grid(True)\n",
    "# ----------------------------------------------------------------------------------------------------\n",
    "\n",
    "# set the spacing between subplots\n",
    "plt.subplots_adjust(wspace=0.15, hspace=0.25)\n",
    "\n",
    "# menampilkan plot\n",
    "plt.show()"
   ]
  },
  {
   "cell_type": "markdown",
   "id": "76156aa2-a171-40da-9012-93eea66a5649",
   "metadata": {},
   "source": [
    "## 8. Complexity time"
   ]
  },
  {
   "cell_type": "code",
   "execution_count": null,
   "id": "157c2ae1-18b5-430a-aece-35fd59c6fcfa",
   "metadata": {},
   "outputs": [],
   "source": [
    "# Set akhir waktu komputasi \n",
    "end = time.time()"
   ]
  },
  {
   "cell_type": "code",
   "execution_count": null,
   "id": "853c967c-6c48-4da9-b5be-dbc2f686aaeb",
   "metadata": {},
   "outputs": [],
   "source": [
    "# Proses menghitung waktu komputasi\n",
    "hours, rem = divmod(end-start, 3600)\n",
    "minutes, seconds = divmod(rem, 60)"
   ]
  },
  {
   "cell_type": "code",
   "execution_count": null,
   "id": "97bafa6f-796d-41d8-9ba6-a1a08409db26",
   "metadata": {},
   "outputs": [],
   "source": [
    "# Hasil waktu komputasi\n",
    "print(\"{:0>2}:{:0>2}:{:05.2f}\".format(int(hours),int(minutes),seconds))"
   ]
  },
  {
   "cell_type": "code",
   "execution_count": null,
   "id": "fc520e36-5acd-4f69-b155-81fdd671d750",
   "metadata": {},
   "outputs": [],
   "source": []
  }
 ],
 "metadata": {
  "kernelspec": {
   "display_name": "Python 3 (ipykernel)",
   "language": "python",
   "name": "python3"
  },
  "language_info": {
   "codemirror_mode": {
    "name": "ipython",
    "version": 3
   },
   "file_extension": ".py",
   "mimetype": "text/x-python",
   "name": "python",
   "nbconvert_exporter": "python",
   "pygments_lexer": "ipython3",
   "version": "3.9.16"
  },
  "vscode": {
   "interpreter": {
    "hash": "37197ad202cea1caf8a636a74cec7c83b945e4f29ac1505900600f740c02611d"
   }
  }
 },
 "nbformat": 4,
 "nbformat_minor": 5
}
