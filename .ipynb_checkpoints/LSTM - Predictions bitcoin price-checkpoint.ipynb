{
 "cells": [
  {
   "cell_type": "markdown",
   "id": "8336f1f9-9276-4e74-bd1d-8f9b0f7f882f",
   "metadata": {},
   "source": [
    "# Prediction Bitcoin Price used LSTM-RNN algorithm "
   ]
  },
  {
   "cell_type": "markdown",
   "id": "634cd523-dc2b-465d-9377-72e18bd551f9",
   "metadata": {},
   "source": [
    "## 1. Library Declaration"
   ]
  },
  {
   "cell_type": "code",
   "execution_count": null,
   "id": "aec34fe3-eb88-42e7-982c-005ebb451e78",
   "metadata": {},
   "outputs": [],
   "source": [
    "# Library manipulation datafrane\n",
    "# ------------------------------\n",
    "import pandas as pd\n",
    "from pandas import concat\n",
    "from pandas import read_csv\n",
    "from pandas import read_excel\n",
    "from pandas_datareader import DataReader\n",
    "\n",
    "# Library manipulation data array\n",
    "# -------------------------------\n",
    "import numpy as np\n",
    "from numpy import concatenate\n",
    "from numpy import array\n",
    "\n",
    "# Library manipulation datetime\n",
    "# ------------------------------\n",
    "import time\n",
    "from datetime import datetime\n",
    "\n",
    "# Library data visualization\n",
    "# --------------------------\n",
    "import seaborn as sns\n",
    "from matplotlib import pyplot\n",
    "from matplotlib import pyplot as plt\n",
    "\n",
    "# Library time series analysis\n",
    "# ----------------------------\n",
    "import scipy.stats as sc\n",
    "import statsmodels.api as sm\n",
    "from statsmodels.graphics.tsaplots import plot_pacf\n",
    "from statsmodels.graphics.tsaplots import plot_acf\n",
    "        \n",
    "# Library preprocessing data\n",
    "# --------------------------\n",
    "from sklearn.model_selection import train_test_split\n",
    "from sklearn.preprocessing import MinMaxScaler\n",
    "from sklearn.preprocessing import LabelEncoder\n",
    "\n",
    "# Library to make models prediction \n",
    "# ---------------------------------\n",
    "import itertools\n",
    "import tensorflow as tf\n",
    "from keras.utils import Sequence\n",
    "from keras.models import Sequential\n",
    "from keras.layers import SimpleRNN\n",
    "from keras.layers import LSTM\n",
    "from keras.layers import GRU\n",
    "from keras.layers import Dense\n",
    "from keras.layers import Dropout\n",
    "from keras.layers import TimeDistributed\n",
    "from keras.layers import Bidirectional\n",
    "from keras.optimizers import Adam, Adamax, RMSprop, SGD\n",
    "\n",
    "# Library for evaluation models\n",
    "# -----------------------------\n",
    "import math\n",
    "from math import sqrt\n",
    "from sklearn.metrics import mean_squared_error\n",
    "from sklearn.metrics import mean_absolute_error\n",
    "from sklearn.metrics import mean_absolute_percentage_error"
   ]
  },
  {
   "cell_type": "markdown",
   "id": "9ebc8978-8332-4e25-94e9-de9882ca483c",
   "metadata": {},
   "source": [
    "## 2. Data collection"
   ]
  },
  {
   "cell_type": "code",
   "execution_count": null,
   "id": "758ecbf4-ef9a-4a67-b4ce-c510528167ff",
   "metadata": {},
   "outputs": [],
   "source": [
    "# set computation time\n",
    "start = time.time()"
   ]
  },
  {
   "cell_type": "code",
   "execution_count": null,
   "id": "6b35df10-7736-4661-b877-be0de2ae9fc4",
   "metadata": {},
   "outputs": [],
   "source": [
    "# set number seed\n",
    "tf.random.set_seed(7)"
   ]
  },
  {
   "cell_type": "code",
   "execution_count": null,
   "id": "544fec4c-742b-4bf2-ad59-90236b9ff81b",
   "metadata": {},
   "outputs": [],
   "source": [
    "# load dataset\n",
    "dataset = read_csv(\"dataset/BTC-USD.csv\", parse_dates=['Date']);"
   ]
  },
  {
   "cell_type": "code",
   "execution_count": null,
   "id": "b21ab085-6859-4e14-8732-f57a2386e398",
   "metadata": {},
   "outputs": [],
   "source": [
    "# view metadata dataset\n",
    "dataset.info()"
   ]
  },
  {
   "cell_type": "code",
   "execution_count": null,
   "id": "4ad1408a-c4e0-4aaf-a88f-23c3ff4107a8",
   "metadata": {},
   "outputs": [],
   "source": [
    "# look statistical summary\n",
    "dataset.describe()"
   ]
  },
  {
   "cell_type": "code",
   "execution_count": null,
   "id": "95438764-458e-47e5-8928-9161e0a300cf",
   "metadata": {},
   "outputs": [],
   "source": [
    "dataset"
   ]
  },
  {
   "cell_type": "markdown",
   "id": "ced1d6ef-ab3a-4a83-906a-3bc4c0394e4e",
   "metadata": {},
   "source": [
    "## 3. Exploratory Data Analysis "
   ]
  },
  {
   "cell_type": "code",
   "execution_count": null,
   "id": "878b220b-0663-49f3-842d-e7c651b5abec",
   "metadata": {},
   "outputs": [],
   "source": [
    "# create a frame\n",
    "fig, ax = plt.subplots(figsize=(10,5))\n",
    "\n",
    "# make a time series plot\n",
    "ax.plot(dataset[\"Date\"], dataset[\"Open\"], color=\"tab:green\", label=\"Open Price\", linewidth=2)\n",
    "ax.plot(dataset[\"Date\"], dataset[\"High\"], color=\"tab:orange\", label=\"High Price\", linewidth=2)\n",
    "ax.plot(dataset[\"Date\"], dataset[\"Low\"], color=\"tab:red\", label=\"Low Price\", linewidth=2)\n",
    "ax.plot(dataset[\"Date\"], dataset[\"Close\"], color=\"tab:blue\", label=\"Close Price\", linewidth=2)\n",
    "\n",
    "# setting labes\n",
    "ax.set_title(\"\", fontsize=14)\n",
    "ax.set_xlabel(\"\", fontsize=12)\n",
    "ax.set_ylabel(\"\", fontsize=12)\n",
    "ax.legend(loc='upper left')\n",
    "ax.grid(True)\n",
    "\n",
    "plt.show()"
   ]
  },
  {
   "cell_type": "markdown",
   "id": "6ba6c65d-7ecf-4164-915b-20193fd68b63",
   "metadata": {},
   "source": [
    "## 4. Prepocessing Data"
   ]
  },
  {
   "cell_type": "markdown",
   "id": "26ea0437-79a7-44f7-a576-fa1dee3a7c3d",
   "metadata": {},
   "source": [
    "- fetaure selection"
   ]
  },
  {
   "cell_type": "code",
   "execution_count": null,
   "id": "b2e57c57-df25-4a0c-9c64-7f389bc283d5",
   "metadata": {},
   "outputs": [],
   "source": [
    "# choose a feature\n",
    "data = dataset[[\"Close\"]]"
   ]
  },
  {
   "cell_type": "code",
   "execution_count": null,
   "id": "95a2feff-271c-4267-a1c4-0e41c6e59dba",
   "metadata": {},
   "outputs": [],
   "source": [
    "data = data.values"
   ]
  },
  {
   "cell_type": "code",
   "execution_count": null,
   "id": "a12b7824-3e00-46ad-a87d-7e61c4f17cc1",
   "metadata": {},
   "outputs": [],
   "source": [
    "np.round(data[:5],7)"
   ]
  },
  {
   "cell_type": "code",
   "execution_count": null,
   "id": "1158300e-6bbc-4809-a94d-b185dc2268bd",
   "metadata": {},
   "outputs": [],
   "source": [
    "data.shape"
   ]
  },
  {
   "cell_type": "markdown",
   "id": "136cf6b2-c502-4424-aa46-3666853d2976",
   "metadata": {},
   "source": [
    "- normalization data"
   ]
  },
  {
   "cell_type": "code",
   "execution_count": null,
   "id": "598d3862-aaa0-493a-9d26-c574d19d3176",
   "metadata": {},
   "outputs": [],
   "source": [
    "# normalized min-max\n",
    "scaler = MinMaxScaler(feature_range=(0, 1))\n",
    "scaled = scaler.fit_transform(data)"
   ]
  },
  {
   "cell_type": "code",
   "execution_count": null,
   "id": "57c662da-d9be-43f9-a7f1-1c3d1c03ae6a",
   "metadata": {},
   "outputs": [],
   "source": [
    "np.round(scaled[:5],7)"
   ]
  },
  {
   "cell_type": "code",
   "execution_count": null,
   "id": "6b4914ef-2c61-44fd-8993-ee8a7f8a359c",
   "metadata": {},
   "outputs": [],
   "source": [
    "scaled.shape"
   ]
  },
  {
   "cell_type": "code",
   "execution_count": null,
   "id": "78d93d73-05b5-437a-aaad-9ee01bd0d135",
   "metadata": {},
   "outputs": [],
   "source": [
    "# create a frame\n",
    "fig, ax = plt.subplots(figsize=(10, 5))\n",
    "\n",
    "# make a time series plot\n",
    "ax.plot(dataset[\"Date\"], scaled, color=\"tab:blue\", label=\"Close Price\", linewidth=2)\n",
    "\n",
    "# setting labes\n",
    "ax.set_title(\"\", fontsize=14)\n",
    "ax.set_xlabel(\"\", fontsize=12)\n",
    "ax.set_ylabel(\"\", fontsize=12)\n",
    "ax.legend(loc='upper left')\n",
    "ax.grid(True)\n",
    "\n",
    "plt.show()"
   ]
  },
  {
   "cell_type": "markdown",
   "id": "480da748-8fe2-4f01-b77c-d5be183f609d",
   "metadata": {},
   "source": [
    "## 5. Splitting Data"
   ]
  },
  {
   "cell_type": "code",
   "execution_count": null,
   "id": "85a652a4-9d54-4351-b8b7-b02d1dc4b28a",
   "metadata": {},
   "outputs": [],
   "source": [
    "# create train data and test data\n",
    "train_data, test_data = train_test_split(scaled, train_size=0.80, test_size=0.20, shuffle=False)"
   ]
  },
  {
   "cell_type": "code",
   "execution_count": null,
   "id": "b8ac66b3-6cee-4e91-a34a-b84d168abc34",
   "metadata": {},
   "outputs": [],
   "source": [
    "# view result train data\n",
    "np.round(train_data[:5],5)"
   ]
  },
  {
   "cell_type": "code",
   "execution_count": null,
   "id": "b4f7a5af-6a5a-4374-b12d-bd54ae0cc2a2",
   "metadata": {},
   "outputs": [],
   "source": [
    "train_data.shape"
   ]
  },
  {
   "cell_type": "code",
   "execution_count": null,
   "id": "5a328b54-e7dd-4a43-b267-ee8307c64dee",
   "metadata": {},
   "outputs": [],
   "source": [
    "# view result test data\n",
    "np.round(test_data[:5],5)"
   ]
  },
  {
   "cell_type": "code",
   "execution_count": null,
   "id": "f9fe1dfe-f6da-43f3-8318-e172324c7a7e",
   "metadata": {},
   "outputs": [],
   "source": [
    "test_data.shape"
   ]
  },
  {
   "cell_type": "code",
   "execution_count": null,
   "id": "06f7c8b0-15b0-4e5a-ad41-28b70e3f3eb0",
   "metadata": {},
   "outputs": [],
   "source": [
    "# create a frame\n",
    "fig, ax = plt.subplots(figsize=(10,5))\n",
    "\n",
    "# make a time series plot\n",
    "ax.plot(dataset[[\"Date\"]].iloc[0:len(train_data)], train_data, color=\"tab:blue\", label=\"Data training\", linewidth=2)\n",
    "ax.plot(dataset[[\"Date\"]].iloc[len(train_data):len(dataset)], test_data, color=\"tab:red\", label=\"Data testing\", linewidth=2)\n",
    "\n",
    "# setting labes\n",
    "ax.set_title(\"\", fontsize=14)\n",
    "ax.set_xlabel(\"\", fontsize=12)\n",
    "ax.set_ylabel(\"\", fontsize=12)\n",
    "ax.legend(loc='upper left')\n",
    "ax.grid(True)\n",
    "\n",
    "plt.show()"
   ]
  },
  {
   "cell_type": "markdown",
   "id": "245479c2-a31a-4f01-b14a-1e24c4930078",
   "metadata": {},
   "source": [
    "## 6. Supervised Learning"
   ]
  },
  {
   "cell_type": "code",
   "execution_count": null,
   "id": "acb5ec01-a1f1-414d-b0ac-90f129455035",
   "metadata": {},
   "outputs": [],
   "source": [
    "# convert an array of values into a dataset matrix\n",
    "\n",
    "# function for supervised learning\n",
    "def create_dataset(look_back, dataset):\n",
    "    \n",
    "    # declare variable X and Y\n",
    "    dataX = []\n",
    "    dataY = []\n",
    "    \n",
    "    # for loop for create supervised learning\n",
    "    for i in range(look_back, len(dataset)):\n",
    "        \n",
    "        # insert value X and Y \n",
    "        dataX.append(dataset[i-look_back:i, 0])\n",
    "        dataY.append(dataset[i, 0])\n",
    "        \n",
    "    # return value X and Y\n",
    "    return np.array(dataX), np.array(dataY)"
   ]
  },
  {
   "cell_type": "code",
   "execution_count": null,
   "id": "01bb480c-1aa8-4616-b728-2417be90666b",
   "metadata": {},
   "outputs": [],
   "source": [
    "# process supervised learning\n",
    "look_back = 60\n",
    "x_train, y_train = create_dataset(look_back, train_data)\n",
    "x_test, y_test = create_dataset(look_back, test_data)"
   ]
  },
  {
   "cell_type": "code",
   "execution_count": null,
   "id": "fa2211d7-3530-4082-980d-cc764a7f014d",
   "metadata": {},
   "outputs": [],
   "source": [
    "print(x_train.shape, y_train.shape)"
   ]
  },
  {
   "cell_type": "code",
   "execution_count": null,
   "id": "f2985767-0a28-49b7-9ed8-c7232b17a180",
   "metadata": {},
   "outputs": [],
   "source": [
    "print(x_test.shape, y_test.shape)"
   ]
  },
  {
   "cell_type": "markdown",
   "id": "c4793264-c2ac-4909-833e-12a264a49f4d",
   "metadata": {},
   "source": [
    "- check result train data after supervised learning"
   ]
  },
  {
   "cell_type": "code",
   "execution_count": null,
   "id": "55023f52-56ed-4481-ac4d-4ebe7980a853",
   "metadata": {},
   "outputs": [],
   "source": [
    "result_train_data = pd.concat([pd.DataFrame(x_train), pd.DataFrame(y_train, columns=['result'])], axis=1)"
   ]
  },
  {
   "cell_type": "code",
   "execution_count": null,
   "id": "f8b916cf-07e0-4c4b-901d-2715dea0f3aa",
   "metadata": {},
   "outputs": [],
   "source": [
    "result_train_data"
   ]
  },
  {
   "cell_type": "markdown",
   "id": "60ff0b56-e29e-4806-b1a8-94700bab7292",
   "metadata": {},
   "source": [
    "- check result test data after supervised learning"
   ]
  },
  {
   "cell_type": "code",
   "execution_count": null,
   "id": "f55cc9c8-344e-47ed-b4db-e29685116689",
   "metadata": {},
   "outputs": [],
   "source": [
    "result_test_data = pd.concat([pd.DataFrame(x_test), pd.DataFrame(y_test, columns=['result'])], axis=1)"
   ]
  },
  {
   "cell_type": "code",
   "execution_count": null,
   "id": "f91d32d1-1e4c-4ae6-9385-d6fccb57c76c",
   "metadata": {},
   "outputs": [],
   "source": [
    "result_test_data"
   ]
  },
  {
   "cell_type": "markdown",
   "id": "97c81d30-f568-4019-813b-61d7ad27a30e",
   "metadata": {},
   "source": [
    "- reshape input to be [samples, time steps, features]"
   ]
  },
  {
   "cell_type": "code",
   "execution_count": null,
   "id": "2656e0d9-5aad-4f4d-86c1-e9d297530bbb",
   "metadata": {},
   "outputs": [],
   "source": [
    "# reshape input train data\n",
    "x_train = np.reshape(x_train, (x_train.shape[0], x_train.shape[1], 1))\n",
    "\n",
    "# view dimention train data\n",
    "print(x_train.shape)"
   ]
  },
  {
   "cell_type": "code",
   "execution_count": null,
   "id": "e3576942-68dd-40bf-9eb5-f3bc98636eb8",
   "metadata": {},
   "outputs": [],
   "source": [
    "# reshape input train data\n",
    "x_test = np.reshape(x_test, (x_test.shape[0], x_test.shape[1], 1))\n",
    "\n",
    "# view dimention test data\n",
    "print(x_test.shape)"
   ]
  },
  {
   "cell_type": "markdown",
   "id": "85ff263a-067a-4498-9bff-12970b0de068",
   "metadata": {},
   "source": [
    "## 7. Modeling LSTM"
   ]
  },
  {
   "cell_type": "markdown",
   "id": "7477f153-670b-4076-ba52-65239f992171",
   "metadata": {},
   "source": [
    "### 7.1 Vanila-LSTM"
   ]
  },
  {
   "cell_type": "code",
   "execution_count": null,
   "id": "1da803a6-d491-4b22-a29a-c3b28cf4d126",
   "metadata": {},
   "outputs": [],
   "source": [
    "tf.random.set_seed(7)"
   ]
  },
  {
   "cell_type": "code",
   "execution_count": null,
   "id": "4048e94d-d07d-4fc1-8a5a-7a7b5ad719ff",
   "metadata": {},
   "outputs": [],
   "source": [
    "# The LSTM-RNN architecture\n",
    "model_1 = tf.keras.Sequential([\n",
    "    \n",
    "    # The input layer\n",
    "    tf.keras.layers.LSTM(units=50, return_sequences=False, input_shape=(x_train.shape[1], 1)),\n",
    "    \n",
    "    tf.keras.layers.Dropout(0.10),\n",
    "    \n",
    "    # The output layer\n",
    "    tf.keras.layers.Dense(1)\n",
    "])"
   ]
  },
  {
   "cell_type": "code",
   "execution_count": null,
   "id": "b686a005-56d2-45f6-9d6e-6d2264ab5551",
   "metadata": {},
   "outputs": [],
   "source": [
    "# Compile the model LSTM\n",
    "model_1.compile(\n",
    "    optimizer='adam', loss='mean_squared_error'\n",
    ")"
   ]
  },
  {
   "cell_type": "code",
   "execution_count": null,
   "id": "bc86102f-efb2-45f0-997e-c0a08eede975",
   "metadata": {},
   "outputs": [],
   "source": [
    "# fit network\n",
    "history_1 = model_1.fit(x_train, y_train, batch_size=8, epochs=100, verbose=0, use_multiprocessing=True, shuffle=False)"
   ]
  },
  {
   "cell_type": "code",
   "execution_count": null,
   "id": "1a828d3e-e94b-46f4-a705-da11923d61bc",
   "metadata": {},
   "outputs": [],
   "source": [
    "# view architecture lstm\n",
    "model_1.summary()"
   ]
  },
  {
   "cell_type": "code",
   "execution_count": null,
   "id": "3606fa35-6067-4373-a1fb-40d1fe6577a6",
   "metadata": {},
   "outputs": [],
   "source": [
    "# process predictions\n",
    "predictions_1 = model_1.predict(x_test)"
   ]
  },
  {
   "cell_type": "code",
   "execution_count": null,
   "id": "4fdfb477-156b-485a-8844-e9d0082cde7f",
   "metadata": {},
   "outputs": [],
   "source": [
    "# view output predictions\n",
    "np.round(predictions_1[:5],5)"
   ]
  },
  {
   "cell_type": "markdown",
   "id": "5a94e0de-9c47-4570-b684-64bf73ab5d35",
   "metadata": {},
   "source": [
    "### 7.2 Stacked-LSTM"
   ]
  },
  {
   "cell_type": "markdown",
   "id": "9c54767c-3383-4a19-a9a3-b2940c15610d",
   "metadata": {},
   "source": [
    "### 7.3 Bidirectional-LSTM"
   ]
  },
  {
   "cell_type": "markdown",
   "id": "c3750298-ee7d-45a2-bc55-9575cfe9797a",
   "metadata": {},
   "source": [
    "### 7.4 SB-LSTM"
   ]
  },
  {
   "cell_type": "code",
   "execution_count": null,
   "id": "e9ae93bf-c9f0-4e0f-9271-6fa0c21cc05f",
   "metadata": {},
   "outputs": [],
   "source": []
  },
  {
   "cell_type": "code",
   "execution_count": null,
   "id": "ed75929c-511c-4b79-827b-45d9b392f32e",
   "metadata": {},
   "outputs": [],
   "source": []
  },
  {
   "cell_type": "code",
   "execution_count": null,
   "id": "2d676ae8-f96f-4bbf-8e9b-938d51b568a0",
   "metadata": {},
   "outputs": [],
   "source": []
  },
  {
   "cell_type": "markdown",
   "id": "70c69780-9db9-4b19-9371-7271f92d3473",
   "metadata": {},
   "source": [
    "## 8. Evaluation Model"
   ]
  },
  {
   "cell_type": "markdown",
   "id": "246fb938-7cc7-4a46-9fa7-ae924d5eae1b",
   "metadata": {},
   "source": [
    "### 8.1 Evaluation Vanila-LSTM"
   ]
  },
  {
   "cell_type": "markdown",
   "id": "5c84682e-0c91-491d-845a-788efbcae6a4",
   "metadata": {},
   "source": [
    "- MAE (Mean Absolute Error)"
   ]
  },
  {
   "cell_type": "code",
   "execution_count": null,
   "id": "46099ea7-f1ca-4bc6-b8c3-3aaf8ecff0f5",
   "metadata": {},
   "outputs": [],
   "source": [
    "mae_1 = mean_absolute_error(y_test, predictions_1)\n",
    "print('Test MAE : %.4f' % mae_1)"
   ]
  },
  {
   "cell_type": "markdown",
   "id": "59ddd286-deea-4496-915e-1a34ffbb77ec",
   "metadata": {},
   "source": [
    "- MSE (Mean Squared Error)"
   ]
  },
  {
   "cell_type": "code",
   "execution_count": null,
   "id": "cabac05e-c7e4-4253-869b-1e0d1641a675",
   "metadata": {},
   "outputs": [],
   "source": [
    "mse_1 = mean_squared_error(y_test, predictions_1)\n",
    "print('Test MSE: %.4f' % mse_1)"
   ]
  },
  {
   "cell_type": "markdown",
   "id": "68b4fd12-8681-41c5-973c-2d7c5dc5239e",
   "metadata": {},
   "source": [
    "- MAPE (Mean Absolute Percentage Error)"
   ]
  },
  {
   "cell_type": "code",
   "execution_count": null,
   "id": "a21ad0cf-a9d1-477e-a81c-2a497df3524c",
   "metadata": {},
   "outputs": [],
   "source": [
    "mape_1 = mean_absolute_percentage_error(y_test, predictions_1)\n",
    "print('Test MAPE: %.4f' % mape_1)"
   ]
  },
  {
   "cell_type": "markdown",
   "id": "8cf9d87c-8bc6-4061-ac59-c548479af6d0",
   "metadata": {},
   "source": [
    "### 8.2 Evaluation Stacked-LSTM"
   ]
  },
  {
   "cell_type": "markdown",
   "id": "b1b86285-2421-4bed-bb5b-04147be03589",
   "metadata": {},
   "source": [
    "### 8.3 Evaluation Bidirectional-LSTM"
   ]
  },
  {
   "cell_type": "markdown",
   "id": "54bddd5f-9fd8-4c12-9614-148c85a46328",
   "metadata": {},
   "source": [
    "### 8.4 Evaluation SB-LSTM"
   ]
  },
  {
   "cell_type": "markdown",
   "id": "f3be98d8-c566-4627-9d10-ef74bf3b75a3",
   "metadata": {},
   "source": [
    "### 8.5 Evaluation All Model"
   ]
  },
  {
   "cell_type": "markdown",
   "id": "0c123ec2-62bc-4e67-8f92-fe3193b5ac02",
   "metadata": {},
   "source": [
    "## 9. Data visualization"
   ]
  },
  {
   "cell_type": "markdown",
   "id": "378fd3a0-b73e-4944-8f4c-fc8c911cbccb",
   "metadata": {},
   "source": [
    "### 9.1 Visualization Lost Function"
   ]
  },
  {
   "cell_type": "code",
   "execution_count": null,
   "id": "d38f44bc-2c8b-448a-8d74-b0b1bded1328",
   "metadata": {},
   "outputs": [],
   "source": [
    "# create a frame\n",
    "fig, ((ax1, ax2), (ax3, ax4)) = plt.subplots(nrows=2, ncols=2, facecolor=\"#f0f0f0\", figsize=(20, 10))\n",
    "\n",
    "\n",
    "# result loss function\n",
    "ax1.plot(history_1.history['loss'], color=\"tab:blue\", label=\"loss func\", linewidth=2.5)\n",
    "\n",
    "# setting labes\n",
    "ax1.set_title(\"Loss Function - Vanila-LSTM\", fontsize=14)\n",
    "ax1.set_xlabel(\"epoch\", fontsize=10)\n",
    "ax1.set_ylabel(\"loss function\", fontsize=10)\n",
    "ax1.legend(loc='upper right')\n",
    "ax1.grid(True)\n",
    "# ----------------------------------------------------------------------------------------------------\n",
    "\n",
    "# set the spacing between subplots\n",
    "plt.subplots_adjust(wspace=0.15, hspace=0.25)\n",
    "\n",
    "plt.show()"
   ]
  },
  {
   "cell_type": "markdown",
   "id": "86e773d1-89d7-406f-a326-1f7643e7b332",
   "metadata": {},
   "source": [
    "### 9.2 Visualization Evaluations"
   ]
  },
  {
   "cell_type": "markdown",
   "id": "2083baa8-ddca-40ac-8795-859946dd510e",
   "metadata": {},
   "source": [
    "### 9.3 Visualization Result Predictions"
   ]
  },
  {
   "cell_type": "code",
   "execution_count": null,
   "id": "66722f4b-b292-42c8-947e-2d4159b33f9b",
   "metadata": {},
   "outputs": [],
   "source": [
    "# create a frame\n",
    "fig, ((ax1, ax2), (ax3, ax4)) = plt.subplots(nrows=2, ncols=2, facecolor=\"#f0f0f0\", figsize=(20, 10))\n",
    "\n",
    "# result predictions Valina-LSTM\n",
    "ax1.plot(y_test, color=\"tab:red\", label=\"loss func\", linewidth=2.5)\n",
    "ax1.plot(predictions_1, color=\"tab:blue\", label=\"loss func\", linewidth=2.5)\n",
    "\n",
    "# setting labes\n",
    "ax1.set_title(\"Loss Function - Vanila-LSTM\", fontsize=14)\n",
    "ax1.set_xlabel(\"epoch\", fontsize=10)\n",
    "ax1.set_ylabel(\"loss function\", fontsize=10)\n",
    "ax1.legend(loc='upper right')\n",
    "ax1.grid(True)\n",
    "# ----------------------------------------------------------------------------------------------------\n",
    "\n",
    "# set the spacing between subplots\n",
    "plt.subplots_adjust(wspace=0.15, hspace=0.25)\n",
    "\n",
    "plt.show()"
   ]
  },
  {
   "cell_type": "code",
   "execution_count": null,
   "id": "72fdaa5a-1277-4120-853b-e6d5ffada084",
   "metadata": {},
   "outputs": [],
   "source": []
  },
  {
   "cell_type": "code",
   "execution_count": null,
   "id": "5d582a53-f915-40cb-b467-f1726bfcad50",
   "metadata": {},
   "outputs": [],
   "source": []
  },
  {
   "cell_type": "code",
   "execution_count": null,
   "id": "2465fe23-b011-4274-aaf7-5ef3e7156e3a",
   "metadata": {},
   "outputs": [],
   "source": []
  }
 ],
 "metadata": {
  "kernelspec": {
   "display_name": "Python 3 (ipykernel)",
   "language": "python",
   "name": "python3"
  },
  "language_info": {
   "codemirror_mode": {
    "name": "ipython",
    "version": 3
   },
   "file_extension": ".py",
   "mimetype": "text/x-python",
   "name": "python",
   "nbconvert_exporter": "python",
   "pygments_lexer": "ipython3",
   "version": "3.9.16"
  }
 },
 "nbformat": 4,
 "nbformat_minor": 5
}
