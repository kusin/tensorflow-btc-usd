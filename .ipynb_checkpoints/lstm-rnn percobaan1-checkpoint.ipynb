{
 "cells": [
  {
   "cell_type": "markdown",
   "id": "5057570f-8623-47d5-92dc-2e3b5ecaf51d",
   "metadata": {
    "tags": []
   },
   "source": [
    "## RNN- LSTM - GRU - Xgboost - Prophet Time Series Prediction Bitcoin"
   ]
  },
  {
   "cell_type": "markdown",
   "id": "f2dfc47e-4c39-4a07-8288-5435c3549594",
   "metadata": {},
   "source": [
    "### 1. Deklarasi Pustaka"
   ]
  },
  {
   "cell_type": "code",
   "execution_count": null,
   "id": "354dadd9-6e0f-4ead-aa8e-5a26b34371b0",
   "metadata": {},
   "outputs": [],
   "source": [
    "# pustaka untuk manipulasi data-frame\n",
    "import pandas as pd\n",
    "from pandas import concat\n",
    "from pandas import read_csv\n",
    "from pandas import read_excel\n",
    "from pandas_datareader import DataReader\n",
    "\n",
    "# pustaka untuk madnipulasi data-array\n",
    "import numpy as np\n",
    "from numpy import concatenate\n",
    "from numpy import array\n",
    "\n",
    "# pustaka untuk waktu komputasi\n",
    "import time\n",
    "from datetime import datetime\n",
    "\n",
    "# pustaka untuk visualisasi data\n",
    "import seaborn as sns\n",
    "from matplotlib import pyplot\n",
    "from matplotlib import pyplot as plt\n",
    "\n",
    "# pustaka untuk visualisasi acf dan pacf\n",
    "import scipy.stats as sc\n",
    "import statsmodels.api as sm\n",
    "from statsmodels.graphics.tsaplots import plot_pacf\n",
    "from statsmodels.graphics.tsaplots import plot_acf\n",
    "        \n",
    "# pustaka untuk membuat data latih dan data uji.\n",
    "from sklearn.model_selection import train_test_split\n",
    "from sklearn.preprocessing import MinMaxScaler\n",
    "from sklearn.preprocessing import LabelEncoder\n",
    "\n",
    "# pustaka untuk membuat model prediksi LSTM-RNN\n",
    "import itertools\n",
    "import tensorflow as tf\n",
    "from keras.utils import Sequence\n",
    "from keras.models import Sequential\n",
    "from keras.layers import SimpleRNN\n",
    "from keras.layers import LSTM\n",
    "from keras.layers import GRU\n",
    "from keras.layers import Dense\n",
    "from keras.layers import Dropout\n",
    "from keras.layers import TimeDistributed\n",
    "from keras.layers import Bidirectional\n",
    "from keras.optimizers import Adam, Adamax, RMSprop, SGD\n",
    "\n",
    "# early stoping\n",
    "from keras.callbacks import EarlyStopping\n",
    "from keras.callbacks import ModelCheckpoint\n",
    "\n",
    "# pustaka untuk  evaluasi model prediksi\n",
    "import math\n",
    "from math import sqrt\n",
    "from sklearn.metrics import mean_squared_error\n",
    "from sklearn.metrics import mean_absolute_error"
   ]
  },
  {
   "cell_type": "markdown",
   "id": "f0b4abdd-92ee-457a-988a-78c7a65391c1",
   "metadata": {},
   "source": [
    "### 2. Akuisisi Data"
   ]
  },
  {
   "cell_type": "code",
   "execution_count": null,
   "id": "b73a48bd-d54e-4250-b9cb-abe004cdb428",
   "metadata": {},
   "outputs": [],
   "source": [
    "# Set waktu komputasi\n",
    "start = time.time()"
   ]
  },
  {
   "cell_type": "code",
   "execution_count": null,
   "id": "d67cbfdb-1b1a-4c5b-a377-acd3aa4a6631",
   "metadata": {},
   "outputs": [],
   "source": [
    "# fix random seed for reproducibility\n",
    "np.random.seed(1234);"
   ]
  },
  {
   "cell_type": "code",
   "execution_count": null,
   "id": "43d4025b-1a3b-4dc8-80ac-9b4ba55789c6",
   "metadata": {},
   "outputs": [],
   "source": [
    "# membaca dataset via csv file\n",
    "dataset = read_csv(\"dataset/BTC-USD.csv\", parse_dates=['Date']);"
   ]
  },
  {
   "cell_type": "code",
   "execution_count": null,
   "id": "87a54f5c-a969-4a40-9318-0e7925c5593c",
   "metadata": {},
   "outputs": [],
   "source": [
    "# set index tanggal\n",
    "dataset = dataset.set_index(\"Date\");"
   ]
  },
  {
   "cell_type": "code",
   "execution_count": null,
   "id": "99458cfa-df54-4efd-b696-8fc5f935ba96",
   "metadata": {},
   "outputs": [],
   "source": [
    "# menampilkan metadata dataset\n",
    "dataset.info();"
   ]
  },
  {
   "cell_type": "code",
   "execution_count": null,
   "id": "8d9ea941-6892-4511-ab45-da96f4b0757e",
   "metadata": {},
   "outputs": [],
   "source": [
    "dataset"
   ]
  },
  {
   "cell_type": "markdown",
   "id": "f5ec4e54-eb49-4a92-81a3-d1df25b58c42",
   "metadata": {},
   "source": [
    "### 3. Eksplorasi Data Analisis"
   ]
  },
  {
   "cell_type": "code",
   "execution_count": null,
   "id": "60bf58d9-4fc3-4ef7-92fc-954aff800459",
   "metadata": {},
   "outputs": [],
   "source": [
    "# membuat frame\n",
    "fig, ((ax1, ax2), (ax3, ax4)) = plt.subplots(nrows=2, ncols=2, facecolor=\"#f0f0f0\", figsize=(20, 10))\n",
    "\n",
    "# membuat time series plot\n",
    "ax1.plot(dataset.index.values, dataset[\"Open\"], color=\"tab:blue\", label=\"Open Price\", linewidth=2)\n",
    "\n",
    "# membuat label-label\n",
    "ax1.set_title(\"Open Price Bitcoin\", fontsize=14)\n",
    "ax1.set_xlabel(\"Date\", fontsize=12)\n",
    "ax1.set_ylabel(\"Stock Price\", fontsize=12)\n",
    "ax1.legend(loc='upper left')\n",
    "ax1.grid(True)\n",
    "# ----------------------------------------------------------------------------------------------------\n",
    "\n",
    "# membuat time series plot\n",
    "ax2.plot(dataset.index.values, dataset[\"Close\"], color=\"tab:green\", label=\"Close Price\", linewidth=2)\n",
    "\n",
    "# membuat label-label\n",
    "ax2.set_title(\"Close Price Bitcoin\", fontsize=14)\n",
    "ax2.set_xlabel(\"Date\", fontsize=12)\n",
    "ax2.set_ylabel(\"Stock Price\", fontsize=12)\n",
    "ax2.legend(loc='upper left')\n",
    "ax2.grid(True)\n",
    "# ----------------------------------------------------------------------------------------------------\n",
    "\n",
    "# membuat time series plot\n",
    "ax3.plot(dataset.index.values, dataset[\"High\"], color=\"tab:orange\", label=\"High Price\", linewidth=2)\n",
    "\n",
    "# membuat label-label\n",
    "ax3.set_title(\"High Price Bitcoin\", fontsize=14)\n",
    "ax3.set_xlabel(\"Date\", fontsize=12)\n",
    "ax3.set_ylabel(\"Stock Price\", fontsize=12)\n",
    "ax3.legend(loc='upper left')\n",
    "ax3.grid(True)\n",
    "# ----------------------------------------------------------------------------------------------------\n",
    "\n",
    "# membuat time series plot\n",
    "ax4.plot(dataset.index.values, dataset[\"Low\"], color=\"tab:red\", label=\"Low Price\", linewidth=2)\n",
    "\n",
    "# membuat label-label\n",
    "ax4.set_title(\"Low Price Bitcoin\", fontsize=14)\n",
    "ax4.set_xlabel(\"Date\", fontsize=12)\n",
    "ax4.set_ylabel(\"Stock Price\", fontsize=12)\n",
    "ax4.legend(loc='upper left')\n",
    "ax4.grid(True)\n",
    "# ----------------------------------------------------------------------------------------------------\n",
    "\n",
    "# set the spacing between subplots\n",
    "plt.subplots_adjust(wspace=0.15, hspace=0.25)\n",
    "\n",
    "# menampilkan plot\n",
    "plt.show()"
   ]
  },
  {
   "cell_type": "markdown",
   "id": "761da842-43f8-4edd-884b-0e63ebe9bc92",
   "metadata": {},
   "source": [
    "### 4. Praproses Dataset"
   ]
  },
  {
   "cell_type": "markdown",
   "id": "869709cf-bc32-4345-86af-7e80e91bf255",
   "metadata": {},
   "source": [
    "- Seleksi Fitur"
   ]
  },
  {
   "cell_type": "code",
   "execution_count": null,
   "id": "9ce881bd-c22a-45b0-a591-7108c3322318",
   "metadata": {},
   "outputs": [],
   "source": [
    "# memilih fitur close price\n",
    "dataset = dataset.filter(['Close']);"
   ]
  },
  {
   "cell_type": "code",
   "execution_count": null,
   "id": "84eb68cd-4e6a-41df-8f85-ddceba149095",
   "metadata": {},
   "outputs": [],
   "source": [
    "# convert dataframe to series close price\n",
    "data = dataset.values"
   ]
  },
  {
   "cell_type": "code",
   "execution_count": null,
   "id": "1bd50e80-4133-4496-9d09-d52852faf817",
   "metadata": {},
   "outputs": [],
   "source": [
    "np.round(data[:5],7)"
   ]
  },
  {
   "cell_type": "code",
   "execution_count": null,
   "id": "f7cf7bc7-75bb-40d6-a4c4-f3863fc02132",
   "metadata": {},
   "outputs": [],
   "source": [
    "data.shape"
   ]
  },
  {
   "cell_type": "markdown",
   "id": "d829ce3d-69af-44db-b41d-6c3cd723decc",
   "metadata": {},
   "source": [
    "- Normalisasi Data"
   ]
  },
  {
   "cell_type": "code",
   "execution_count": null,
   "id": "71181373-bfa1-4dbd-9f7c-71df25eb986a",
   "metadata": {},
   "outputs": [],
   "source": [
    "# normalize features\n",
    "scaler = MinMaxScaler(feature_range=(0, 1))\n",
    "scaled_data = scaler.fit_transform(np.array(data).reshape(-1,1))"
   ]
  },
  {
   "cell_type": "code",
   "execution_count": null,
   "id": "4207cd97-19ed-432e-80af-c5a381bfe823",
   "metadata": {},
   "outputs": [],
   "source": [
    "np.round(scaled_data[:5],7)"
   ]
  },
  {
   "cell_type": "code",
   "execution_count": null,
   "id": "dac0ada4-8ef7-4a90-9b11-41ed93077e76",
   "metadata": {},
   "outputs": [],
   "source": [
    "scaled_data.shape"
   ]
  },
  {
   "cell_type": "code",
   "execution_count": null,
   "id": "994267a3-025b-408f-bd28-778147f8aacf",
   "metadata": {},
   "outputs": [],
   "source": [
    "# membuat frame\n",
    "fig, ax = plt.subplots(facecolor=\"#f0f0f0\", figsize=(8,4))\n",
    "\n",
    "# membuat time series plot\n",
    "ax.plot(dataset.index.values, scaled_data, color=\"tab:blue\", label=\"CLose Price\", linewidth=2)\n",
    "\n",
    "# membuat label-label\n",
    "ax.set_title(\"Close Price Bitcoin\", fontsize=10)\n",
    "ax.set_xlabel(\"Date\", fontsize=9)\n",
    "ax.set_ylabel(\"Stock Price\", fontsize=9)\n",
    "ax.legend(loc='upper left')\n",
    "ax.grid(True)\n",
    "\n",
    "# menampilkan plot\n",
    "plt.show()"
   ]
  },
  {
   "cell_type": "markdown",
   "id": "b8085a27-cf25-43b8-909a-07a0f2f69ce6",
   "metadata": {},
   "source": [
    "- split data"
   ]
  },
  {
   "cell_type": "code",
   "execution_count": null,
   "id": "51ee8504-a0cc-4743-8aa1-0f7ea8fd32c5",
   "metadata": {},
   "outputs": [],
   "source": [
    "# # set data train\n",
    "# train_size = math.ceil(len(dataset)*0.8)\n",
    "# train_data = scaled_data[0:train_size , :]"
   ]
  },
  {
   "cell_type": "code",
   "execution_count": null,
   "id": "cecbce5d-0fc4-457d-8a72-e62686158fb5",
   "metadata": {},
   "outputs": [],
   "source": [
    "# np.round(train_data[:5],7)"
   ]
  },
  {
   "cell_type": "code",
   "execution_count": null,
   "id": "2f0c41b9-b7cc-4cf8-aaac-3ade6c965c8c",
   "metadata": {},
   "outputs": [],
   "source": [
    "# train_data.shape"
   ]
  },
  {
   "cell_type": "code",
   "execution_count": null,
   "id": "cb8eaa46-63dd-4c31-bed3-d48ddf631ce3",
   "metadata": {},
   "outputs": [],
   "source": [
    "# # set data test\n",
    "# test_size = len(dataset) - train_size\n",
    "# test_data = scaled_data[train_size:len(dataset) , :]"
   ]
  },
  {
   "cell_type": "code",
   "execution_count": null,
   "id": "3bbd204b-119b-454a-a71d-6e026b612c91",
   "metadata": {},
   "outputs": [],
   "source": [
    "# np.round(test_data[:5],7)"
   ]
  },
  {
   "cell_type": "code",
   "execution_count": null,
   "id": "4ed67b12-3025-47f2-8e79-ca17df82a914",
   "metadata": {},
   "outputs": [],
   "source": [
    "# test_data.shape"
   ]
  },
  {
   "cell_type": "code",
   "execution_count": null,
   "id": "e0525e83-85f0-4044-be67-eb14fe9bc359",
   "metadata": {},
   "outputs": [],
   "source": [
    "# split data train and test\n",
    "train_data, test_data = train_test_split(scaled_data, train_size=0.80, test_size=0.20, shuffle=False)"
   ]
  },
  {
   "cell_type": "code",
   "execution_count": null,
   "id": "36727c58-cf82-4423-b607-b275ec017ec6",
   "metadata": {},
   "outputs": [],
   "source": [
    "# data train\n",
    "np.round(train_data[:5],7)"
   ]
  },
  {
   "cell_type": "code",
   "execution_count": null,
   "id": "43d20564-8102-4c75-8752-d9a2b4572755",
   "metadata": {},
   "outputs": [],
   "source": [
    "train_data.shape"
   ]
  },
  {
   "cell_type": "code",
   "execution_count": null,
   "id": "685b3a8a-9d47-4743-a1ca-29ecfc7b7963",
   "metadata": {},
   "outputs": [],
   "source": [
    "# data test\n",
    "np.round(test_data[:5],7)"
   ]
  },
  {
   "cell_type": "code",
   "execution_count": null,
   "id": "34c47724-4c95-4d42-941f-8858c427f86f",
   "metadata": {},
   "outputs": [],
   "source": [
    "test_data.shape"
   ]
  },
  {
   "cell_type": "markdown",
   "id": "7f97b71b-2ef8-425e-942b-72a4246beaa7",
   "metadata": {},
   "source": [
    "- Supervised Learning"
   ]
  },
  {
   "cell_type": "code",
   "execution_count": null,
   "id": "7c70b44b-2e5c-42e9-b3b8-2a6fc163cb4a",
   "metadata": {},
   "outputs": [],
   "source": [
    "# convert an array of values into a dataset matrix\n",
    "\n",
    "# function for supervised learning\n",
    "def create_dataset(look_back, dataset):\n",
    "    \n",
    "    # declare variable X and Y\n",
    "    dataX = []\n",
    "    dataY = []\n",
    "    \n",
    "    # for loop for create supervised learning\n",
    "    for i in range(look_back, len(dataset)):\n",
    "        \n",
    "        # insert value X and Y \n",
    "        dataX.append(dataset[i-look_back:i, 0])\n",
    "        dataY.append(dataset[i, 0])\n",
    "        \n",
    "    # return value X and Y\n",
    "    return np.array(dataX), np.array(dataY)"
   ]
  },
  {
   "cell_type": "code",
   "execution_count": null,
   "id": "0c14c03f-d106-4e18-8cb2-6dd10b35ef3d",
   "metadata": {},
   "outputs": [],
   "source": [
    "# process supervised learning\n",
    "look_back = 60\n",
    "x_train, y_train = create_dataset(look_back, train_data)\n",
    "x_test, y_test = create_dataset(look_back, test_data)"
   ]
  },
  {
   "cell_type": "code",
   "execution_count": null,
   "id": "19f28f55-ca02-473f-9fcb-8c3bafcab9a7",
   "metadata": {},
   "outputs": [],
   "source": [
    "print(x_train.shape, y_train.shape)"
   ]
  },
  {
   "cell_type": "code",
   "execution_count": null,
   "id": "dbacd051-5e79-43c7-8855-da788448ee34",
   "metadata": {},
   "outputs": [],
   "source": [
    "print(x_test.shape, y_test.shape)"
   ]
  },
  {
   "cell_type": "code",
   "execution_count": null,
   "id": "1bbff4e6-ca2d-4267-b6de-68ae203526d0",
   "metadata": {},
   "outputs": [],
   "source": [
    "# reshape input to be [samples, time steps, features]\n",
    "x_train = np.reshape(x_train, (x_train.shape[0], x_train.shape[1], 1))\n",
    "x_test = np.reshape(x_test, (x_test.shape[0], x_test.shape[1], 1))"
   ]
  },
  {
   "cell_type": "code",
   "execution_count": null,
   "id": "a3340605-11cc-4a9a-b870-b726caa26677",
   "metadata": {},
   "outputs": [],
   "source": [
    "print(x_train.shape, x_test.shape)"
   ]
  },
  {
   "cell_type": "markdown",
   "id": "a880dbd8-9dfd-4641-a74e-9355166e418c",
   "metadata": {},
   "source": [
    "### 5. Modeling LSTM-RNN"
   ]
  },
  {
   "cell_type": "code",
   "execution_count": null,
   "id": "db98c055-863c-4cdd-bce9-0f8809e7129b",
   "metadata": {},
   "outputs": [],
   "source": [
    "# The LSTM architecture\n",
    "model = Sequential()\n",
    "\n",
    "# First LSTM layer with Dropout regularisation\n",
    "model.add(LSTM(50, return_sequences=True, input_shape=(x_train.shape[1], 1)))\n",
    "model.add(Dropout(0.05))\n",
    "\n",
    "# Second LSTM layer with Dropout regularisation\n",
    "model.add(LSTM(50, return_sequences=False))\n",
    "\n",
    "# The output layer\n",
    "model.add(Dense(1))\n",
    "\n",
    "# Compile the model LSTM\n",
    "model.compile(optimizer='adam', loss='mean_squared_error')"
   ]
  },
  {
   "cell_type": "code",
   "execution_count": null,
   "id": "9b66ead5-f04e-46eb-a630-1dfbb527c226",
   "metadata": {},
   "outputs": [],
   "source": [
    "# fit network\n",
    "history = model.fit(x_train, y_train, epochs=50, batch_size=16, verbose=1, use_multiprocessing=True, shuffle=False)"
   ]
  },
  {
   "cell_type": "code",
   "execution_count": null,
   "id": "8e475d27-e64d-4e2b-bfe8-ea8f6569f330",
   "metadata": {},
   "outputs": [],
   "source": [
    "model.summary()"
   ]
  },
  {
   "cell_type": "code",
   "execution_count": null,
   "id": "c116223f-c79c-4041-9731-d8804f85d05f",
   "metadata": {},
   "outputs": [],
   "source": [
    "predictions = model.predict(x_test)"
   ]
  },
  {
   "cell_type": "code",
   "execution_count": null,
   "id": "bb77da14-d945-4fba-bfda-c3d7551e46cf",
   "metadata": {},
   "outputs": [],
   "source": [
    "print(predictions[:7])"
   ]
  },
  {
   "cell_type": "code",
   "execution_count": null,
   "id": "06fc7d83-ecd4-4154-a9f8-826f09f1338d",
   "metadata": {},
   "outputs": [],
   "source": [
    "# membuat frame\n",
    "fig, ax = plt.subplots(figsize = (8,4))\n",
    "\n",
    "# membuat time series plot\n",
    "ax.plot(history.history['loss'], color=\"tab:blue\", label=\"loss func\", linewidth=2)\n",
    "\n",
    "# membuat label-label\n",
    "ax.set_xlabel(\"epoch\", fontsize=10)\n",
    "ax.set_ylabel(\"loss function\", fontsize=10)\n",
    "ax.legend(loc='upper right')\n",
    "ax.grid(True)\n",
    "\n",
    "# menampilkan plot\n",
    "plt.show()"
   ]
  },
  {
   "cell_type": "markdown",
   "id": "ea6862b3-0c68-48e9-b702-e363a798ebed",
   "metadata": {},
   "source": [
    "### 6. Evaluasi Model LSTM-RNN"
   ]
  },
  {
   "cell_type": "code",
   "execution_count": null,
   "id": "ca0aa876-f31f-466b-b9ef-ea143f238e5e",
   "metadata": {},
   "outputs": [],
   "source": [
    "scores = model.evaluate(x_train, y_train)\n",
    "scores"
   ]
  },
  {
   "cell_type": "code",
   "execution_count": null,
   "id": "2e454fcc-d036-465b-89d6-1aeb987b8a07",
   "metadata": {},
   "outputs": [],
   "source": [
    "scores = model.evaluate(x_test, y_test)\n",
    "scores"
   ]
  },
  {
   "cell_type": "markdown",
   "id": "8f23358a-9ffe-459c-9207-1270ccb0b989",
   "metadata": {},
   "source": [
    "- MAE (Mean Absolute Error)"
   ]
  },
  {
   "cell_type": "code",
   "execution_count": null,
   "id": "321789e4-ad1c-4020-a2dc-bb48a37c7a90",
   "metadata": {},
   "outputs": [],
   "source": [
    "mae = mean_absolute_error(y_test, predictions)\n",
    "print('Test MAE : %.4f' % mae)"
   ]
  },
  {
   "cell_type": "markdown",
   "id": "224ef6e4-db1e-439a-93c2-d06578709a4c",
   "metadata": {},
   "source": [
    "- MSE (Mean Squared Error)"
   ]
  },
  {
   "cell_type": "code",
   "execution_count": null,
   "id": "4af120ff-e326-498b-80f3-07adcb6acb8a",
   "metadata": {},
   "outputs": [],
   "source": [
    "mse = mean_squared_error(y_test, predictions)\n",
    "print('Test MSE: %.4f' % mse)"
   ]
  },
  {
   "cell_type": "markdown",
   "id": "2906860b-05da-432d-83e1-b2fce1ca9b55",
   "metadata": {},
   "source": [
    "- RMSE (Root Mean Squared Error)"
   ]
  },
  {
   "cell_type": "code",
   "execution_count": null,
   "id": "95332aaf-2acb-48c4-b486-b872c524b41c",
   "metadata": {},
   "outputs": [],
   "source": [
    "rmse = sqrt(mse)\n",
    "print('Test RMSE: %.4f' % rmse)"
   ]
  },
  {
   "cell_type": "markdown",
   "id": "58d82c97-12dc-4c06-a300-6f2375ca19d4",
   "metadata": {},
   "source": [
    "- Corelation pearson"
   ]
  },
  {
   "cell_type": "code",
   "execution_count": null,
   "id": "e48f87b0-c30d-4f96-911d-bbd1bfb7701a",
   "metadata": {},
   "outputs": [],
   "source": [
    "hasil = np.stack((y_test.reshape(-1), predictions.reshape(-1)), axis=1)\n",
    "hasil = pd.DataFrame(hasil, columns = ['data_aktual','prediksi'])"
   ]
  },
  {
   "cell_type": "code",
   "execution_count": null,
   "id": "4f26c65c-506a-41f9-952a-a56699203eed",
   "metadata": {},
   "outputs": [],
   "source": [
    "hasil"
   ]
  },
  {
   "cell_type": "code",
   "execution_count": null,
   "id": "be7ea7b7-6dcf-4f69-bacb-2f44b3c5ff42",
   "metadata": {},
   "outputs": [],
   "source": [
    "r, p = sc.pearsonr(hasil[\"data_aktual\"], hasil[\"prediksi\"])\n",
    "print(\"korelasi data akual dengan hasil prediksi\" +\" {:.4f} \".format(r)+ \"dengan signifikansi\" +\" {:.4f} \".format(p))"
   ]
  },
  {
   "cell_type": "markdown",
   "id": "cd3d949c-1a32-43e1-a8ea-0e5b93ed0426",
   "metadata": {},
   "source": [
    "- Complexity time"
   ]
  },
  {
   "cell_type": "code",
   "execution_count": null,
   "id": "aa107578-2889-46a3-8dcb-ecbfc897b1fb",
   "metadata": {},
   "outputs": [],
   "source": [
    "# Set akhir waktu komputasi \n",
    "end = time.time()"
   ]
  },
  {
   "cell_type": "code",
   "execution_count": null,
   "id": "340b96b2-d2e9-4744-bb4e-7c0f439322fb",
   "metadata": {},
   "outputs": [],
   "source": [
    "# Proses menghitung waktu komputasi\n",
    "hours, rem = divmod(end-start, 3600)\n",
    "minutes, seconds = divmod(rem, 60)"
   ]
  },
  {
   "cell_type": "code",
   "execution_count": null,
   "id": "9d082160-bca9-4de9-8371-4df79fae4ecf",
   "metadata": {},
   "outputs": [],
   "source": [
    "# Hasil waktu komputasi\n",
    "print(\"{:0>2}:{:0>2}:{:05.2f}\".format(int(hours),int(minutes),seconds))"
   ]
  },
  {
   "cell_type": "markdown",
   "id": "22e7781c-cef1-458e-88cc-662b25d95757",
   "metadata": {},
   "source": [
    "### 7. Visualisasi Data"
   ]
  },
  {
   "cell_type": "code",
   "execution_count": null,
   "id": "d6df8772-9726-44f4-9075-0dc22fa41086",
   "metadata": {},
   "outputs": [],
   "source": [
    "# membuat frame\n",
    "fig, ax = plt.subplots(figsize = (10,5))\n",
    "\n",
    "# membuat time series plot\n",
    "ax.plot(y_test, color=\"tab:blue\", label=\"data aktual\", linewidth=2.5)\n",
    "ax.plot(predictions, color=\"tab:red\", label=\"hasil prediksi\", linewidth=2.5)\n",
    "\n",
    "# membuat label-label\n",
    "# ax.set_title(\"Hotspot Sumsel Sensor MODIS 2018-2020\", fontsize=14)\n",
    "ax.set_xlabel(\"Tanggal\", fontsize=12)\n",
    "ax.set_ylabel(\"Jumlah Hostpot\", fontsize=12)\n",
    "ax.legend(loc='upper right')\n",
    "ax.grid(True)\n",
    "\n",
    "# menampilkan plot\n",
    "plt.show()"
   ]
  },
  {
   "cell_type": "code",
   "execution_count": null,
   "id": "5a77f660-b512-47f6-a31e-766495677712",
   "metadata": {},
   "outputs": [],
   "source": []
  },
  {
   "cell_type": "code",
   "execution_count": null,
   "id": "1786d2db-1852-48e8-a183-40f009faffed",
   "metadata": {},
   "outputs": [],
   "source": []
  },
  {
   "cell_type": "code",
   "execution_count": null,
   "id": "1e27eb96-a0ff-4fe3-8404-16cd1937161e",
   "metadata": {},
   "outputs": [],
   "source": []
  }
 ],
 "metadata": {
  "kernelspec": {
   "display_name": "Python 3 (ipykernel)",
   "language": "python",
   "name": "python3"
  },
  "language_info": {
   "codemirror_mode": {
    "name": "ipython",
    "version": 3
   },
   "file_extension": ".py",
   "mimetype": "text/x-python",
   "name": "python",
   "nbconvert_exporter": "python",
   "pygments_lexer": "ipython3",
   "version": "3.9.16"
  },
  "vscode": {
   "interpreter": {
    "hash": "37197ad202cea1caf8a636a74cec7c83b945e4f29ac1505900600f740c02611d"
   }
  }
 },
 "nbformat": 4,
 "nbformat_minor": 5
}
