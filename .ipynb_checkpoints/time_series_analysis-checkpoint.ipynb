{
 "cells": [
  {
   "cell_type": "markdown",
   "id": "c0d0019e-f01a-4015-8dd1-046465eb3c7f",
   "metadata": {},
   "source": [
    "# Statistical analysis - stationarity test"
   ]
  },
  {
   "cell_type": "code",
   "execution_count": 1,
   "id": "1c501cc7-ea36-43b8-939e-fb01fd459fb6",
   "metadata": {},
   "outputs": [],
   "source": [
    "# library for manipulation data\n",
    "import numpy as np\n",
    "import pandas as pd\n",
    "\n",
    "# library for normalized data\n",
    "from sklearn import preprocessing\n",
    "from sklearn.preprocessing import MinMaxScaler\n",
    "\n",
    "import seaborn as sns\n",
    "from matplotlib import pyplot as plt"
   ]
  },
  {
   "cell_type": "code",
   "execution_count": 2,
   "id": "533c4c9c-a676-48b5-826f-12b6a7a99a8d",
   "metadata": {},
   "outputs": [],
   "source": [
    "# library for check stasionarity test\n",
    "from arch.unitroot import *\n",
    "from arch.unitroot import ADF\n",
    "from arch.unitroot import PhillipsPerron\n",
    "from arch.unitroot import KPSS"
   ]
  },
  {
   "cell_type": "code",
   "execution_count": 3,
   "id": "4171c764-2dcd-43a8-9147-1fec0478872d",
   "metadata": {},
   "outputs": [],
   "source": [
    "# load dataset\n",
    "dataset = pd.read_csv(\"dataset/BTC-USD.csv\", parse_dates=['Date']);"
   ]
  },
  {
   "cell_type": "code",
   "execution_count": 4,
   "id": "1ae492f7-ff85-4c91-9b7d-59fc69fab7c6",
   "metadata": {},
   "outputs": [
    {
     "name": "stdout",
     "output_type": "stream",
     "text": [
      "<class 'pandas.core.frame.DataFrame'>\n",
      "RangeIndex: 2896 entries, 0 to 2895\n",
      "Data columns (total 7 columns):\n",
      " #   Column     Non-Null Count  Dtype         \n",
      "---  ------     --------------  -----         \n",
      " 0   Date       2896 non-null   datetime64[ns]\n",
      " 1   Open       2896 non-null   float64       \n",
      " 2   High       2896 non-null   float64       \n",
      " 3   Low        2896 non-null   float64       \n",
      " 4   Close      2896 non-null   float64       \n",
      " 5   Adj Close  2896 non-null   float64       \n",
      " 6   Volume     2896 non-null   int64         \n",
      "dtypes: datetime64[ns](1), float64(5), int64(1)\n",
      "memory usage: 158.5 KB\n"
     ]
    }
   ],
   "source": [
    "# view metadata dataset\n",
    "dataset.info()"
   ]
  },
  {
   "cell_type": "code",
   "execution_count": 5,
   "id": "8d4b5808-1362-4322-ba23-278dd42016e0",
   "metadata": {},
   "outputs": [
    {
     "data": {
      "text/html": [
       "<div>\n",
       "<style scoped>\n",
       "    .dataframe tbody tr th:only-of-type {\n",
       "        vertical-align: middle;\n",
       "    }\n",
       "\n",
       "    .dataframe tbody tr th {\n",
       "        vertical-align: top;\n",
       "    }\n",
       "\n",
       "    .dataframe thead th {\n",
       "        text-align: right;\n",
       "    }\n",
       "</style>\n",
       "<table border=\"1\" class=\"dataframe\">\n",
       "  <thead>\n",
       "    <tr style=\"text-align: right;\">\n",
       "      <th></th>\n",
       "      <th>Date</th>\n",
       "      <th>Open</th>\n",
       "      <th>High</th>\n",
       "      <th>Low</th>\n",
       "      <th>Close</th>\n",
       "      <th>Adj Close</th>\n",
       "      <th>Volume</th>\n",
       "    </tr>\n",
       "  </thead>\n",
       "  <tbody>\n",
       "    <tr>\n",
       "      <th>0</th>\n",
       "      <td>2014-12-09</td>\n",
       "      <td>361.894989</td>\n",
       "      <td>363.066986</td>\n",
       "      <td>344.950989</td>\n",
       "      <td>352.218994</td>\n",
       "      <td>352.218994</td>\n",
       "      <td>32915500</td>\n",
       "    </tr>\n",
       "    <tr>\n",
       "      <th>1</th>\n",
       "      <td>2014-12-10</td>\n",
       "      <td>352.204987</td>\n",
       "      <td>352.384003</td>\n",
       "      <td>346.364990</td>\n",
       "      <td>346.364990</td>\n",
       "      <td>346.364990</td>\n",
       "      <td>16427700</td>\n",
       "    </tr>\n",
       "    <tr>\n",
       "      <th>2</th>\n",
       "      <td>2014-12-11</td>\n",
       "      <td>344.339996</td>\n",
       "      <td>361.356995</td>\n",
       "      <td>338.763000</td>\n",
       "      <td>350.506012</td>\n",
       "      <td>350.506012</td>\n",
       "      <td>32431300</td>\n",
       "    </tr>\n",
       "    <tr>\n",
       "      <th>3</th>\n",
       "      <td>2014-12-12</td>\n",
       "      <td>350.833008</td>\n",
       "      <td>352.983002</td>\n",
       "      <td>349.290985</td>\n",
       "      <td>352.541992</td>\n",
       "      <td>352.541992</td>\n",
       "      <td>16989800</td>\n",
       "    </tr>\n",
       "    <tr>\n",
       "      <th>4</th>\n",
       "      <td>2014-12-13</td>\n",
       "      <td>352.381012</td>\n",
       "      <td>352.381012</td>\n",
       "      <td>346.588013</td>\n",
       "      <td>347.376007</td>\n",
       "      <td>347.376007</td>\n",
       "      <td>11675900</td>\n",
       "    </tr>\n",
       "    <tr>\n",
       "      <th>...</th>\n",
       "      <td>...</td>\n",
       "      <td>...</td>\n",
       "      <td>...</td>\n",
       "      <td>...</td>\n",
       "      <td>...</td>\n",
       "      <td>...</td>\n",
       "      <td>...</td>\n",
       "    </tr>\n",
       "    <tr>\n",
       "      <th>2891</th>\n",
       "      <td>2022-11-08</td>\n",
       "      <td>20600.671875</td>\n",
       "      <td>20664.607422</td>\n",
       "      <td>17603.544922</td>\n",
       "      <td>18541.271484</td>\n",
       "      <td>18541.271484</td>\n",
       "      <td>118992465607</td>\n",
       "    </tr>\n",
       "    <tr>\n",
       "      <th>2892</th>\n",
       "      <td>2022-11-09</td>\n",
       "      <td>18543.761719</td>\n",
       "      <td>18590.458984</td>\n",
       "      <td>15682.692383</td>\n",
       "      <td>15880.780273</td>\n",
       "      <td>15880.780273</td>\n",
       "      <td>102905151606</td>\n",
       "    </tr>\n",
       "    <tr>\n",
       "      <th>2893</th>\n",
       "      <td>2022-11-10</td>\n",
       "      <td>15883.158203</td>\n",
       "      <td>18054.312500</td>\n",
       "      <td>15834.018555</td>\n",
       "      <td>17586.771484</td>\n",
       "      <td>17586.771484</td>\n",
       "      <td>83202283721</td>\n",
       "    </tr>\n",
       "    <tr>\n",
       "      <th>2894</th>\n",
       "      <td>2022-11-11</td>\n",
       "      <td>17583.251953</td>\n",
       "      <td>17650.943359</td>\n",
       "      <td>16543.482422</td>\n",
       "      <td>17034.292969</td>\n",
       "      <td>17034.292969</td>\n",
       "      <td>55871616488</td>\n",
       "    </tr>\n",
       "    <tr>\n",
       "      <th>2895</th>\n",
       "      <td>2022-11-12</td>\n",
       "      <td>17066.675781</td>\n",
       "      <td>17066.675781</td>\n",
       "      <td>16659.347656</td>\n",
       "      <td>16752.431641</td>\n",
       "      <td>16752.431641</td>\n",
       "      <td>50010157056</td>\n",
       "    </tr>\n",
       "  </tbody>\n",
       "</table>\n",
       "<p>2896 rows × 7 columns</p>\n",
       "</div>"
      ],
      "text/plain": [
       "           Date          Open          High           Low         Close  \\\n",
       "0    2014-12-09    361.894989    363.066986    344.950989    352.218994   \n",
       "1    2014-12-10    352.204987    352.384003    346.364990    346.364990   \n",
       "2    2014-12-11    344.339996    361.356995    338.763000    350.506012   \n",
       "3    2014-12-12    350.833008    352.983002    349.290985    352.541992   \n",
       "4    2014-12-13    352.381012    352.381012    346.588013    347.376007   \n",
       "...         ...           ...           ...           ...           ...   \n",
       "2891 2022-11-08  20600.671875  20664.607422  17603.544922  18541.271484   \n",
       "2892 2022-11-09  18543.761719  18590.458984  15682.692383  15880.780273   \n",
       "2893 2022-11-10  15883.158203  18054.312500  15834.018555  17586.771484   \n",
       "2894 2022-11-11  17583.251953  17650.943359  16543.482422  17034.292969   \n",
       "2895 2022-11-12  17066.675781  17066.675781  16659.347656  16752.431641   \n",
       "\n",
       "         Adj Close        Volume  \n",
       "0       352.218994      32915500  \n",
       "1       346.364990      16427700  \n",
       "2       350.506012      32431300  \n",
       "3       352.541992      16989800  \n",
       "4       347.376007      11675900  \n",
       "...            ...           ...  \n",
       "2891  18541.271484  118992465607  \n",
       "2892  15880.780273  102905151606  \n",
       "2893  17586.771484   83202283721  \n",
       "2894  17034.292969   55871616488  \n",
       "2895  16752.431641   50010157056  \n",
       "\n",
       "[2896 rows x 7 columns]"
      ]
     },
     "execution_count": 5,
     "metadata": {},
     "output_type": "execute_result"
    }
   ],
   "source": [
    "dataset"
   ]
  },
  {
   "cell_type": "code",
   "execution_count": 6,
   "id": "885b6967-4e43-40a7-bc24-68245213c34e",
   "metadata": {},
   "outputs": [],
   "source": [
    "# processing normalized data\n",
    "scaler = preprocessing.MinMaxScaler(feature_range=(-1, 1))\n",
    "scaled = scaler.fit_transform(dataset[[\"Open\", \"Close\", \"Low\", \"High\"]])"
   ]
  },
  {
   "cell_type": "code",
   "execution_count": 7,
   "id": "2579985d-bbf6-4633-9d33-0ef3865867db",
   "metadata": {},
   "outputs": [
    {
     "data": {
      "text/plain": [
       "array([[-0.9945082, -0.9948325, -0.9947609, -0.9955864],\n",
       "       [-0.9947959, -0.9950062, -0.9947182, -0.995898 ],\n",
       "       [-0.9950294, -0.9948833, -0.9949478, -0.9956363],\n",
       "       [-0.9948366, -0.9948229, -0.9946298, -0.9958805],\n",
       "       [-0.9947907, -0.9949762, -0.9947115, -0.9958981]])"
      ]
     },
     "execution_count": 7,
     "metadata": {},
     "output_type": "execute_result"
    }
   ],
   "source": [
    "np.round(scaled[:5],7)"
   ]
  },
  {
   "cell_type": "code",
   "execution_count": 8,
   "id": "7ae7f9d3-be74-495a-b673-9073e324239e",
   "metadata": {},
   "outputs": [
    {
     "data": {
      "text/plain": [
       "(2896, 4)"
      ]
     },
     "execution_count": 8,
     "metadata": {},
     "output_type": "execute_result"
    }
   ],
   "source": [
    "scaled.shape"
   ]
  },
  {
   "cell_type": "code",
   "execution_count": 9,
   "id": "3ab0dc37-969b-4b8b-93ac-b1b4a5c228bc",
   "metadata": {},
   "outputs": [
    {
     "data": {
      "image/png": "[encoded data removed]",
      "text/plain": [
       "<Figure size 1000x500 with 1 Axes>"
      ]
     },
     "metadata": {},
     "output_type": "display_data"
    }
   ],
   "source": [
    "# make frame plot\n",
    "fig, ax = plt.subplots(figsize = (10,5))\n",
    "\n",
    "# make time series plot\n",
    "ax.plot(dataset[\"Date\"], scaled[:, 0:1], color=\"tab:green\", label=\"Open Price\", linewidth=2)\n",
    "ax.plot(dataset[\"Date\"], scaled[:, 1:2], color=\"tab:orange\", label=\"High Price\", linewidth=2)\n",
    "ax.plot(dataset[\"Date\"], scaled[:, 2:3], color=\"tab:red\", label=\"Low Price\", linewidth=2)\n",
    "ax.plot(dataset[\"Date\"], scaled[:, 3:4], color=\"tab:blue\", label=\"CLose Price\", linewidth=2)\n",
    "\n",
    "# set labels\n",
    "ax.set_title(\"Close Price Bitcoin\", fontsize=12)\n",
    "ax.set_xlabel(\"Date\", fontsize=10)\n",
    "ax.set_ylabel(\"Stock Price\", fontsize=10)\n",
    "ax.legend(loc='upper left')\n",
    "ax.grid(True)\n",
    "\n",
    "plt.show()"
   ]
  },
  {
   "cell_type": "markdown",
   "id": "ba0a8f4c-f8c1-46d0-ad28-1238370c22e1",
   "metadata": {},
   "source": [
    "## ADF Test"
   ]
  },
  {
   "cell_type": "code",
   "execution_count": 10,
   "id": "d35102d0-7919-4aeb-85b2-ad98069f1b80",
   "metadata": {},
   "outputs": [
    {
     "name": "stdout",
     "output_type": "stream",
     "text": [
      "   Augmented Dickey-Fuller Results   \n",
      "=====================================\n",
      "Test Statistic                 -1.907\n",
      "P-value                         0.329\n",
      "Lags                               60\n",
      "-------------------------------------\n",
      "\n",
      "Trend: Constant\n",
      "Critical Values: -3.43 (1%), -2.86 (5%), -2.57 (10%)\n",
      "Null Hypothesis: The process contains a unit root.\n",
      "Alternative Hypothesis: The process is weakly stationary.\n"
     ]
    }
   ],
   "source": [
    "adf = ADF(scaled[:, 3:4], lags=60, trend=\"c\")\n",
    "print(adf.summary().as_text())"
   ]
  },
  {
   "cell_type": "markdown",
   "id": "76cafc0c",
   "metadata": {},
   "source": [
    "## PP Test"
   ]
  },
  {
   "cell_type": "code",
   "execution_count": 11,
   "id": "97ff4220-e1d6-48ea-8e39-9521c348d249",
   "metadata": {},
   "outputs": [
    {
     "name": "stdout",
     "output_type": "stream",
     "text": [
      "     Phillips-Perron Test (Z-tau)    \n",
      "=====================================\n",
      "Test Statistic                 -1.607\n",
      "P-value                         0.480\n",
      "Lags                               60\n",
      "-------------------------------------\n",
      "\n",
      "Trend: Constant\n",
      "Critical Values: -3.43 (1%), -2.86 (5%), -2.57 (10%)\n",
      "Null Hypothesis: The process contains a unit root.\n",
      "Alternative Hypothesis: The process is weakly stationary.\n"
     ]
    }
   ],
   "source": [
    "pp = PhillipsPerron(scaled[:, 3:4], lags=60, trend=\"c\")\n",
    "print(pp.summary().as_text())"
   ]
  },
  {
   "cell_type": "markdown",
   "id": "c0d807ea",
   "metadata": {},
   "source": [
    "## KPSS Test"
   ]
  },
  {
   "cell_type": "code",
   "execution_count": 12,
   "id": "a710c3e7-cc27-4e3c-a46a-be91a193b2b5",
   "metadata": {},
   "outputs": [
    {
     "name": "stdout",
     "output_type": "stream",
     "text": [
      "    KPSS Stationarity Test Results   \n",
      "=====================================\n",
      "Test Statistic                  3.080\n",
      "P-value                         0.000\n",
      "Lags                               60\n",
      "-------------------------------------\n",
      "\n",
      "Trend: Constant\n",
      "Critical Values: 0.74 (1%), 0.46 (5%), 0.35 (10%)\n",
      "Null Hypothesis: The process is weakly stationary.\n",
      "Alternative Hypothesis: The process contains a unit root.\n"
     ]
    }
   ],
   "source": [
    "kpss = KPSS(scaled[:, 3:4], lags=60, trend=\"c\")\n",
    "print(kpss.summary().as_text())"
   ]
  },
  {
   "cell_type": "code",
   "execution_count": null,
   "id": "96691475-a172-401e-ba7e-b3c973ec8782",
   "metadata": {},
   "outputs": [],
   "source": []
  }
 ],
 "metadata": {
  "kernelspec": {
   "display_name": "Python 3 (ipykernel)",
   "language": "python",
   "name": "python3"
  },
  "language_info": {
   "codemirror_mode": {
    "name": "ipython",
    "version": 3
   },
   "file_extension": ".py",
   "mimetype": "text/x-python",
   "name": "python",
   "nbconvert_exporter": "python",
   "pygments_lexer": "ipython3",
   "version": "3.9.18"
  }
 },
 "nbformat": 4,
 "nbformat_minor": 5
}
