{
 "cells": [
  {
   "cell_type": "markdown",
   "metadata": {},
   "source": [
    "## Visualization Exploration Data Analysis (EDA)"
   ]
  },
  {
   "cell_type": "markdown",
   "metadata": {},
   "source": [
    "### 1. Deklarasi pustaka"
   ]
  },
  {
   "cell_type": "code",
   "execution_count": null,
   "metadata": {},
   "outputs": [],
   "source": [
    "# pustaka untuk manipulasi data-frame\n",
    "import pandas as pd\n",
    "from pandas import concat\n",
    "from pandas import read_csv\n",
    "from pandas import read_excel\n",
    "\n",
    "# pustaka untuk madnipulasi data-array\n",
    "import numpy as np\n",
    "from numpy import concatenate\n",
    "from numpy import array\n",
    "\n",
    "# pustaka untuk waktu komputasi\n",
    "import time\n",
    "from datetime import datetime\n",
    "\n",
    "# pustaka untuk visualisasi data\n",
    "import seaborn as sns\n",
    "from matplotlib import pyplot\n",
    "from matplotlib import pyplot as plt\n",
    "\n",
    "# pustaka untuk visualisasi acf dan pacf\n",
    "import scipy.stats as sc\n",
    "import statsmodels.api as sm\n",
    "from statsmodels.graphics.tsaplots import plot_pacf\n",
    "from statsmodels.graphics.tsaplots import plot_acf\n",
    "        \n",
    "# pustaka untuk membuat data latih dan data uji.\n",
    "from sklearn.preprocessing import MinMaxScaler\n",
    "from sklearn.preprocessing import LabelEncoder\n",
    "\n",
    "# # pustaka untuk membuat model prediksi LSTM-RNN\n",
    "# import itertools\n",
    "# from itertools import cycle\n",
    "# import tensorflow as tf\n",
    "# from keras.models import Sequential\n",
    "# from keras.layers import SimpleRNN\n",
    "# from keras.layers import LSTM\n",
    "# from keras.layers import GRU\n",
    "# from keras.layers import Dense\n",
    "# from keras.layers import Dropout\n",
    "# from keras.layers import TimeDistributed\n",
    "# from keras.layers import Bidirectional\n",
    "# from keras.optimizers import Adam, Adamax, RMSprop, SGD\n",
    "\n",
    "# # early stoping\n",
    "# from keras.callbacks import EarlyStopping\n",
    "# from keras.callbacks import ModelCheckpoint\n",
    "\n",
    "# pustaka untuk  evaluasi model prediksi\n",
    "import math\n",
    "from math import sqrt\n",
    "from sklearn.metrics import mean_squared_error\n",
    "from sklearn.metrics import mean_absolute_error"
   ]
  },
  {
   "cell_type": "markdown",
   "metadata": {},
   "source": [
    "### 2. Akuisisi data"
   ]
  },
  {
   "cell_type": "code",
   "execution_count": null,
   "metadata": {},
   "outputs": [],
   "source": [
    "# Set waktu komputasi\n",
    "start = time.time()"
   ]
  },
  {
   "cell_type": "code",
   "execution_count": null,
   "metadata": {},
   "outputs": [],
   "source": [
    "# # fix random seed for reproducibility\n",
    "# np.random.seed(1234)"
   ]
  },
  {
   "cell_type": "code",
   "execution_count": null,
   "metadata": {},
   "outputs": [],
   "source": [
    "# membaca dataset via csv file\n",
    "dataset = read_csv(\"dataset/BTC-USD.csv\", parse_dates=['Date']);"
   ]
  },
  {
   "cell_type": "code",
   "execution_count": null,
   "metadata": {},
   "outputs": [],
   "source": [
    "# set index tanggal\n",
    "dataset = dataset.set_index(\"Date\")"
   ]
  },
  {
   "cell_type": "code",
   "execution_count": null,
   "metadata": {},
   "outputs": [],
   "source": [
    "# check null and na values\n",
    "print(\"Null values:\", dataset.isnull().values.sum())\n",
    "print(\"NA values:\", dataset.isna().values.sum())"
   ]
  },
  {
   "cell_type": "code",
   "execution_count": null,
   "metadata": {},
   "outputs": [],
   "source": [
    "# menampilkan metadata dataset\n",
    "dataset.info()"
   ]
  },
  {
   "cell_type": "code",
   "execution_count": null,
   "metadata": {},
   "outputs": [],
   "source": [
    "# membuat frame\n",
    "fig, ax = plt.subplots(figsize=(20,8))\n",
    "\n",
    "# membuat time series plot\n",
    "ax.plot(dataset.index.values, dataset[\"Close\"], color=\"tab:green\", label=\"Open Price\", linewidth=2.5)\n",
    "\n",
    "# membuat label-label\n",
    "ax.set_title(\"Open Price Bitcoin\", fontsize=14)\n",
    "ax.set_xlabel(\"Date\", fontsize=12)\n",
    "ax.set_ylabel(\"Stock Price\", fontsize=12)\n",
    "ax.legend(loc='upper left')\n",
    "ax.grid(True)\n",
    "\n",
    "# menampilkan plot\n",
    "plt.show()"
   ]
  },
  {
   "cell_type": "markdown",
   "metadata": {},
   "source": [
    "### 3. Explorasi Data Analisis"
   ]
  },
  {
   "cell_type": "code",
   "execution_count": null,
   "metadata": {},
   "outputs": [],
   "source": [
    "# membuat frame\n",
    "fig, ((ax1, ax2), (ax3, ax4)) = plt.subplots(nrows=2, ncols=2, facecolor=\"#f0f0f0\", figsize=(20, 10))\n",
    "\n",
    "# membuat time series plot\n",
    "ax1.plot(dataset.index.values, dataset[\"Open\"], color=\"tab:blue\", label=\"Open Price\", linewidth=2)\n",
    "\n",
    "# membuat label-label\n",
    "ax1.set_title(\"Open Price Bitcoin\", fontsize=14)\n",
    "ax1.set_xlabel(\"Date\", fontsize=12)\n",
    "ax1.set_ylabel(\"Stock Price\", fontsize=12)\n",
    "ax1.legend(loc='upper left')\n",
    "ax1.grid(True)\n",
    "# ----------------------------------------------------------------------------------------------------\n",
    "\n",
    "# membuat time series plot\n",
    "ax2.plot(dataset.index.values, dataset[\"Close\"], color=\"tab:green\", label=\"Close Price\", linewidth=2)\n",
    "\n",
    "# membuat label-label\n",
    "ax2.set_title(\"Close Price Bitcoin\", fontsize=14)\n",
    "ax2.set_xlabel(\"Date\", fontsize=12)\n",
    "ax2.set_ylabel(\"Stock Price\", fontsize=12)\n",
    "ax2.legend(loc='upper left')\n",
    "ax2.grid(True)\n",
    "# ----------------------------------------------------------------------------------------------------\n",
    "\n",
    "# membuat time series plot\n",
    "ax3.plot(dataset.index.values, dataset[\"High\"], color=\"tab:orange\", label=\"High Price\", linewidth=2)\n",
    "\n",
    "# membuat label-label\n",
    "ax3.set_title(\"High Price Bitcoin\", fontsize=14)\n",
    "ax3.set_xlabel(\"Date\", fontsize=12)\n",
    "ax3.set_ylabel(\"Stock Price\", fontsize=12)\n",
    "ax3.legend(loc='upper left')\n",
    "ax3.grid(True)\n",
    "# ----------------------------------------------------------------------------------------------------\n",
    "\n",
    "# membuat time series plot\n",
    "ax4.plot(dataset.index.values, dataset[\"Low\"], color=\"tab:red\", label=\"Low Price\", linewidth=2)\n",
    "\n",
    "# membuat label-label\n",
    "ax4.set_title(\"Low Price Bitcoin\", fontsize=14)\n",
    "ax4.set_xlabel(\"Date\", fontsize=12)\n",
    "ax4.set_ylabel(\"Stock Price\", fontsize=12)\n",
    "ax4.legend(loc='upper left')\n",
    "ax4.grid(True)\n",
    "# ----------------------------------------------------------------------------------------------------\n",
    "\n",
    "# set the spacing between subplots\n",
    "plt.subplots_adjust(wspace=0.15, hspace=0.25)\n",
    "\n",
    "# menampilkan plot\n",
    "plt.show()"
   ]
  },
  {
   "cell_type": "code",
   "execution_count": null,
   "metadata": {},
   "outputs": [],
   "source": [
    "# code autocorrelation\n",
    "# membuat frame\n",
    "fig, ax = plt.subplots(nrows=2, ncols=2, facecolor=\"#f0f0f0\", figsize=(20, 10))\n",
    "\n",
    "# plot pacf open price\n",
    "plot_pacf(dataset[\"Open\"], lags=60, method=\"yw\", ax=ax[0][0], color=\"tab:blue\")\n",
    "\n",
    "# membuat label-label\n",
    "ax[0][0].set_title(\"Open Price Bitcoin\", fontsize=14)\n",
    "ax[0][0].set_xlabel(\"N Lag\", fontsize=12)\n",
    "ax[0][0].set_ylabel(\"Partial ACF\", fontsize=12)\n",
    "ax[0][0].grid(True)\n",
    "# ----------------------------------------------------------------------------------------------------\n",
    "\n",
    "# plot pacf close price\n",
    "plot_pacf(dataset[\"Close\"], lags=60, method=\"yw\", ax=ax[0][1], color=\"tab:green\")\n",
    "\n",
    "# membuat label-label\n",
    "ax[0][1].set_title(\"Close Price Bitcoin\", fontsize=14)\n",
    "ax[0][1].set_xlabel(\"N Lag\", fontsize=12)\n",
    "ax[0][1].set_ylabel(\"Partial ACF\", fontsize=12)\n",
    "ax[0][1].grid(True)\n",
    "# ----------------------------------------------------------------------------------------------------\n",
    "\n",
    "# plot pacf high price\n",
    "plot_pacf(dataset[\"High\"], lags=60, method=\"yw\", ax=ax[1][0], color=\"tab:orange\")\n",
    "\n",
    "# membuat label-label\n",
    "ax[1][0].set_title(\"High Price Bitcoin\", fontsize=14)\n",
    "ax[1][0].set_xlabel(\"N Lag\", fontsize=12)\n",
    "ax[0][0].set_ylabel(\"Partial ACF\", fontsize=12)\n",
    "ax[1][0].grid(True)\n",
    "# ----------------------------------------------------------------------------------------------------\n",
    "\n",
    "# plot pacf low price\n",
    "plot_pacf(dataset[\"Low\"], lags=60, method=\"yw\", ax=ax[1][1], color=\"tab:red\")\n",
    "\n",
    "# membuat label-label\n",
    "ax[1][1].set_title(\"Low Price Bitcoin\", fontsize=14)\n",
    "ax[1][1].set_xlabel(\"N Lag\", fontsize=12)\n",
    "ax[0][1].set_ylabel(\"Partial ACF\", fontsize=12)\n",
    "ax[1][1].grid(True)\n",
    "# ----------------------------------------------------------------------------------------------------\n",
    "\n",
    "# set the spacing between subplots\n",
    "plt.subplots_adjust(wspace=0.15, hspace=0.25)\n",
    "\n",
    "# menampilkan plot\n",
    "plt.show()\n"
   ]
  },
  {
   "cell_type": "markdown",
   "metadata": {},
   "source": [
    "### 4. Praproses Dataset"
   ]
  },
  {
   "cell_type": "code",
   "execution_count": null,
   "metadata": {},
   "outputs": [],
   "source": [
    "from sklearn.model_selection import train_test_split"
   ]
  },
  {
   "cell_type": "markdown",
   "metadata": {},
   "source": [
    "- Seleksi Fitur"
   ]
  },
  {
   "cell_type": "code",
   "execution_count": null,
   "metadata": {},
   "outputs": [],
   "source": [
    "# memilih fitur close price\n",
    "dataset = dataset.filter(['Close']);"
   ]
  },
  {
   "cell_type": "code",
   "execution_count": null,
   "metadata": {},
   "outputs": [],
   "source": [
    "# convert dataframe to series close price\n",
    "data = dataset.values"
   ]
  },
  {
   "cell_type": "code",
   "execution_count": null,
   "metadata": {},
   "outputs": [],
   "source": [
    "np.round(data[:5],7)"
   ]
  },
  {
   "cell_type": "code",
   "execution_count": null,
   "metadata": {},
   "outputs": [],
   "source": [
    "train_data, test_data = train_test_split(data, train_size=0.80, test_size=0.20, shuffle=False)"
   ]
  },
  {
   "cell_type": "code",
   "execution_count": null,
   "metadata": {},
   "outputs": [],
   "source": [
    "len(train_data)"
   ]
  },
  {
   "cell_type": "code",
   "execution_count": null,
   "metadata": {},
   "outputs": [],
   "source": [
    "len(dataY)"
   ]
  },
  {
   "cell_type": "code",
   "execution_count": null,
   "metadata": {},
   "outputs": [],
   "source": []
  }
 ],
 "metadata": {
  "kernelspec": {
   "display_name": "Python 3 (ipykernel)",
   "language": "python",
   "name": "python3"
  },
  "language_info": {
   "codemirror_mode": {
    "name": "ipython",
    "version": 3
   },
   "file_extension": ".py",
   "mimetype": "text/x-python",
   "name": "python",
   "nbconvert_exporter": "python",
   "pygments_lexer": "ipython3",
   "version": "3.9.16"
  },
  "vscode": {
   "interpreter": {
    "hash": "37197ad202cea1caf8a636a74cec7c83b945e4f29ac1505900600f740c02611d"
   }
  }
 },
 "nbformat": 4,
 "nbformat_minor": 4
}
