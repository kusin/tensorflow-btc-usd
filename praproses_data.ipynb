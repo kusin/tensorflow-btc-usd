{
 "cells": [
  {
   "cell_type": "markdown",
   "id": "1c5b9b61-0a1c-4df9-b585-7f2efc3b3779",
   "metadata": {},
   "source": [
    "## Stock Price BTC-USD with Neural Network Algorithm"
   ]
  },
  {
   "cell_type": "code",
   "execution_count": 1,
   "id": "fd933092-a554-4b28-903f-51e5f298b57d",
   "metadata": {},
   "outputs": [],
   "source": [
    "# pustaka untuk manipulasi data-frame\n",
    "import pandas as pd\n",
    "from pandas import concat\n",
    "from pandas import read_csv\n",
    "from pandas import read_excel\n",
    "from pandas_datareader import DataReader\n",
    "\n",
    "# pustaka untuk madnipulasi data-array\n",
    "import numpy as np\n",
    "from numpy import concatenate\n",
    "from numpy import array\n",
    "\n",
    "# pustaka untuk waktu komputasi\n",
    "import time\n",
    "from datetime import datetime\n",
    "\n",
    "# pustaka untuk visualisasi data\n",
    "import seaborn as sns\n",
    "from matplotlib import pyplot\n",
    "from matplotlib import pyplot as plt\n",
    "\n",
    "# pustaka untuk visualisasi acf dan pacf\n",
    "import scipy.stats as sc\n",
    "import statsmodels.api as sm\n",
    "from statsmodels.graphics.tsaplots import plot_pacf\n",
    "from statsmodels.graphics.tsaplots import plot_acf\n",
    "        \n",
    "# pustaka untuk membuat data latih dan data uji.\n",
    "from sklearn.model_selection import train_test_split\n",
    "from sklearn.preprocessing import MinMaxScaler\n",
    "from sklearn.preprocessing import LabelEncoder\n",
    "\n",
    "# pustaka untuk membuat model prediksi LSTM-RNN\n",
    "import itertools\n",
    "import tensorflow as tf\n",
    "from keras.utils import Sequence\n",
    "from keras.models import Sequential\n",
    "from keras.layers import SimpleRNN\n",
    "from keras.layers import LSTM\n",
    "from keras.layers import GRU\n",
    "from keras.layers import Dense\n",
    "from keras.layers import Dropout\n",
    "from keras.layers import TimeDistributed\n",
    "from keras.layers import Bidirectional\n",
    "from keras.optimizers import Adam, Adamax, RMSprop, SGD\n",
    "\n",
    "# early stoping\n",
    "from keras.callbacks import EarlyStopping\n",
    "from keras.callbacks import ModelCheckpoint\n",
    "\n",
    "# pustaka untuk  evaluasi model prediksi\n",
    "import math\n",
    "from math import sqrt\n",
    "from sklearn.metrics import mean_squared_error\n",
    "from sklearn.metrics import mean_absolute_error"
   ]
  },
  {
   "cell_type": "markdown",
   "id": "37c57219-72d0-409e-ad81-05e63fbebb4b",
   "metadata": {},
   "source": [
    "### 1. Data Acquisition"
   ]
  },
  {
   "cell_type": "code",
   "execution_count": 2,
   "id": "fbf43dfe-c4f1-47e5-b0e0-429a736bace2",
   "metadata": {},
   "outputs": [],
   "source": [
    "# Set computation time\n",
    "start = time.time()"
   ]
  },
  {
   "cell_type": "code",
   "execution_count": 3,
   "id": "77441277-a3e9-4a69-8849-e389ddad0813",
   "metadata": {},
   "outputs": [],
   "source": [
    "tf.random.set_seed(1234)"
   ]
  },
  {
   "cell_type": "code",
   "execution_count": 4,
   "id": "eed691bc-f4e9-4656-91b2-bd03210b69d2",
   "metadata": {},
   "outputs": [],
   "source": [
    "class Data_Acquisition:\n",
    "    \n",
    "    # method load dataset BTC-USD\n",
    "    def load_dataset():\n",
    "        \n",
    "        # set dataset BTC-USD\n",
    "        dataset = pd.read_csv(\"dataset/BTC-USD.csv\", parse_dates=['Date'])\n",
    "        dataset = dataset.set_index(\"Date\")\n",
    "        \n",
    "        # return values\n",
    "        return dataset"
   ]
  },
  {
   "cell_type": "markdown",
   "id": "45c8aeb9-0ee6-41a0-ae89-dae33c39cb67",
   "metadata": {
    "tags": []
   },
   "source": [
    "### 2. Data Preprocessing"
   ]
  },
  {
   "cell_type": "code",
   "execution_count": 5,
   "id": "299c6067-64b2-4c6e-8981-8012e5d08f24",
   "metadata": {},
   "outputs": [],
   "source": [
    "class Data_preprocessing:\n",
    "    \n",
    "    # method constructor\n",
    "    def __init__(self, feature=[]):\n",
    "        self.feature = feature\n",
    "    # ------------------------------------------------------------------------\n",
    "        \n",
    "    def feature_selection(self):\n",
    "        data = []\n",
    "        data = data.filter(self.feature)\n",
    "        data = data.values\n",
    "        \n",
    "        return data\n",
    "        "
   ]
  },
  {
   "cell_type": "code",
   "execution_count": null,
   "id": "afabc06f-4b4d-49a6-9600-d752f11013ee",
   "metadata": {},
   "outputs": [],
   "source": []
  },
  {
   "cell_type": "code",
   "execution_count": null,
   "id": "6d312a52-2905-4f18-b2c4-638e32c6e314",
   "metadata": {},
   "outputs": [],
   "source": []
  },
  {
   "cell_type": "code",
   "execution_count": null,
   "id": "71f9b874-ae86-4e98-8ef0-97f214706e0d",
   "metadata": {},
   "outputs": [],
   "source": []
  },
  {
   "cell_type": "code",
   "execution_count": null,
   "id": "4d63b11f-d6b2-40f9-a0de-031e0484f1d3",
   "metadata": {},
   "outputs": [],
   "source": []
  },
  {
   "cell_type": "code",
   "execution_count": null,
   "id": "d3144024-ad73-4e08-b2ee-e69a35e78dc2",
   "metadata": {},
   "outputs": [],
   "source": []
  },
  {
   "cell_type": "code",
   "execution_count": null,
   "id": "3253ce29-2eb1-422d-8c3b-06b579e43d94",
   "metadata": {},
   "outputs": [],
   "source": []
  },
  {
   "cell_type": "code",
   "execution_count": null,
   "id": "4a05d745-656f-4240-9dfb-08b95b22d7b0",
   "metadata": {},
   "outputs": [],
   "source": []
  },
  {
   "cell_type": "markdown",
   "id": "6fba3a77-ce5b-4c0b-be36-efbc4557a9ed",
   "metadata": {
    "tags": []
   },
   "source": [
    "### N. Data Visualizatiom"
   ]
  },
  {
   "cell_type": "code",
   "execution_count": 6,
   "id": "98f3b3ad-61e9-491d-9bd1-fe4f38b38a23",
   "metadata": {},
   "outputs": [],
   "source": [
    "class Data_visualization:\n",
    "    \n",
    "    # method constructor\n",
    "    def __init__(self, dataset=[], dataX=[], dataY=[], colors=[], labels=[], x_labels=\"\", y_labels=\"\", titles=\"\"):\n",
    "        self.dataset = dataset\n",
    "        self.dataX = dataX\n",
    "        self.dataY = dataY\n",
    "        self.colors = colors\n",
    "        self.labels = labels\n",
    "        self.x_labels = x_labels\n",
    "        self.y_labels = y_labels\n",
    "        self.titles = titles\n",
    "    # ------------------------------------------------------------------------\n",
    "        \n",
    "    # single column\n",
    "    def time_series(self):\n",
    "        \n",
    "        # make frame plot\n",
    "        fig, ax = plt.subplots(figsize = (10,5))\n",
    "\n",
    "        # make time series plot\n",
    "        ax.plot(self.dataX, self.dataY, color=\"tab:\"+str(self.colors), label=self.labels, linewidth=2)\n",
    "\n",
    "        # set labels\n",
    "        ax.set_title(self.titles, fontsize=12)\n",
    "        ax.set_xlabel(self.x_labels, fontsize=10)\n",
    "        ax.set_ylabel(self.y_labels, fontsize=10)\n",
    "        ax.legend(loc=\"upper left\")\n",
    "        ax.grid(True)\n",
    "\n",
    "        plt.show()\n",
    "    # ------------------------------------------------------------------------\n",
    "    \n",
    "    # multiple columns\n",
    "    def multiple_time_series(self):\n",
    "        \n",
    "        # make frame plot\n",
    "        fig, ax = plt.subplots(figsize = (10,5))\n",
    "        \n",
    "        # make time series plot\n",
    "        for x in range(len(self.dataset.columns)):\n",
    "            ax.plot(self.dataset.index, self.dataset.iloc[:, x:x+1], color=\"tab:\"+str(self.colors[x]), label=self.labels[x], linewidth=2)\n",
    "\n",
    "        # set labels\n",
    "        ax.set_title(self.titles, fontsize=12)\n",
    "        ax.set_xlabel(self.x_labels, fontsize=10)\n",
    "        ax.set_ylabel(self.y_labels, fontsize=10)\n",
    "        ax.legend(loc=\"upper left\")\n",
    "        ax.grid(True)\n",
    "\n",
    "        plt.show()\n",
    "    # ------------------------------------------------------------------------"
   ]
  }
 ],
 "metadata": {
  "kernelspec": {
   "display_name": "Python 3 (ipykernel)",
   "language": "python",
   "name": "python3"
  },
  "language_info": {
   "codemirror_mode": {
    "name": "ipython",
    "version": 3
   },
   "file_extension": ".py",
   "mimetype": "text/x-python",
   "name": "python",
   "nbconvert_exporter": "python",
   "pygments_lexer": "ipython3",
   "version": "3.9.18"
  }
 },
 "nbformat": 4,
 "nbformat_minor": 5
}
