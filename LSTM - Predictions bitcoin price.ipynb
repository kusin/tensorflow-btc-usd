{
 "cells": [
  {
   "cell_type": "markdown",
   "id": "8336f1f9-9276-4e74-bd1d-8f9b0f7f882f",
   "metadata": {},
   "source": [
    "# Warung Kaik"
   ]
  },
  {
   "cell_type": "markdown",
   "id": "634cd523-dc2b-465d-9377-72e18bd551f9",
   "metadata": {},
   "source": [
    "## 1. Library Declaration"
   ]
  },
  {
   "cell_type": "code",
   "execution_count": 1,
   "id": "aec34fe3-eb88-42e7-982c-005ebb451e78",
   "metadata": {},
   "outputs": [],
   "source": [
    "# Library manipulation datafrane\n",
    "# ------------------------------\n",
    "import pandas as pd\n",
    "from pandas import concat\n",
    "from pandas import read_csv\n",
    "from pandas import read_excel\n",
    "from pandas_datareader import DataReader\n",
    "\n",
    "# Library manipulation data array\n",
    "# -------------------------------\n",
    "import numpy as np\n",
    "from numpy import concatenate\n",
    "from numpy import array\n",
    "\n",
    "# Library manipulation datetime\n",
    "# ------------------------------\n",
    "import time\n",
    "from datetime import datetime\n",
    "\n",
    "# Library data visualization\n",
    "# --------------------------\n",
    "import seaborn as sns\n",
    "from matplotlib import pyplot\n",
    "from matplotlib import pyplot as plt\n",
    "\n",
    "# Library time series analysis\n",
    "# ----------------------------\n",
    "import scipy.stats as sc\n",
    "import statsmodels.api as sm\n",
    "from statsmodels.graphics.tsaplots import plot_pacf\n",
    "from statsmodels.graphics.tsaplots import plot_acf\n",
    "        \n",
    "# Library preprocessing data\n",
    "# --------------------------\n",
    "from sklearn.model_selection import train_test_split\n",
    "from sklearn.preprocessing import MinMaxScaler\n",
    "from sklearn.preprocessing import LabelEncoder\n",
    "\n",
    "# Library to make models prediction \n",
    "# ---------------------------------\n",
    "import itertools\n",
    "import tensorflow as tf\n",
    "from keras.utils import Sequence\n",
    "from keras.models import Sequential\n",
    "from keras.layers import SimpleRNN\n",
    "from keras.layers import LSTM\n",
    "from keras.layers import GRU\n",
    "from keras.layers import Dense\n",
    "from keras.layers import Dropout\n",
    "from keras.layers import TimeDistributed\n",
    "from keras.layers import Bidirectional\n",
    "from keras.optimizers import Adam, Adamax, RMSprop, SGD\n",
    "\n",
    "# Library for evaluation models\n",
    "# -----------------------------\n",
    "import math\n",
    "from math import sqrt\n",
    "from sklearn.metrics import mean_squared_error\n",
    "from sklearn.metrics import mean_absolute_error\n",
    "from sklearn.metrics import mean_absolute_percentage_error"
   ]
  },
  {
   "cell_type": "markdown",
   "id": "9ebc8978-8332-4e25-94e9-de9882ca483c",
   "metadata": {},
   "source": [
    "## 2. Data collection"
   ]
  },
  {
   "cell_type": "code",
   "execution_count": 2,
   "id": "758ecbf4-ef9a-4a67-b4ce-c510528167ff",
   "metadata": {},
   "outputs": [],
   "source": [
    "# set computation time\n",
    "start = time.time()"
   ]
  },
  {
   "cell_type": "code",
   "execution_count": 3,
   "id": "6b35df10-7736-4661-b877-be0de2ae9fc4",
   "metadata": {},
   "outputs": [],
   "source": [
    "# set number seed\n",
    "tf.random.set_seed(7)"
   ]
  },
  {
   "cell_type": "code",
   "execution_count": 4,
   "id": "544fec4c-742b-4bf2-ad59-90236b9ff81b",
   "metadata": {},
   "outputs": [],
   "source": [
    "# load dataset\n",
    "dataset = read_csv(\"dataset/BTC-USD.csv\", parse_dates=['Date']);"
   ]
  },
  {
   "cell_type": "code",
   "execution_count": 5,
   "id": "b21ab085-6859-4e14-8732-f57a2386e398",
   "metadata": {},
   "outputs": [
    {
     "name": "stdout",
     "output_type": "stream",
     "text": [
      "<class 'pandas.core.frame.DataFrame'>\n",
      "RangeIndex: 2896 entries, 0 to 2895\n",
      "Data columns (total 7 columns):\n",
      " #   Column     Non-Null Count  Dtype         \n",
      "---  ------     --------------  -----         \n",
      " 0   Date       2896 non-null   datetime64[ns]\n",
      " 1   Open       2896 non-null   float64       \n",
      " 2   High       2896 non-null   float64       \n",
      " 3   Low        2896 non-null   float64       \n",
      " 4   Close      2896 non-null   float64       \n",
      " 5   Adj Close  2896 non-null   float64       \n",
      " 6   Volume     2896 non-null   int64         \n",
      "dtypes: datetime64[ns](1), float64(5), int64(1)\n",
      "memory usage: 158.5 KB\n"
     ]
    }
   ],
   "source": [
    "# view metadata dataset\n",
    "dataset.info()"
   ]
  },
  {
   "cell_type": "code",
   "execution_count": 6,
   "id": "4ad1408a-c4e0-4aaf-a88f-23c3ff4107a8",
   "metadata": {},
   "outputs": [
    {
     "data": {
      "text/html": [
       "<div>\n",
       "<style scoped>\n",
       "    .dataframe tbody tr th:only-of-type {\n",
       "        vertical-align: middle;\n",
       "    }\n",
       "\n",
       "    .dataframe tbody tr th {\n",
       "        vertical-align: top;\n",
       "    }\n",
       "\n",
       "    .dataframe thead th {\n",
       "        text-align: right;\n",
       "    }\n",
       "</style>\n",
       "<table border=\"1\" class=\"dataframe\">\n",
       "  <thead>\n",
       "    <tr style=\"text-align: right;\">\n",
       "      <th></th>\n",
       "      <th>Open</th>\n",
       "      <th>High</th>\n",
       "      <th>Low</th>\n",
       "      <th>Close</th>\n",
       "      <th>Adj Close</th>\n",
       "      <th>Volume</th>\n",
       "    </tr>\n",
       "  </thead>\n",
       "  <tbody>\n",
       "    <tr>\n",
       "      <th>count</th>\n",
       "      <td>2896.000000</td>\n",
       "      <td>2896.000000</td>\n",
       "      <td>2896.000000</td>\n",
       "      <td>2896.000000</td>\n",
       "      <td>2896.000000</td>\n",
       "      <td>2.896000e+03</td>\n",
       "    </tr>\n",
       "    <tr>\n",
       "      <th>mean</th>\n",
       "      <td>13149.534783</td>\n",
       "      <td>13485.262436</td>\n",
       "      <td>12773.448934</td>\n",
       "      <td>13153.611024</td>\n",
       "      <td>13153.611024</td>\n",
       "      <td>1.673386e+10</td>\n",
       "    </tr>\n",
       "    <tr>\n",
       "      <th>std</th>\n",
       "      <td>16409.155989</td>\n",
       "      <td>16830.044971</td>\n",
       "      <td>15921.479471</td>\n",
       "      <td>16403.946301</td>\n",
       "      <td>16403.946301</td>\n",
       "      <td>2.020561e+10</td>\n",
       "    </tr>\n",
       "    <tr>\n",
       "      <th>min</th>\n",
       "      <td>176.897003</td>\n",
       "      <td>211.731003</td>\n",
       "      <td>171.509995</td>\n",
       "      <td>178.102997</td>\n",
       "      <td>178.102997</td>\n",
       "      <td>7.860650e+06</td>\n",
       "    </tr>\n",
       "    <tr>\n",
       "      <th>25%</th>\n",
       "      <td>762.625244</td>\n",
       "      <td>773.658493</td>\n",
       "      <td>750.296265</td>\n",
       "      <td>764.113251</td>\n",
       "      <td>764.113251</td>\n",
       "      <td>1.304910e+08</td>\n",
       "    </tr>\n",
       "    <tr>\n",
       "      <th>50%</th>\n",
       "      <td>7203.029297</td>\n",
       "      <td>7360.274659</td>\n",
       "      <td>7034.664795</td>\n",
       "      <td>7206.265625</td>\n",
       "      <td>7206.265625</td>\n",
       "      <td>7.769794e+09</td>\n",
       "    </tr>\n",
       "    <tr>\n",
       "      <th>75%</th>\n",
       "      <td>17729.801270</td>\n",
       "      <td>18182.687988</td>\n",
       "      <td>16685.660644</td>\n",
       "      <td>17709.528809</td>\n",
       "      <td>17709.528809</td>\n",
       "      <td>2.860266e+10</td>\n",
       "    </tr>\n",
       "    <tr>\n",
       "      <th>max</th>\n",
       "      <td>67549.734375</td>\n",
       "      <td>68789.625000</td>\n",
       "      <td>66382.062500</td>\n",
       "      <td>67566.828125</td>\n",
       "      <td>67566.828125</td>\n",
       "      <td>3.509679e+11</td>\n",
       "    </tr>\n",
       "  </tbody>\n",
       "</table>\n",
       "</div>"
      ],
      "text/plain": [
       "               Open          High           Low         Close     Adj Close  \\\n",
       "count   2896.000000   2896.000000   2896.000000   2896.000000   2896.000000   \n",
       "mean   13149.534783  13485.262436  12773.448934  13153.611024  13153.611024   \n",
       "std    16409.155989  16830.044971  15921.479471  16403.946301  16403.946301   \n",
       "min      176.897003    211.731003    171.509995    178.102997    178.102997   \n",
       "25%      762.625244    773.658493    750.296265    764.113251    764.113251   \n",
       "50%     7203.029297   7360.274659   7034.664795   7206.265625   7206.265625   \n",
       "75%    17729.801270  18182.687988  16685.660644  17709.528809  17709.528809   \n",
       "max    67549.734375  68789.625000  66382.062500  67566.828125  67566.828125   \n",
       "\n",
       "             Volume  \n",
       "count  2.896000e+03  \n",
       "mean   1.673386e+10  \n",
       "std    2.020561e+10  \n",
       "min    7.860650e+06  \n",
       "25%    1.304910e+08  \n",
       "50%    7.769794e+09  \n",
       "75%    2.860266e+10  \n",
       "max    3.509679e+11  "
      ]
     },
     "execution_count": 6,
     "metadata": {},
     "output_type": "execute_result"
    }
   ],
   "source": [
    "# look statistical summary\n",
    "dataset.describe()"
   ]
  },
  {
   "cell_type": "code",
   "execution_count": 7,
   "id": "95438764-458e-47e5-8928-9161e0a300cf",
   "metadata": {},
   "outputs": [
    {
     "data": {
      "text/html": [
       "<div>\n",
       "<style scoped>\n",
       "    .dataframe tbody tr th:only-of-type {\n",
       "        vertical-align: middle;\n",
       "    }\n",
       "\n",
       "    .dataframe tbody tr th {\n",
       "        vertical-align: top;\n",
       "    }\n",
       "\n",
       "    .dataframe thead th {\n",
       "        text-align: right;\n",
       "    }\n",
       "</style>\n",
       "<table border=\"1\" class=\"dataframe\">\n",
       "  <thead>\n",
       "    <tr style=\"text-align: right;\">\n",
       "      <th></th>\n",
       "      <th>Date</th>\n",
       "      <th>Open</th>\n",
       "      <th>High</th>\n",
       "      <th>Low</th>\n",
       "      <th>Close</th>\n",
       "      <th>Adj Close</th>\n",
       "      <th>Volume</th>\n",
       "    </tr>\n",
       "  </thead>\n",
       "  <tbody>\n",
       "    <tr>\n",
       "      <th>0</th>\n",
       "      <td>2014-12-09</td>\n",
       "      <td>361.894989</td>\n",
       "      <td>363.066986</td>\n",
       "      <td>344.950989</td>\n",
       "      <td>352.218994</td>\n",
       "      <td>352.218994</td>\n",
       "      <td>32915500</td>\n",
       "    </tr>\n",
       "    <tr>\n",
       "      <th>1</th>\n",
       "      <td>2014-12-10</td>\n",
       "      <td>352.204987</td>\n",
       "      <td>352.384003</td>\n",
       "      <td>346.364990</td>\n",
       "      <td>346.364990</td>\n",
       "      <td>346.364990</td>\n",
       "      <td>16427700</td>\n",
       "    </tr>\n",
       "    <tr>\n",
       "      <th>2</th>\n",
       "      <td>2014-12-11</td>\n",
       "      <td>344.339996</td>\n",
       "      <td>361.356995</td>\n",
       "      <td>338.763000</td>\n",
       "      <td>350.506012</td>\n",
       "      <td>350.506012</td>\n",
       "      <td>32431300</td>\n",
       "    </tr>\n",
       "    <tr>\n",
       "      <th>3</th>\n",
       "      <td>2014-12-12</td>\n",
       "      <td>350.833008</td>\n",
       "      <td>352.983002</td>\n",
       "      <td>349.290985</td>\n",
       "      <td>352.541992</td>\n",
       "      <td>352.541992</td>\n",
       "      <td>16989800</td>\n",
       "    </tr>\n",
       "    <tr>\n",
       "      <th>4</th>\n",
       "      <td>2014-12-13</td>\n",
       "      <td>352.381012</td>\n",
       "      <td>352.381012</td>\n",
       "      <td>346.588013</td>\n",
       "      <td>347.376007</td>\n",
       "      <td>347.376007</td>\n",
       "      <td>11675900</td>\n",
       "    </tr>\n",
       "    <tr>\n",
       "      <th>...</th>\n",
       "      <td>...</td>\n",
       "      <td>...</td>\n",
       "      <td>...</td>\n",
       "      <td>...</td>\n",
       "      <td>...</td>\n",
       "      <td>...</td>\n",
       "      <td>...</td>\n",
       "    </tr>\n",
       "    <tr>\n",
       "      <th>2891</th>\n",
       "      <td>2022-11-08</td>\n",
       "      <td>20600.671875</td>\n",
       "      <td>20664.607422</td>\n",
       "      <td>17603.544922</td>\n",
       "      <td>18541.271484</td>\n",
       "      <td>18541.271484</td>\n",
       "      <td>118992465607</td>\n",
       "    </tr>\n",
       "    <tr>\n",
       "      <th>2892</th>\n",
       "      <td>2022-11-09</td>\n",
       "      <td>18543.761719</td>\n",
       "      <td>18590.458984</td>\n",
       "      <td>15682.692383</td>\n",
       "      <td>15880.780273</td>\n",
       "      <td>15880.780273</td>\n",
       "      <td>102905151606</td>\n",
       "    </tr>\n",
       "    <tr>\n",
       "      <th>2893</th>\n",
       "      <td>2022-11-10</td>\n",
       "      <td>15883.158203</td>\n",
       "      <td>18054.312500</td>\n",
       "      <td>15834.018555</td>\n",
       "      <td>17586.771484</td>\n",
       "      <td>17586.771484</td>\n",
       "      <td>83202283721</td>\n",
       "    </tr>\n",
       "    <tr>\n",
       "      <th>2894</th>\n",
       "      <td>2022-11-11</td>\n",
       "      <td>17583.251953</td>\n",
       "      <td>17650.943359</td>\n",
       "      <td>16543.482422</td>\n",
       "      <td>17034.292969</td>\n",
       "      <td>17034.292969</td>\n",
       "      <td>55871616488</td>\n",
       "    </tr>\n",
       "    <tr>\n",
       "      <th>2895</th>\n",
       "      <td>2022-11-12</td>\n",
       "      <td>17066.675781</td>\n",
       "      <td>17066.675781</td>\n",
       "      <td>16659.347656</td>\n",
       "      <td>16752.431641</td>\n",
       "      <td>16752.431641</td>\n",
       "      <td>50010157056</td>\n",
       "    </tr>\n",
       "  </tbody>\n",
       "</table>\n",
       "<p>2896 rows × 7 columns</p>\n",
       "</div>"
      ],
      "text/plain": [
       "           Date          Open          High           Low         Close  \\\n",
       "0    2014-12-09    361.894989    363.066986    344.950989    352.218994   \n",
       "1    2014-12-10    352.204987    352.384003    346.364990    346.364990   \n",
       "2    2014-12-11    344.339996    361.356995    338.763000    350.506012   \n",
       "3    2014-12-12    350.833008    352.983002    349.290985    352.541992   \n",
       "4    2014-12-13    352.381012    352.381012    346.588013    347.376007   \n",
       "...         ...           ...           ...           ...           ...   \n",
       "2891 2022-11-08  20600.671875  20664.607422  17603.544922  18541.271484   \n",
       "2892 2022-11-09  18543.761719  18590.458984  15682.692383  15880.780273   \n",
       "2893 2022-11-10  15883.158203  18054.312500  15834.018555  17586.771484   \n",
       "2894 2022-11-11  17583.251953  17650.943359  16543.482422  17034.292969   \n",
       "2895 2022-11-12  17066.675781  17066.675781  16659.347656  16752.431641   \n",
       "\n",
       "         Adj Close        Volume  \n",
       "0       352.218994      32915500  \n",
       "1       346.364990      16427700  \n",
       "2       350.506012      32431300  \n",
       "3       352.541992      16989800  \n",
       "4       347.376007      11675900  \n",
       "...            ...           ...  \n",
       "2891  18541.271484  118992465607  \n",
       "2892  15880.780273  102905151606  \n",
       "2893  17586.771484   83202283721  \n",
       "2894  17034.292969   55871616488  \n",
       "2895  16752.431641   50010157056  \n",
       "\n",
       "[2896 rows x 7 columns]"
      ]
     },
     "execution_count": 7,
     "metadata": {},
     "output_type": "execute_result"
    }
   ],
   "source": [
    "dataset"
   ]
  },
  {
   "cell_type": "markdown",
   "id": "ced1d6ef-ab3a-4a83-906a-3bc4c0394e4e",
   "metadata": {},
   "source": [
    "## 3. Exploratory Data Analysis "
   ]
  },
  {
   "cell_type": "code",
   "execution_count": 8,
   "id": "878b220b-0663-49f3-842d-e7c651b5abec",
   "metadata": {},
   "outputs": [
    {
     "data": {
      "image/png": "[encoded data removed]",
      "text/plain": [
       "<Figure size 1000x500 with 1 Axes>"
      ]
     },
     "metadata": {},
     "output_type": "display_data"
    }
   ],
   "source": [
    "# create a frame\n",
    "fig, ax = plt.subplots(figsize=(10,5))\n",
    "\n",
    "# make a time series plot\n",
    "ax.plot(dataset[\"Date\"], dataset[\"Open\"], color=\"tab:green\", label=\"Open Price\", linewidth=2)\n",
    "ax.plot(dataset[\"Date\"], dataset[\"High\"], color=\"tab:orange\", label=\"High Price\", linewidth=2)\n",
    "ax.plot(dataset[\"Date\"], dataset[\"Low\"], color=\"tab:red\", label=\"Low Price\", linewidth=2)\n",
    "ax.plot(dataset[\"Date\"], dataset[\"Close\"], color=\"tab:blue\", label=\"Close Price\", linewidth=2)\n",
    "\n",
    "# setting labes\n",
    "ax.set_title(\"\", fontsize=14)\n",
    "ax.set_xlabel(\"\", fontsize=12)\n",
    "ax.set_ylabel(\"\", fontsize=12)\n",
    "ax.legend(loc='upper left')\n",
    "ax.grid(True)\n",
    "\n",
    "plt.show()"
   ]
  },
  {
   "cell_type": "markdown",
   "id": "6ba6c65d-7ecf-4164-915b-20193fd68b63",
   "metadata": {},
   "source": [
    "## 4. Prepocessing Data"
   ]
  },
  {
   "cell_type": "markdown",
   "id": "26ea0437-79a7-44f7-a576-fa1dee3a7c3d",
   "metadata": {},
   "source": [
    "- fetaure selection"
   ]
  },
  {
   "cell_type": "code",
   "execution_count": 9,
   "id": "b2e57c57-df25-4a0c-9c64-7f389bc283d5",
   "metadata": {},
   "outputs": [],
   "source": [
    "# choose a feature\n",
    "data = dataset[[\"Close\"]]"
   ]
  },
  {
   "cell_type": "code",
   "execution_count": 10,
   "id": "95a2feff-271c-4267-a1c4-0e41c6e59dba",
   "metadata": {},
   "outputs": [],
   "source": [
    "data = data.values"
   ]
  },
  {
   "cell_type": "code",
   "execution_count": 11,
   "id": "a12b7824-3e00-46ad-a87d-7e61c4f17cc1",
   "metadata": {},
   "outputs": [
    {
     "data": {
      "text/plain": [
       "array([[352.218994],\n",
       "       [346.36499 ],\n",
       "       [350.506012],\n",
       "       [352.541992],\n",
       "       [347.376007]])"
      ]
     },
     "execution_count": 11,
     "metadata": {},
     "output_type": "execute_result"
    }
   ],
   "source": [
    "np.round(data[:5],7)"
   ]
  },
  {
   "cell_type": "code",
   "execution_count": 12,
   "id": "1158300e-6bbc-4809-a94d-b185dc2268bd",
   "metadata": {},
   "outputs": [
    {
     "data": {
      "text/plain": [
       "(2896, 1)"
      ]
     },
     "execution_count": 12,
     "metadata": {},
     "output_type": "execute_result"
    }
   ],
   "source": [
    "data.shape"
   ]
  },
  {
   "cell_type": "markdown",
   "id": "136cf6b2-c502-4424-aa46-3666853d2976",
   "metadata": {},
   "source": [
    "- normalization data"
   ]
  },
  {
   "cell_type": "code",
   "execution_count": 13,
   "id": "598d3862-aaa0-493a-9d26-c574d19d3176",
   "metadata": {},
   "outputs": [],
   "source": [
    "# normalized min-max\n",
    "scaler = MinMaxScaler(feature_range=(0, 1))\n",
    "scaled = scaler.fit_transform(data)"
   ]
  },
  {
   "cell_type": "code",
   "execution_count": 14,
   "id": "57c662da-d9be-43f9-a7f1-1c3d1c03ae6a",
   "metadata": {},
   "outputs": [
    {
     "data": {
      "text/plain": [
       "array([[0.0025838],\n",
       "       [0.0024969],\n",
       "       [0.0025583],\n",
       "       [0.0025885],\n",
       "       [0.0025119]])"
      ]
     },
     "execution_count": 14,
     "metadata": {},
     "output_type": "execute_result"
    }
   ],
   "source": [
    "np.round(scaled[:5],7)"
   ]
  },
  {
   "cell_type": "code",
   "execution_count": 15,
   "id": "6b4914ef-2c61-44fd-8993-ee8a7f8a359c",
   "metadata": {},
   "outputs": [
    {
     "data": {
      "text/plain": [
       "(2896, 1)"
      ]
     },
     "execution_count": 15,
     "metadata": {},
     "output_type": "execute_result"
    }
   ],
   "source": [
    "scaled.shape"
   ]
  },
  {
   "cell_type": "code",
   "execution_count": 16,
   "id": "78d93d73-05b5-437a-aaad-9ee01bd0d135",
   "metadata": {},
   "outputs": [
    {
     "data": {
      "image/png": "[encoded data removed]",
      "text/plain": [
       "<Figure size 1000x500 with 1 Axes>"
      ]
     },
     "metadata": {},
     "output_type": "display_data"
    }
   ],
   "source": [
    "# create a frame\n",
    "fig, ax = plt.subplots(figsize=(10, 5))\n",
    "\n",
    "# make a time series plot\n",
    "ax.plot(dataset[\"Date\"], scaled, color=\"tab:blue\", label=\"Close Price\", linewidth=2)\n",
    "\n",
    "# setting labes\n",
    "ax.set_title(\"\", fontsize=14)\n",
    "ax.set_xlabel(\"\", fontsize=12)\n",
    "ax.set_ylabel(\"\", fontsize=12)\n",
    "ax.legend(loc='upper left')\n",
    "ax.grid(True)\n",
    "\n",
    "plt.show()"
   ]
  },
  {
   "cell_type": "markdown",
   "id": "480da748-8fe2-4f01-b77c-d5be183f609d",
   "metadata": {},
   "source": [
    "## 5. Splitting Data"
   ]
  },
  {
   "cell_type": "code",
   "execution_count": 17,
   "id": "85a652a4-9d54-4351-b8b7-b02d1dc4b28a",
   "metadata": {},
   "outputs": [],
   "source": [
    "# create train data and test data\n",
    "train_data, test_data = train_test_split(scaled, train_size=0.80, test_size=0.20, shuffle=False)"
   ]
  },
  {
   "cell_type": "code",
   "execution_count": 18,
   "id": "b8ac66b3-6cee-4e91-a34a-b84d168abc34",
   "metadata": {},
   "outputs": [
    {
     "data": {
      "text/plain": [
       "array([[0.00258],\n",
       "       [0.0025 ],\n",
       "       [0.00256],\n",
       "       [0.00259],\n",
       "       [0.00251]])"
      ]
     },
     "execution_count": 18,
     "metadata": {},
     "output_type": "execute_result"
    }
   ],
   "source": [
    "# view result train data\n",
    "np.round(train_data[:5],5)"
   ]
  },
  {
   "cell_type": "code",
   "execution_count": 19,
   "id": "b4f7a5af-6a5a-4374-b12d-bd54ae0cc2a2",
   "metadata": {},
   "outputs": [
    {
     "data": {
      "text/plain": [
       "(2316, 1)"
      ]
     },
     "execution_count": 19,
     "metadata": {},
     "output_type": "execute_result"
    }
   ],
   "source": [
    "train_data.shape"
   ]
  },
  {
   "cell_type": "code",
   "execution_count": 20,
   "id": "5a328b54-e7dd-4a43-b267-ee8307c64dee",
   "metadata": {},
   "outputs": [
    {
     "data": {
      "text/plain": [
       "array([[0.88613],\n",
       "       [0.9397 ],\n",
       "       [0.93386],\n",
       "       [0.93689],\n",
       "       [0.91105]])"
      ]
     },
     "execution_count": 20,
     "metadata": {},
     "output_type": "execute_result"
    }
   ],
   "source": [
    "# view result test data\n",
    "np.round(test_data[:5],5)"
   ]
  },
  {
   "cell_type": "code",
   "execution_count": 21,
   "id": "f9fe1dfe-f6da-43f3-8318-e172324c7a7e",
   "metadata": {},
   "outputs": [
    {
     "data": {
      "text/plain": [
       "(580, 1)"
      ]
     },
     "execution_count": 21,
     "metadata": {},
     "output_type": "execute_result"
    }
   ],
   "source": [
    "test_data.shape"
   ]
  },
  {
   "cell_type": "code",
   "execution_count": 22,
   "id": "06f7c8b0-15b0-4e5a-ad41-28b70e3f3eb0",
   "metadata": {},
   "outputs": [
    {
     "data": {
      "image/png": "[encoded data removed]",
      "text/plain": [
       "<Figure size 1000x500 with 1 Axes>"
      ]
     },
     "metadata": {},
     "output_type": "display_data"
    }
   ],
   "source": [
    "# create a frame\n",
    "fig, ax = plt.subplots(figsize=(10,5))\n",
    "\n",
    "# make a time series plot\n",
    "ax.plot(dataset[[\"Date\"]].iloc[0:len(train_data)], train_data, color=\"tab:blue\", label=\"Data training\", linewidth=2)\n",
    "ax.plot(dataset[[\"Date\"]].iloc[len(train_data):len(dataset)], test_data, color=\"tab:red\", label=\"Data testing\", linewidth=2)\n",
    "\n",
    "# setting labes\n",
    "ax.set_title(\"\", fontsize=14)\n",
    "ax.set_xlabel(\"\", fontsize=12)\n",
    "ax.set_ylabel(\"\", fontsize=12)\n",
    "ax.legend(loc='upper left')\n",
    "ax.grid(True)\n",
    "\n",
    "plt.show()"
   ]
  },
  {
   "cell_type": "markdown",
   "id": "245479c2-a31a-4f01-b14a-1e24c4930078",
   "metadata": {},
   "source": [
    "## 6. Supervised Learning"
   ]
  },
  {
   "cell_type": "code",
   "execution_count": 23,
   "id": "acb5ec01-a1f1-414d-b0ac-90f129455035",
   "metadata": {},
   "outputs": [],
   "source": [
    "# convert an array of values into a dataset matrix\n",
    "\n",
    "# function for supervised learning\n",
    "def create_dataset(look_back, dataset):\n",
    "    \n",
    "    # declare variable X and Y\n",
    "    dataX = []\n",
    "    dataY = []\n",
    "    \n",
    "    # for loop for create supervised learning\n",
    "    for i in range(look_back, len(dataset)):\n",
    "        \n",
    "        # insert value X and Y \n",
    "        dataX.append(dataset[i-look_back:i, 0])\n",
    "        dataY.append(dataset[i, 0])\n",
    "        \n",
    "    # return value X and Y\n",
    "    return np.array(dataX), np.array(dataY)"
   ]
  },
  {
   "cell_type": "code",
   "execution_count": 24,
   "id": "01bb480c-1aa8-4616-b728-2417be90666b",
   "metadata": {},
   "outputs": [],
   "source": [
    "# process supervised learning\n",
    "look_back = 60\n",
    "x_train, y_train = create_dataset(look_back, train_data)\n",
    "x_test, y_test = create_dataset(look_back, test_data)"
   ]
  },
  {
   "cell_type": "code",
   "execution_count": 25,
   "id": "fa2211d7-3530-4082-980d-cc764a7f014d",
   "metadata": {},
   "outputs": [
    {
     "name": "stdout",
     "output_type": "stream",
     "text": [
      "(2256, 60) (2256,)\n"
     ]
    }
   ],
   "source": [
    "print(x_train.shape, y_train.shape)"
   ]
  },
  {
   "cell_type": "code",
   "execution_count": 26,
   "id": "f2985767-0a28-49b7-9ed8-c7232b17a180",
   "metadata": {},
   "outputs": [
    {
     "name": "stdout",
     "output_type": "stream",
     "text": [
      "(520, 60) (520,)\n"
     ]
    }
   ],
   "source": [
    "print(x_test.shape, y_test.shape)"
   ]
  },
  {
   "cell_type": "markdown",
   "id": "c4793264-c2ac-4909-833e-12a264a49f4d",
   "metadata": {},
   "source": [
    "- check result train data after supervised learning"
   ]
  },
  {
   "cell_type": "code",
   "execution_count": 27,
   "id": "55023f52-56ed-4481-ac4d-4ebe7980a853",
   "metadata": {},
   "outputs": [],
   "source": [
    "result_train_data = pd.concat([pd.DataFrame(x_train), pd.DataFrame(y_train, columns=['result'])], axis=1)"
   ]
  },
  {
   "cell_type": "code",
   "execution_count": 28,
   "id": "f8b916cf-07e0-4c4b-901d-2715dea0f3aa",
   "metadata": {},
   "outputs": [
    {
     "data": {
      "text/html": [
       "<div>\n",
       "<style scoped>\n",
       "    .dataframe tbody tr th:only-of-type {\n",
       "        vertical-align: middle;\n",
       "    }\n",
       "\n",
       "    .dataframe tbody tr th {\n",
       "        vertical-align: top;\n",
       "    }\n",
       "\n",
       "    .dataframe thead th {\n",
       "        text-align: right;\n",
       "    }\n",
       "</style>\n",
       "<table border=\"1\" class=\"dataframe\">\n",
       "  <thead>\n",
       "    <tr style=\"text-align: right;\">\n",
       "      <th></th>\n",
       "      <th>0</th>\n",
       "      <th>1</th>\n",
       "      <th>2</th>\n",
       "      <th>3</th>\n",
       "      <th>4</th>\n",
       "      <th>5</th>\n",
       "      <th>6</th>\n",
       "      <th>7</th>\n",
       "      <th>8</th>\n",
       "      <th>9</th>\n",
       "      <th>...</th>\n",
       "      <th>51</th>\n",
       "      <th>52</th>\n",
       "      <th>53</th>\n",
       "      <th>54</th>\n",
       "      <th>55</th>\n",
       "      <th>56</th>\n",
       "      <th>57</th>\n",
       "      <th>58</th>\n",
       "      <th>59</th>\n",
       "      <th>result</th>\n",
       "    </tr>\n",
       "  </thead>\n",
       "  <tbody>\n",
       "    <tr>\n",
       "      <th>0</th>\n",
       "      <td>0.002584</td>\n",
       "      <td>0.002497</td>\n",
       "      <td>0.002558</td>\n",
       "      <td>0.002589</td>\n",
       "      <td>0.002512</td>\n",
       "      <td>0.002575</td>\n",
       "      <td>0.002482</td>\n",
       "      <td>0.002210</td>\n",
       "      <td>0.002102</td>\n",
       "      <td>0.001978</td>\n",
       "      <td>...</td>\n",
       "      <td>0.000822</td>\n",
       "      <td>0.000717</td>\n",
       "      <td>0.000584</td>\n",
       "      <td>0.000725</td>\n",
       "      <td>0.000892</td>\n",
       "      <td>0.000730</td>\n",
       "      <td>0.000723</td>\n",
       "      <td>0.000579</td>\n",
       "      <td>0.000655</td>\n",
       "      <td>0.000737</td>\n",
       "    </tr>\n",
       "    <tr>\n",
       "      <th>1</th>\n",
       "      <td>0.002497</td>\n",
       "      <td>0.002558</td>\n",
       "      <td>0.002589</td>\n",
       "      <td>0.002512</td>\n",
       "      <td>0.002575</td>\n",
       "      <td>0.002482</td>\n",
       "      <td>0.002210</td>\n",
       "      <td>0.002102</td>\n",
       "      <td>0.001978</td>\n",
       "      <td>0.002074</td>\n",
       "      <td>...</td>\n",
       "      <td>0.000717</td>\n",
       "      <td>0.000584</td>\n",
       "      <td>0.000725</td>\n",
       "      <td>0.000892</td>\n",
       "      <td>0.000730</td>\n",
       "      <td>0.000723</td>\n",
       "      <td>0.000579</td>\n",
       "      <td>0.000655</td>\n",
       "      <td>0.000737</td>\n",
       "      <td>0.000672</td>\n",
       "    </tr>\n",
       "    <tr>\n",
       "      <th>2</th>\n",
       "      <td>0.002558</td>\n",
       "      <td>0.002589</td>\n",
       "      <td>0.002512</td>\n",
       "      <td>0.002575</td>\n",
       "      <td>0.002482</td>\n",
       "      <td>0.002210</td>\n",
       "      <td>0.002102</td>\n",
       "      <td>0.001978</td>\n",
       "      <td>0.002074</td>\n",
       "      <td>0.002253</td>\n",
       "      <td>...</td>\n",
       "      <td>0.000584</td>\n",
       "      <td>0.000725</td>\n",
       "      <td>0.000892</td>\n",
       "      <td>0.000730</td>\n",
       "      <td>0.000723</td>\n",
       "      <td>0.000579</td>\n",
       "      <td>0.000655</td>\n",
       "      <td>0.000737</td>\n",
       "      <td>0.000672</td>\n",
       "      <td>0.000623</td>\n",
       "    </tr>\n",
       "    <tr>\n",
       "      <th>3</th>\n",
       "      <td>0.002589</td>\n",
       "      <td>0.002512</td>\n",
       "      <td>0.002575</td>\n",
       "      <td>0.002482</td>\n",
       "      <td>0.002210</td>\n",
       "      <td>0.002102</td>\n",
       "      <td>0.001978</td>\n",
       "      <td>0.002074</td>\n",
       "      <td>0.002253</td>\n",
       "      <td>0.002118</td>\n",
       "      <td>...</td>\n",
       "      <td>0.000725</td>\n",
       "      <td>0.000892</td>\n",
       "      <td>0.000730</td>\n",
       "      <td>0.000723</td>\n",
       "      <td>0.000579</td>\n",
       "      <td>0.000655</td>\n",
       "      <td>0.000737</td>\n",
       "      <td>0.000672</td>\n",
       "      <td>0.000623</td>\n",
       "      <td>0.000619</td>\n",
       "    </tr>\n",
       "    <tr>\n",
       "      <th>4</th>\n",
       "      <td>0.002512</td>\n",
       "      <td>0.002575</td>\n",
       "      <td>0.002482</td>\n",
       "      <td>0.002210</td>\n",
       "      <td>0.002102</td>\n",
       "      <td>0.001978</td>\n",
       "      <td>0.002074</td>\n",
       "      <td>0.002253</td>\n",
       "      <td>0.002118</td>\n",
       "      <td>0.002282</td>\n",
       "      <td>...</td>\n",
       "      <td>0.000892</td>\n",
       "      <td>0.000730</td>\n",
       "      <td>0.000723</td>\n",
       "      <td>0.000579</td>\n",
       "      <td>0.000655</td>\n",
       "      <td>0.000737</td>\n",
       "      <td>0.000672</td>\n",
       "      <td>0.000623</td>\n",
       "      <td>0.000619</td>\n",
       "      <td>0.000610</td>\n",
       "    </tr>\n",
       "    <tr>\n",
       "      <th>...</th>\n",
       "      <td>...</td>\n",
       "      <td>...</td>\n",
       "      <td>...</td>\n",
       "      <td>...</td>\n",
       "      <td>...</td>\n",
       "      <td>...</td>\n",
       "      <td>...</td>\n",
       "      <td>...</td>\n",
       "      <td>...</td>\n",
       "      <td>...</td>\n",
       "      <td>...</td>\n",
       "      <td>...</td>\n",
       "      <td>...</td>\n",
       "      <td>...</td>\n",
       "      <td>...</td>\n",
       "      <td>...</td>\n",
       "      <td>...</td>\n",
       "      <td>...</td>\n",
       "      <td>...</td>\n",
       "      <td>...</td>\n",
       "      <td>...</td>\n",
       "    </tr>\n",
       "    <tr>\n",
       "      <th>2251</th>\n",
       "      <td>0.580036</td>\n",
       "      <td>0.574656</td>\n",
       "      <td>0.682879</td>\n",
       "      <td>0.687103</td>\n",
       "      <td>0.663910</td>\n",
       "      <td>0.708297</td>\n",
       "      <td>0.702295</td>\n",
       "      <td>0.696369</td>\n",
       "      <td>0.720286</td>\n",
       "      <td>0.708827</td>\n",
       "      <td>...</td>\n",
       "      <td>0.854328</td>\n",
       "      <td>0.871653</td>\n",
       "      <td>0.871670</td>\n",
       "      <td>0.874296</td>\n",
       "      <td>0.878577</td>\n",
       "      <td>0.852157</td>\n",
       "      <td>0.869292</td>\n",
       "      <td>0.873733</td>\n",
       "      <td>0.860890</td>\n",
       "      <td>0.829083</td>\n",
       "    </tr>\n",
       "    <tr>\n",
       "      <th>2252</th>\n",
       "      <td>0.574656</td>\n",
       "      <td>0.682879</td>\n",
       "      <td>0.687103</td>\n",
       "      <td>0.663910</td>\n",
       "      <td>0.708297</td>\n",
       "      <td>0.702295</td>\n",
       "      <td>0.696369</td>\n",
       "      <td>0.720286</td>\n",
       "      <td>0.708827</td>\n",
       "      <td>0.727448</td>\n",
       "      <td>...</td>\n",
       "      <td>0.871653</td>\n",
       "      <td>0.871670</td>\n",
       "      <td>0.874296</td>\n",
       "      <td>0.878577</td>\n",
       "      <td>0.852157</td>\n",
       "      <td>0.869292</td>\n",
       "      <td>0.873733</td>\n",
       "      <td>0.860890</td>\n",
       "      <td>0.829083</td>\n",
       "      <td>0.862842</td>\n",
       "    </tr>\n",
       "    <tr>\n",
       "      <th>2253</th>\n",
       "      <td>0.682879</td>\n",
       "      <td>0.687103</td>\n",
       "      <td>0.663910</td>\n",
       "      <td>0.708297</td>\n",
       "      <td>0.702295</td>\n",
       "      <td>0.696369</td>\n",
       "      <td>0.720286</td>\n",
       "      <td>0.708827</td>\n",
       "      <td>0.727448</td>\n",
       "      <td>0.771211</td>\n",
       "      <td>...</td>\n",
       "      <td>0.871670</td>\n",
       "      <td>0.874296</td>\n",
       "      <td>0.878577</td>\n",
       "      <td>0.852157</td>\n",
       "      <td>0.869292</td>\n",
       "      <td>0.873733</td>\n",
       "      <td>0.860890</td>\n",
       "      <td>0.829083</td>\n",
       "      <td>0.862842</td>\n",
       "      <td>0.861671</td>\n",
       "    </tr>\n",
       "    <tr>\n",
       "      <th>2254</th>\n",
       "      <td>0.687103</td>\n",
       "      <td>0.663910</td>\n",
       "      <td>0.708297</td>\n",
       "      <td>0.702295</td>\n",
       "      <td>0.696369</td>\n",
       "      <td>0.720286</td>\n",
       "      <td>0.708827</td>\n",
       "      <td>0.727448</td>\n",
       "      <td>0.771211</td>\n",
       "      <td>0.764248</td>\n",
       "      <td>...</td>\n",
       "      <td>0.874296</td>\n",
       "      <td>0.878577</td>\n",
       "      <td>0.852157</td>\n",
       "      <td>0.869292</td>\n",
       "      <td>0.873733</td>\n",
       "      <td>0.860890</td>\n",
       "      <td>0.829083</td>\n",
       "      <td>0.862842</td>\n",
       "      <td>0.861671</td>\n",
       "      <td>0.884645</td>\n",
       "    </tr>\n",
       "    <tr>\n",
       "      <th>2255</th>\n",
       "      <td>0.663910</td>\n",
       "      <td>0.708297</td>\n",
       "      <td>0.702295</td>\n",
       "      <td>0.696369</td>\n",
       "      <td>0.720286</td>\n",
       "      <td>0.708827</td>\n",
       "      <td>0.727448</td>\n",
       "      <td>0.771211</td>\n",
       "      <td>0.764248</td>\n",
       "      <td>0.826697</td>\n",
       "      <td>...</td>\n",
       "      <td>0.878577</td>\n",
       "      <td>0.852157</td>\n",
       "      <td>0.869292</td>\n",
       "      <td>0.873733</td>\n",
       "      <td>0.860890</td>\n",
       "      <td>0.829083</td>\n",
       "      <td>0.862842</td>\n",
       "      <td>0.861671</td>\n",
       "      <td>0.884645</td>\n",
       "      <td>0.890755</td>\n",
       "    </tr>\n",
       "  </tbody>\n",
       "</table>\n",
       "<p>2256 rows × 61 columns</p>\n",
       "</div>"
      ],
      "text/plain": [
       "             0         1         2         3         4         5         6  \\\n",
       "0     0.002584  0.002497  0.002558  0.002589  0.002512  0.002575  0.002482   \n",
       "1     0.002497  0.002558  0.002589  0.002512  0.002575  0.002482  0.002210   \n",
       "2     0.002558  0.002589  0.002512  0.002575  0.002482  0.002210  0.002102   \n",
       "3     0.002589  0.002512  0.002575  0.002482  0.002210  0.002102  0.001978   \n",
       "4     0.002512  0.002575  0.002482  0.002210  0.002102  0.001978  0.002074   \n",
       "...        ...       ...       ...       ...       ...       ...       ...   \n",
       "2251  0.580036  0.574656  0.682879  0.687103  0.663910  0.708297  0.702295   \n",
       "2252  0.574656  0.682879  0.687103  0.663910  0.708297  0.702295  0.696369   \n",
       "2253  0.682879  0.687103  0.663910  0.708297  0.702295  0.696369  0.720286   \n",
       "2254  0.687103  0.663910  0.708297  0.702295  0.696369  0.720286  0.708827   \n",
       "2255  0.663910  0.708297  0.702295  0.696369  0.720286  0.708827  0.727448   \n",
       "\n",
       "             7         8         9  ...        51        52        53  \\\n",
       "0     0.002210  0.002102  0.001978  ...  0.000822  0.000717  0.000584   \n",
       "1     0.002102  0.001978  0.002074  ...  0.000717  0.000584  0.000725   \n",
       "2     0.001978  0.002074  0.002253  ...  0.000584  0.000725  0.000892   \n",
       "3     0.002074  0.002253  0.002118  ...  0.000725  0.000892  0.000730   \n",
       "4     0.002253  0.002118  0.002282  ...  0.000892  0.000730  0.000723   \n",
       "...        ...       ...       ...  ...       ...       ...       ...   \n",
       "2251  0.696369  0.720286  0.708827  ...  0.854328  0.871653  0.871670   \n",
       "2252  0.720286  0.708827  0.727448  ...  0.871653  0.871670  0.874296   \n",
       "2253  0.708827  0.727448  0.771211  ...  0.871670  0.874296  0.878577   \n",
       "2254  0.727448  0.771211  0.764248  ...  0.874296  0.878577  0.852157   \n",
       "2255  0.771211  0.764248  0.826697  ...  0.878577  0.852157  0.869292   \n",
       "\n",
       "            54        55        56        57        58        59    result  \n",
       "0     0.000725  0.000892  0.000730  0.000723  0.000579  0.000655  0.000737  \n",
       "1     0.000892  0.000730  0.000723  0.000579  0.000655  0.000737  0.000672  \n",
       "2     0.000730  0.000723  0.000579  0.000655  0.000737  0.000672  0.000623  \n",
       "3     0.000723  0.000579  0.000655  0.000737  0.000672  0.000623  0.000619  \n",
       "4     0.000579  0.000655  0.000737  0.000672  0.000623  0.000619  0.000610  \n",
       "...        ...       ...       ...       ...       ...       ...       ...  \n",
       "2251  0.874296  0.878577  0.852157  0.869292  0.873733  0.860890  0.829083  \n",
       "2252  0.878577  0.852157  0.869292  0.873733  0.860890  0.829083  0.862842  \n",
       "2253  0.852157  0.869292  0.873733  0.860890  0.829083  0.862842  0.861671  \n",
       "2254  0.869292  0.873733  0.860890  0.829083  0.862842  0.861671  0.884645  \n",
       "2255  0.873733  0.860890  0.829083  0.862842  0.861671  0.884645  0.890755  \n",
       "\n",
       "[2256 rows x 61 columns]"
      ]
     },
     "execution_count": 28,
     "metadata": {},
     "output_type": "execute_result"
    }
   ],
   "source": [
    "result_train_data"
   ]
  },
  {
   "cell_type": "markdown",
   "id": "60ff0b56-e29e-4806-b1a8-94700bab7292",
   "metadata": {},
   "source": [
    "- check result test data after supervised learning"
   ]
  },
  {
   "cell_type": "code",
   "execution_count": 29,
   "id": "f55cc9c8-344e-47ed-b4db-e29685116689",
   "metadata": {},
   "outputs": [],
   "source": [
    "result_test_data = pd.concat([pd.DataFrame(x_test), pd.DataFrame(y_test, columns=['result'])], axis=1)"
   ]
  },
  {
   "cell_type": "code",
   "execution_count": 30,
   "id": "f91d32d1-1e4c-4ae6-9385-d6fccb57c76c",
   "metadata": {},
   "outputs": [
    {
     "data": {
      "text/html": [
       "<div>\n",
       "<style scoped>\n",
       "    .dataframe tbody tr th:only-of-type {\n",
       "        vertical-align: middle;\n",
       "    }\n",
       "\n",
       "    .dataframe tbody tr th {\n",
       "        vertical-align: top;\n",
       "    }\n",
       "\n",
       "    .dataframe thead th {\n",
       "        text-align: right;\n",
       "    }\n",
       "</style>\n",
       "<table border=\"1\" class=\"dataframe\">\n",
       "  <thead>\n",
       "    <tr style=\"text-align: right;\">\n",
       "      <th></th>\n",
       "      <th>0</th>\n",
       "      <th>1</th>\n",
       "      <th>2</th>\n",
       "      <th>3</th>\n",
       "      <th>4</th>\n",
       "      <th>5</th>\n",
       "      <th>6</th>\n",
       "      <th>7</th>\n",
       "      <th>8</th>\n",
       "      <th>9</th>\n",
       "      <th>...</th>\n",
       "      <th>51</th>\n",
       "      <th>52</th>\n",
       "      <th>53</th>\n",
       "      <th>54</th>\n",
       "      <th>55</th>\n",
       "      <th>56</th>\n",
       "      <th>57</th>\n",
       "      <th>58</th>\n",
       "      <th>59</th>\n",
       "      <th>result</th>\n",
       "    </tr>\n",
       "  </thead>\n",
       "  <tbody>\n",
       "    <tr>\n",
       "      <th>0</th>\n",
       "      <td>0.886133</td>\n",
       "      <td>0.939703</td>\n",
       "      <td>0.933859</td>\n",
       "      <td>0.936891</td>\n",
       "      <td>0.911053</td>\n",
       "      <td>0.897861</td>\n",
       "      <td>0.831565</td>\n",
       "      <td>0.824265</td>\n",
       "      <td>0.835376</td>\n",
       "      <td>0.797285</td>\n",
       "      <td>...</td>\n",
       "      <td>0.554946</td>\n",
       "      <td>0.579187</td>\n",
       "      <td>0.544843</td>\n",
       "      <td>0.524922</td>\n",
       "      <td>0.529529</td>\n",
       "      <td>0.495374</td>\n",
       "      <td>0.494067</td>\n",
       "      <td>0.551532</td>\n",
       "      <td>0.541997</td>\n",
       "      <td>0.551373</td>\n",
       "    </tr>\n",
       "    <tr>\n",
       "      <th>1</th>\n",
       "      <td>0.939703</td>\n",
       "      <td>0.933859</td>\n",
       "      <td>0.936891</td>\n",
       "      <td>0.911053</td>\n",
       "      <td>0.897861</td>\n",
       "      <td>0.831565</td>\n",
       "      <td>0.824265</td>\n",
       "      <td>0.835376</td>\n",
       "      <td>0.797285</td>\n",
       "      <td>0.765472</td>\n",
       "      <td>...</td>\n",
       "      <td>0.579187</td>\n",
       "      <td>0.544843</td>\n",
       "      <td>0.524922</td>\n",
       "      <td>0.529529</td>\n",
       "      <td>0.495374</td>\n",
       "      <td>0.494067</td>\n",
       "      <td>0.551532</td>\n",
       "      <td>0.541997</td>\n",
       "      <td>0.551373</td>\n",
       "      <td>0.524931</td>\n",
       "    </tr>\n",
       "    <tr>\n",
       "      <th>2</th>\n",
       "      <td>0.933859</td>\n",
       "      <td>0.936891</td>\n",
       "      <td>0.911053</td>\n",
       "      <td>0.897861</td>\n",
       "      <td>0.831565</td>\n",
       "      <td>0.824265</td>\n",
       "      <td>0.835376</td>\n",
       "      <td>0.797285</td>\n",
       "      <td>0.765472</td>\n",
       "      <td>0.755550</td>\n",
       "      <td>...</td>\n",
       "      <td>0.544843</td>\n",
       "      <td>0.524922</td>\n",
       "      <td>0.529529</td>\n",
       "      <td>0.495374</td>\n",
       "      <td>0.494067</td>\n",
       "      <td>0.551532</td>\n",
       "      <td>0.541997</td>\n",
       "      <td>0.551373</td>\n",
       "      <td>0.524931</td>\n",
       "      <td>0.577541</td>\n",
       "    </tr>\n",
       "    <tr>\n",
       "      <th>3</th>\n",
       "      <td>0.936891</td>\n",
       "      <td>0.911053</td>\n",
       "      <td>0.897861</td>\n",
       "      <td>0.831565</td>\n",
       "      <td>0.824265</td>\n",
       "      <td>0.835376</td>\n",
       "      <td>0.797285</td>\n",
       "      <td>0.765472</td>\n",
       "      <td>0.755550</td>\n",
       "      <td>0.740076</td>\n",
       "      <td>...</td>\n",
       "      <td>0.524922</td>\n",
       "      <td>0.529529</td>\n",
       "      <td>0.495374</td>\n",
       "      <td>0.494067</td>\n",
       "      <td>0.551532</td>\n",
       "      <td>0.541997</td>\n",
       "      <td>0.551373</td>\n",
       "      <td>0.524931</td>\n",
       "      <td>0.577541</td>\n",
       "      <td>0.594170</td>\n",
       "    </tr>\n",
       "    <tr>\n",
       "      <th>4</th>\n",
       "      <td>0.911053</td>\n",
       "      <td>0.897861</td>\n",
       "      <td>0.831565</td>\n",
       "      <td>0.824265</td>\n",
       "      <td>0.835376</td>\n",
       "      <td>0.797285</td>\n",
       "      <td>0.765472</td>\n",
       "      <td>0.755550</td>\n",
       "      <td>0.740076</td>\n",
       "      <td>0.724545</td>\n",
       "      <td>...</td>\n",
       "      <td>0.529529</td>\n",
       "      <td>0.495374</td>\n",
       "      <td>0.494067</td>\n",
       "      <td>0.551532</td>\n",
       "      <td>0.541997</td>\n",
       "      <td>0.551373</td>\n",
       "      <td>0.524931</td>\n",
       "      <td>0.577541</td>\n",
       "      <td>0.594170</td>\n",
       "      <td>0.596957</td>\n",
       "    </tr>\n",
       "    <tr>\n",
       "      <th>...</th>\n",
       "      <td>...</td>\n",
       "      <td>...</td>\n",
       "      <td>...</td>\n",
       "      <td>...</td>\n",
       "      <td>...</td>\n",
       "      <td>...</td>\n",
       "      <td>...</td>\n",
       "      <td>...</td>\n",
       "      <td>...</td>\n",
       "      <td>...</td>\n",
       "      <td>...</td>\n",
       "      <td>...</td>\n",
       "      <td>...</td>\n",
       "      <td>...</td>\n",
       "      <td>...</td>\n",
       "      <td>...</td>\n",
       "      <td>...</td>\n",
       "      <td>...</td>\n",
       "      <td>...</td>\n",
       "      <td>...</td>\n",
       "      <td>...</td>\n",
       "    </tr>\n",
       "    <tr>\n",
       "      <th>515</th>\n",
       "      <td>0.314638</td>\n",
       "      <td>0.319081</td>\n",
       "      <td>0.320397</td>\n",
       "      <td>0.329318</td>\n",
       "      <td>0.298546</td>\n",
       "      <td>0.297720</td>\n",
       "      <td>0.289709</td>\n",
       "      <td>0.290768</td>\n",
       "      <td>0.296036</td>\n",
       "      <td>0.285529</td>\n",
       "      <td>...</td>\n",
       "      <td>0.303575</td>\n",
       "      <td>0.301500</td>\n",
       "      <td>0.301344</td>\n",
       "      <td>0.296510</td>\n",
       "      <td>0.297259</td>\n",
       "      <td>0.311167</td>\n",
       "      <td>0.313177</td>\n",
       "      <td>0.307891</td>\n",
       "      <td>0.303088</td>\n",
       "      <td>0.272496</td>\n",
       "    </tr>\n",
       "    <tr>\n",
       "      <th>516</th>\n",
       "      <td>0.319081</td>\n",
       "      <td>0.320397</td>\n",
       "      <td>0.329318</td>\n",
       "      <td>0.298546</td>\n",
       "      <td>0.297720</td>\n",
       "      <td>0.289709</td>\n",
       "      <td>0.290768</td>\n",
       "      <td>0.296036</td>\n",
       "      <td>0.285529</td>\n",
       "      <td>0.287378</td>\n",
       "      <td>...</td>\n",
       "      <td>0.301500</td>\n",
       "      <td>0.301344</td>\n",
       "      <td>0.296510</td>\n",
       "      <td>0.297259</td>\n",
       "      <td>0.311167</td>\n",
       "      <td>0.313177</td>\n",
       "      <td>0.307891</td>\n",
       "      <td>0.303088</td>\n",
       "      <td>0.272496</td>\n",
       "      <td>0.233016</td>\n",
       "    </tr>\n",
       "    <tr>\n",
       "      <th>517</th>\n",
       "      <td>0.320397</td>\n",
       "      <td>0.329318</td>\n",
       "      <td>0.298546</td>\n",
       "      <td>0.297720</td>\n",
       "      <td>0.289709</td>\n",
       "      <td>0.290768</td>\n",
       "      <td>0.296036</td>\n",
       "      <td>0.285529</td>\n",
       "      <td>0.287378</td>\n",
       "      <td>0.277683</td>\n",
       "      <td>...</td>\n",
       "      <td>0.301344</td>\n",
       "      <td>0.296510</td>\n",
       "      <td>0.297259</td>\n",
       "      <td>0.311167</td>\n",
       "      <td>0.313177</td>\n",
       "      <td>0.307891</td>\n",
       "      <td>0.303088</td>\n",
       "      <td>0.272496</td>\n",
       "      <td>0.233016</td>\n",
       "      <td>0.258332</td>\n",
       "    </tr>\n",
       "    <tr>\n",
       "      <th>518</th>\n",
       "      <td>0.329318</td>\n",
       "      <td>0.298546</td>\n",
       "      <td>0.297720</td>\n",
       "      <td>0.289709</td>\n",
       "      <td>0.290768</td>\n",
       "      <td>0.296036</td>\n",
       "      <td>0.285529</td>\n",
       "      <td>0.287378</td>\n",
       "      <td>0.277683</td>\n",
       "      <td>0.272587</td>\n",
       "      <td>...</td>\n",
       "      <td>0.296510</td>\n",
       "      <td>0.297259</td>\n",
       "      <td>0.311167</td>\n",
       "      <td>0.313177</td>\n",
       "      <td>0.307891</td>\n",
       "      <td>0.303088</td>\n",
       "      <td>0.272496</td>\n",
       "      <td>0.233016</td>\n",
       "      <td>0.258332</td>\n",
       "      <td>0.250134</td>\n",
       "    </tr>\n",
       "    <tr>\n",
       "      <th>519</th>\n",
       "      <td>0.298546</td>\n",
       "      <td>0.297720</td>\n",
       "      <td>0.289709</td>\n",
       "      <td>0.290768</td>\n",
       "      <td>0.296036</td>\n",
       "      <td>0.285529</td>\n",
       "      <td>0.287378</td>\n",
       "      <td>0.277683</td>\n",
       "      <td>0.272587</td>\n",
       "      <td>0.285440</td>\n",
       "      <td>...</td>\n",
       "      <td>0.297259</td>\n",
       "      <td>0.311167</td>\n",
       "      <td>0.313177</td>\n",
       "      <td>0.307891</td>\n",
       "      <td>0.303088</td>\n",
       "      <td>0.272496</td>\n",
       "      <td>0.233016</td>\n",
       "      <td>0.258332</td>\n",
       "      <td>0.250134</td>\n",
       "      <td>0.245951</td>\n",
       "    </tr>\n",
       "  </tbody>\n",
       "</table>\n",
       "<p>520 rows × 61 columns</p>\n",
       "</div>"
      ],
      "text/plain": [
       "            0         1         2         3         4         5         6  \\\n",
       "0    0.886133  0.939703  0.933859  0.936891  0.911053  0.897861  0.831565   \n",
       "1    0.939703  0.933859  0.936891  0.911053  0.897861  0.831565  0.824265   \n",
       "2    0.933859  0.936891  0.911053  0.897861  0.831565  0.824265  0.835376   \n",
       "3    0.936891  0.911053  0.897861  0.831565  0.824265  0.835376  0.797285   \n",
       "4    0.911053  0.897861  0.831565  0.824265  0.835376  0.797285  0.765472   \n",
       "..        ...       ...       ...       ...       ...       ...       ...   \n",
       "515  0.314638  0.319081  0.320397  0.329318  0.298546  0.297720  0.289709   \n",
       "516  0.319081  0.320397  0.329318  0.298546  0.297720  0.289709  0.290768   \n",
       "517  0.320397  0.329318  0.298546  0.297720  0.289709  0.290768  0.296036   \n",
       "518  0.329318  0.298546  0.297720  0.289709  0.290768  0.296036  0.285529   \n",
       "519  0.298546  0.297720  0.289709  0.290768  0.296036  0.285529  0.287378   \n",
       "\n",
       "            7         8         9  ...        51        52        53  \\\n",
       "0    0.824265  0.835376  0.797285  ...  0.554946  0.579187  0.544843   \n",
       "1    0.835376  0.797285  0.765472  ...  0.579187  0.544843  0.524922   \n",
       "2    0.797285  0.765472  0.755550  ...  0.544843  0.524922  0.529529   \n",
       "3    0.765472  0.755550  0.740076  ...  0.524922  0.529529  0.495374   \n",
       "4    0.755550  0.740076  0.724545  ...  0.529529  0.495374  0.494067   \n",
       "..        ...       ...       ...  ...       ...       ...       ...   \n",
       "515  0.290768  0.296036  0.285529  ...  0.303575  0.301500  0.301344   \n",
       "516  0.296036  0.285529  0.287378  ...  0.301500  0.301344  0.296510   \n",
       "517  0.285529  0.287378  0.277683  ...  0.301344  0.296510  0.297259   \n",
       "518  0.287378  0.277683  0.272587  ...  0.296510  0.297259  0.311167   \n",
       "519  0.277683  0.272587  0.285440  ...  0.297259  0.311167  0.313177   \n",
       "\n",
       "           54        55        56        57        58        59    result  \n",
       "0    0.524922  0.529529  0.495374  0.494067  0.551532  0.541997  0.551373  \n",
       "1    0.529529  0.495374  0.494067  0.551532  0.541997  0.551373  0.524931  \n",
       "2    0.495374  0.494067  0.551532  0.541997  0.551373  0.524931  0.577541  \n",
       "3    0.494067  0.551532  0.541997  0.551373  0.524931  0.577541  0.594170  \n",
       "4    0.551532  0.541997  0.551373  0.524931  0.577541  0.594170  0.596957  \n",
       "..        ...       ...       ...       ...       ...       ...       ...  \n",
       "515  0.296510  0.297259  0.311167  0.313177  0.307891  0.303088  0.272496  \n",
       "516  0.297259  0.311167  0.313177  0.307891  0.303088  0.272496  0.233016  \n",
       "517  0.311167  0.313177  0.307891  0.303088  0.272496  0.233016  0.258332  \n",
       "518  0.313177  0.307891  0.303088  0.272496  0.233016  0.258332  0.250134  \n",
       "519  0.307891  0.303088  0.272496  0.233016  0.258332  0.250134  0.245951  \n",
       "\n",
       "[520 rows x 61 columns]"
      ]
     },
     "execution_count": 30,
     "metadata": {},
     "output_type": "execute_result"
    }
   ],
   "source": [
    "result_test_data"
   ]
  },
  {
   "cell_type": "markdown",
   "id": "97c81d30-f568-4019-813b-61d7ad27a30e",
   "metadata": {},
   "source": [
    "- reshape input to be [samples, time steps, features]"
   ]
  },
  {
   "cell_type": "code",
   "execution_count": 31,
   "id": "2656e0d9-5aad-4f4d-86c1-e9d297530bbb",
   "metadata": {},
   "outputs": [
    {
     "name": "stdout",
     "output_type": "stream",
     "text": [
      "(2256, 60, 1)\n"
     ]
    }
   ],
   "source": [
    "# reshape input train data\n",
    "x_train = np.reshape(x_train, (x_train.shape[0], x_train.shape[1], 1))\n",
    "\n",
    "# view dimention train data\n",
    "print(x_train.shape)"
   ]
  },
  {
   "cell_type": "code",
   "execution_count": 32,
   "id": "e3576942-68dd-40bf-9eb5-f3bc98636eb8",
   "metadata": {},
   "outputs": [
    {
     "name": "stdout",
     "output_type": "stream",
     "text": [
      "(520, 60, 1)\n"
     ]
    }
   ],
   "source": [
    "# reshape input train data\n",
    "x_test = np.reshape(x_test, (x_test.shape[0], x_test.shape[1], 1))\n",
    "\n",
    "# view dimention test data\n",
    "print(x_test.shape)"
   ]
  },
  {
   "cell_type": "markdown",
   "id": "85ff263a-067a-4498-9bff-12970b0de068",
   "metadata": {},
   "source": [
    "## 7. Modeling LSTM"
   ]
  },
  {
   "cell_type": "markdown",
   "id": "7477f153-670b-4076-ba52-65239f992171",
   "metadata": {},
   "source": [
    "### 7.1 Vanila-LSTM"
   ]
  },
  {
   "cell_type": "code",
   "execution_count": 33,
   "id": "1da803a6-d491-4b22-a29a-c3b28cf4d126",
   "metadata": {},
   "outputs": [],
   "source": [
    "tf.random.set_seed(7)"
   ]
  },
  {
   "cell_type": "code",
   "execution_count": 34,
   "id": "4048e94d-d07d-4fc1-8a5a-7a7b5ad719ff",
   "metadata": {},
   "outputs": [],
   "source": [
    "# The LSTM-RNN architecture\n",
    "model_1 = tf.keras.Sequential([\n",
    "    \n",
    "    # The input layer\n",
    "    tf.keras.layers.LSTM(units=50, return_sequences=False, input_shape=(x_train.shape[1], 1)),\n",
    "    \n",
    "    tf.keras.layers.Dropout(0.15),\n",
    "    \n",
    "    # The output layer\n",
    "    tf.keras.layers.Dense(1)\n",
    "])"
   ]
  },
  {
   "cell_type": "code",
   "execution_count": 35,
   "id": "b686a005-56d2-45f6-9d6e-6d2264ab5551",
   "metadata": {},
   "outputs": [],
   "source": [
    "# Compile the model LSTM\n",
    "model_1.compile(\n",
    "    optimizer='adam', loss='mean_squared_error'\n",
    ")"
   ]
  },
  {
   "cell_type": "code",
   "execution_count": 36,
   "id": "bc86102f-efb2-45f0-997e-c0a08eede975",
   "metadata": {},
   "outputs": [],
   "source": [
    "# fit network\n",
    "history_1 = model_1.fit(x_train, y_train, batch_size=8, epochs=50, verbose=0, use_multiprocessing=True, shuffle=False)"
   ]
  },
  {
   "cell_type": "code",
   "execution_count": 37,
   "id": "1a828d3e-e94b-46f4-a705-da11923d61bc",
   "metadata": {},
   "outputs": [
    {
     "name": "stdout",
     "output_type": "stream",
     "text": [
      "Model: \"sequential\"\n",
      "_________________________________________________________________\n",
      " Layer (type)                Output Shape              Param #   \n",
      "=================================================================\n",
      " lstm (LSTM)                 (None, 50)                10400     \n",
      "                                                                 \n",
      " dropout (Dropout)           (None, 50)                0         \n",
      "                                                                 \n",
      " dense (Dense)               (None, 1)                 51        \n",
      "                                                                 \n",
      "=================================================================\n",
      "Total params: 10,451\n",
      "Trainable params: 10,451\n",
      "Non-trainable params: 0\n",
      "_________________________________________________________________\n"
     ]
    }
   ],
   "source": [
    "# view architecture lstm\n",
    "model_1.summary()"
   ]
  },
  {
   "cell_type": "code",
   "execution_count": 38,
   "id": "3606fa35-6067-4373-a1fb-40d1fe6577a6",
   "metadata": {},
   "outputs": [
    {
     "name": "stdout",
     "output_type": "stream",
     "text": [
      "17/17 [==============================] - 1s 6ms/step\n"
     ]
    }
   ],
   "source": [
    "# process predictions\n",
    "predictions_1 = model_1.predict(x_test)"
   ]
  },
  {
   "cell_type": "code",
   "execution_count": 39,
   "id": "4fdfb477-156b-485a-8844-e9d0082cde7f",
   "metadata": {},
   "outputs": [
    {
     "data": {
      "text/plain": [
       "array([[0.58009],\n",
       "       [0.58706],\n",
       "       [0.57094],\n",
       "       [0.5957 ],\n",
       "       [0.61929]], dtype=float32)"
      ]
     },
     "execution_count": 39,
     "metadata": {},
     "output_type": "execute_result"
    }
   ],
   "source": [
    "# view output predictions\n",
    "np.round(predictions_1[:5],5)"
   ]
  },
  {
   "cell_type": "markdown",
   "id": "5a94e0de-9c47-4570-b684-64bf73ab5d35",
   "metadata": {},
   "source": [
    "### 7.2 Stacked-LSTM"
   ]
  },
  {
   "cell_type": "markdown",
   "id": "9c54767c-3383-4a19-a9a3-b2940c15610d",
   "metadata": {},
   "source": [
    "### 7.3 Bidirectional-LSTM"
   ]
  },
  {
   "cell_type": "markdown",
   "id": "c3750298-ee7d-45a2-bc55-9575cfe9797a",
   "metadata": {},
   "source": [
    "### 7.4 SB-LSTM"
   ]
  },
  {
   "cell_type": "code",
   "execution_count": null,
   "id": "e9ae93bf-c9f0-4e0f-9271-6fa0c21cc05f",
   "metadata": {},
   "outputs": [],
   "source": []
  },
  {
   "cell_type": "code",
   "execution_count": null,
   "id": "ed75929c-511c-4b79-827b-45d9b392f32e",
   "metadata": {},
   "outputs": [],
   "source": []
  },
  {
   "cell_type": "code",
   "execution_count": null,
   "id": "2d676ae8-f96f-4bbf-8e9b-938d51b568a0",
   "metadata": {},
   "outputs": [],
   "source": []
  },
  {
   "cell_type": "markdown",
   "id": "70c69780-9db9-4b19-9371-7271f92d3473",
   "metadata": {},
   "source": [
    "## 8. Evaluation Model"
   ]
  },
  {
   "cell_type": "markdown",
   "id": "246fb938-7cc7-4a46-9fa7-ae924d5eae1b",
   "metadata": {},
   "source": [
    "### 8.1 Evaluation Vanila-LSTM"
   ]
  },
  {
   "cell_type": "markdown",
   "id": "5c84682e-0c91-491d-845a-788efbcae6a4",
   "metadata": {},
   "source": [
    "- MAE (Mean Absolute Error)"
   ]
  },
  {
   "cell_type": "code",
   "execution_count": 40,
   "id": "46099ea7-f1ca-4bc6-b8c3-3aaf8ecff0f5",
   "metadata": {},
   "outputs": [
    {
     "name": "stdout",
     "output_type": "stream",
     "text": [
      "Test MAE : 0.0356\n"
     ]
    }
   ],
   "source": [
    "mae_1 = mean_absolute_error(y_test, predictions_1)\n",
    "print('Test MAE : %.4f' % mae_1)"
   ]
  },
  {
   "cell_type": "markdown",
   "id": "59ddd286-deea-4496-915e-1a34ffbb77ec",
   "metadata": {},
   "source": [
    "- MSE (Mean Squared Error)"
   ]
  },
  {
   "cell_type": "code",
   "execution_count": 41,
   "id": "cabac05e-c7e4-4253-869b-1e0d1641a675",
   "metadata": {},
   "outputs": [
    {
     "name": "stdout",
     "output_type": "stream",
     "text": [
      "Test MSE: 0.0016\n"
     ]
    }
   ],
   "source": [
    "mse_1 = mean_squared_error(y_test, predictions_1)\n",
    "print('Test MSE: %.4f' % mse_1)"
   ]
  },
  {
   "cell_type": "markdown",
   "id": "68b4fd12-8681-41c5-973c-2d7c5dc5239e",
   "metadata": {},
   "source": [
    "- MAPE (Mean Absolute Percentage Error)"
   ]
  },
  {
   "cell_type": "code",
   "execution_count": 42,
   "id": "a21ad0cf-a9d1-477e-a81c-2a497df3524c",
   "metadata": {},
   "outputs": [
    {
     "name": "stdout",
     "output_type": "stream",
     "text": [
      "Test MAPE: 0.0821\n"
     ]
    }
   ],
   "source": [
    "mape_1 = mean_absolute_percentage_error(y_test, predictions_1)\n",
    "print('Test MAPE: %.4f' % mape_1)"
   ]
  },
  {
   "cell_type": "markdown",
   "id": "8cf9d87c-8bc6-4061-ac59-c548479af6d0",
   "metadata": {},
   "source": [
    "### 8.2 Evaluation Stacked-LSTM"
   ]
  },
  {
   "cell_type": "markdown",
   "id": "b1b86285-2421-4bed-bb5b-04147be03589",
   "metadata": {},
   "source": [
    "### 8.3 Evaluation Bidirectional-LSTM"
   ]
  },
  {
   "cell_type": "markdown",
   "id": "54bddd5f-9fd8-4c12-9614-148c85a46328",
   "metadata": {},
   "source": [
    "### 8.4 Evaluation SB-LSTM"
   ]
  },
  {
   "cell_type": "markdown",
   "id": "f3be98d8-c566-4627-9d10-ef74bf3b75a3",
   "metadata": {},
   "source": [
    "### 8.5 Evaluation All Model"
   ]
  },
  {
   "cell_type": "markdown",
   "id": "0c123ec2-62bc-4e67-8f92-fe3193b5ac02",
   "metadata": {},
   "source": [
    "## 9. Data visualization"
   ]
  },
  {
   "cell_type": "markdown",
   "id": "378fd3a0-b73e-4944-8f4c-fc8c911cbccb",
   "metadata": {},
   "source": [
    "### 9.1 Visualization Lost Function"
   ]
  },
  {
   "cell_type": "code",
   "execution_count": 43,
   "id": "d38f44bc-2c8b-448a-8d74-b0b1bded1328",
   "metadata": {},
   "outputs": [
    {
     "data": {
      "image/png": "[encoded data removed]",
      "text/plain": [
       "<Figure size 2000x1000 with 4 Axes>"
      ]
     },
     "metadata": {},
     "output_type": "display_data"
    }
   ],
   "source": [
    "# create a frame\n",
    "fig, ((ax1, ax2), (ax3, ax4)) = plt.subplots(nrows=2, ncols=2, facecolor=\"#f0f0f0\", figsize=(20, 10))\n",
    "\n",
    "\n",
    "# result loss function\n",
    "ax1.plot(history_1.history['loss'], color=\"tab:blue\", label=\"loss func\", linewidth=2.5)\n",
    "\n",
    "# setting labes\n",
    "ax1.set_title(\"Loss Function - Vanila-LSTM\", fontsize=14)\n",
    "ax1.set_xlabel(\"epoch\", fontsize=10)\n",
    "ax1.set_ylabel(\"loss function\", fontsize=10)\n",
    "ax1.legend(loc='upper right')\n",
    "ax1.grid(True)\n",
    "# ----------------------------------------------------------------------------------------------------\n",
    "\n",
    "# set the spacing between subplots\n",
    "plt.subplots_adjust(wspace=0.15, hspace=0.25)\n",
    "\n",
    "plt.show()"
   ]
  },
  {
   "cell_type": "markdown",
   "id": "86e773d1-89d7-406f-a326-1f7643e7b332",
   "metadata": {},
   "source": [
    "### 9.2 Visualization Evaluations"
   ]
  },
  {
   "cell_type": "markdown",
   "id": "2083baa8-ddca-40ac-8795-859946dd510e",
   "metadata": {},
   "source": [
    "### 9.3 Visualization Result Predictions"
   ]
  },
  {
   "cell_type": "code",
   "execution_count": 44,
   "id": "66722f4b-b292-42c8-947e-2d4159b33f9b",
   "metadata": {},
   "outputs": [
    {
     "data": {
      "image/png": "[encoded data removed]",
      "text/plain": [
       "<Figure size 2000x1000 with 4 Axes>"
      ]
     },
     "metadata": {},
     "output_type": "display_data"
    }
   ],
   "source": [
    "# create a frame\n",
    "fig, ((ax1, ax2), (ax3, ax4)) = plt.subplots(nrows=2, ncols=2, facecolor=\"#f0f0f0\", figsize=(20, 10))\n",
    "\n",
    "# result predictions Valina-LSTM\n",
    "ax1.plot(y_test, color=\"tab:red\", label=\"loss func\", linewidth=2.5)\n",
    "ax1.plot(predictions_1, color=\"tab:blue\", label=\"loss func\", linewidth=2.5)\n",
    "\n",
    "# setting labes\n",
    "ax1.set_title(\"Loss Function - Vanila-LSTM\", fontsize=14)\n",
    "ax1.set_xlabel(\"epoch\", fontsize=10)\n",
    "ax1.set_ylabel(\"loss function\", fontsize=10)\n",
    "ax1.legend(loc='upper right')\n",
    "ax1.grid(True)\n",
    "# ----------------------------------------------------------------------------------------------------\n",
    "\n",
    "# set the spacing between subplots\n",
    "plt.subplots_adjust(wspace=0.15, hspace=0.25)\n",
    "\n",
    "plt.show()"
   ]
  },
  {
   "cell_type": "code",
   "execution_count": null,
   "id": "72fdaa5a-1277-4120-853b-e6d5ffada084",
   "metadata": {},
   "outputs": [],
   "source": []
  },
  {
   "cell_type": "code",
   "execution_count": null,
   "id": "5d582a53-f915-40cb-b467-f1726bfcad50",
   "metadata": {},
   "outputs": [],
   "source": []
  },
  {
   "cell_type": "code",
   "execution_count": null,
   "id": "2465fe23-b011-4274-aaf7-5ef3e7156e3a",
   "metadata": {},
   "outputs": [],
   "source": []
  }
 ],
 "metadata": {
  "kernelspec": {
   "display_name": "Python 3 (ipykernel)",
   "language": "python",
   "name": "python3"
  },
  "language_info": {
   "codemirror_mode": {
    "name": "ipython",
    "version": 3
   },
   "file_extension": ".py",
   "mimetype": "text/x-python",
   "name": "python",
   "nbconvert_exporter": "python",
   "pygments_lexer": "ipython3",
   "version": "3.9.16"
  }
 },
 "nbformat": 4,
 "nbformat_minor": 5
}
